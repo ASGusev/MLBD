{
 "cells": [
  {
   "cell_type": "markdown",
   "metadata": {
    "toc": true
   },
   "source": [
    "<h1>Table of Contents<span class=\"tocSkip\"></span></h1>\n",
    "<div class=\"toc\"><ul class=\"toc-item\"><li><span><a href=\"#Movie-recommendation\" data-toc-modified-id=\"Movie-recommendation-1\"><span class=\"toc-item-num\">1&nbsp;&nbsp;</span>Movie recommendation</a></span><ul class=\"toc-item\"><li><span><a href=\"#Dataset\" data-toc-modified-id=\"Dataset-1.1\"><span class=\"toc-item-num\">1.1&nbsp;&nbsp;</span>Dataset</a></span></li><li><span><a href=\"#Evaluation-Protocol\" data-toc-modified-id=\"Evaluation-Protocol-1.2\"><span class=\"toc-item-num\">1.2&nbsp;&nbsp;</span>Evaluation Protocol</a></span></li><li><span><a href=\"#Models\" data-toc-modified-id=\"Models-1.3\"><span class=\"toc-item-num\">1.3&nbsp;&nbsp;</span>Models</a></span><ul class=\"toc-item\"><li><span><a href=\"#ALS\" data-toc-modified-id=\"ALS-1.3.1\"><span class=\"toc-item-num\">1.3.1&nbsp;&nbsp;</span><a href=\"https://spark.apache.org/docs/latest/ml-collaborative-filtering.html#explicit-vs-implicit-feedback\" target=\"_blank\">ALS</a></a></span></li><li><span><a href=\"#Ваша-формулировка\" data-toc-modified-id=\"Ваша-формулировка-1.3.2\"><span class=\"toc-item-num\">1.3.2&nbsp;&nbsp;</span>Ваша формулировка</a></span></li></ul></li><li><span><a href=\"#Evaluation-Results\" data-toc-modified-id=\"Evaluation-Results-1.4\"><span class=\"toc-item-num\">1.4&nbsp;&nbsp;</span>Evaluation Results</a></span></li></ul></li></ul></div>"
   ]
  },
  {
   "cell_type": "markdown",
   "metadata": {},
   "source": [
    "# Movie recommendation\n",
    "\n",
    "Ваша задача - рекомендация фильмов для пользователей\n"
   ]
  },
  {
   "cell_type": "code",
   "execution_count": 1,
   "metadata": {},
   "outputs": [],
   "source": [
    "%matplotlib inline\n",
    "%config InlineBackend.figure_format = 'retina'\n",
    "\n",
    "import os\n",
    "import sys\n",
    "import glob\n",
    "import pickle\n",
    "import seaborn as sns\n",
    "import matplotlib.pyplot as plt\n",
    "import numpy as np\n",
    "\n",
    "import pyspark\n",
    "from pyspark.conf import SparkConf\n",
    "from pyspark.sql import SQLContext\n",
    "from pyspark.sql import SparkSession\n",
    "\n",
    "\n",
    "spark = SparkSession \\\n",
    "    .builder \\\n",
    "    .master('local[*]') \\\n",
    "    .appName(\"spark_sql_examples\") \\\n",
    "    .config(\"spark.executor.memory\", \"6g\") \\\n",
    "    .config('spark.driver.memory', '6g') \\\n",
    "    .getOrCreate()\n",
    "\n",
    "sc = spark.sparkContext\n",
    "sc.setCheckpointDir('chpd')\n",
    "sqlContext = SQLContext(sc)"
   ]
  },
  {
   "cell_type": "markdown",
   "metadata": {},
   "source": [
    "## Dataset \n",
    "\n",
    "`MovieLens-25M`"
   ]
  },
  {
   "cell_type": "code",
   "execution_count": 2,
   "metadata": {},
   "outputs": [],
   "source": [
    "DATA_PATH = '/workspace/data/ml-10M100K'\n",
    "\n",
    "RATINGS_PATH = os.path.join(DATA_PATH, 'ratings.csv')\n",
    "MOVIES_PATH = os.path.join(DATA_PATH, 'movies.csv')\n",
    "TAGS_PATH = os.path.join(DATA_PATH, 'tags.csv')"
   ]
  },
  {
   "cell_type": "code",
   "execution_count": 3,
   "metadata": {},
   "outputs": [],
   "source": [
    "import pyspark.sql.functions as F\n",
    "from pyspark.sql.types import *\n",
    "\n",
    "\n",
    "ratings_df = sqlContext.read.format(\"com.databricks.spark.csv\") \\\n",
    "    .option(\"delimiter\", \",\") \\\n",
    "    .option(\"header\", \"true\") \\\n",
    "    .option(\"inferSchema\", \"true\") \\\n",
    "    .load('file:///' + RATINGS_PATH)"
   ]
  },
  {
   "cell_type": "markdown",
   "metadata": {},
   "source": [
    "## Evaluation Protocol\n",
    "\n",
    "Так как мы хотим оценивать качество разных алгоритмов рекомендаций, то в первую очередь нам нужно определить\n",
    "* Как разбить данные на `Train`/`Validation`/`Test`;\n",
    "* Какие метрики использовать для оценки качества."
   ]
  },
  {
   "cell_type": "code",
   "execution_count": 4,
   "metadata": {},
   "outputs": [],
   "source": [
    "from pyspark.sql.window import Window\n",
    "\n",
    "\n",
    "timestamp_rank_window = Window().orderBy('timestamp')\n",
    "\n",
    "\n",
    "TRAIN_SHARE = .6\n",
    "VAL_SHARE = .2\n",
    "TEST_SHARE = .2\n",
    "\n",
    "\n",
    "ranked_ratings_df = ratings_df \\\n",
    "    .withColumn('timestamp_rank', F.percent_rank().over(timestamp_rank_window))\n",
    "train_df = ranked_ratings_df \\\n",
    "    .filter(F.col('timestamp_rank') <= TRAIN_SHARE) \\\n",
    "    .drop('timestamp_rank')\n",
    "val_df = ranked_ratings_df \\\n",
    "    .filter((TRAIN_SHARE < F.col('timestamp_rank')) & (F.col('timestamp_rank') <= TRAIN_SHARE + VAL_SHARE)) \\\n",
    "    .drop('timestamp_rank')\n",
    "test_df = ranked_ratings_df \\\n",
    "    .filter(F.col('timestamp_rank') > TRAIN_SHARE + VAL_SHARE) \\\n",
    "    .drop('timestamp_rank')\n",
    "\n",
    "# Данные разбивались общей границей по времени, чтобы не заглядывать вперёд. Недостатком \n",
    "# такого разбиения может быть систематическое различие между валидационной и тестовой \n",
    "# выборками: просмотры, попадающие в валидационную выборку, ближе к тренировочной."
   ]
  },
  {
   "cell_type": "code",
   "execution_count": 5,
   "metadata": {},
   "outputs": [],
   "source": [
    "def get_users(df):\n",
    "    return df \\\n",
    "        .select('userId') \\\n",
    "        .distinct()\n",
    "\n",
    "\n",
    "train_users = get_users(train_df)\n",
    "val_users = get_users(val_df)\n",
    "test_users = get_users(test_df)\n",
    "\n",
    "common_users = train_users \\\n",
    "    .join(val_users, on='userId') \\\n",
    "    .join(test_users, on='userId')\n",
    "\n",
    "train_df = train_df.join(common_users, on='userId').cache()\n",
    "val_df = val_df.join(common_users, on='userId').cache()\n",
    "test_df = test_df.join(common_users, on='userId').cache()\n",
    "\n",
    "# Пользователи, представленные не во всех данных отбрасывались, чтобы убрать вычисления,\n",
    "# не влияющие на метрики."
   ]
  },
  {
   "cell_type": "markdown",
   "metadata": {},
   "source": [
    "## Models\n",
    "\n",
    "Теперь мы можем перейти к формулировке задачи в терминах машинного обучения.\n",
    "\n",
    "Одна из формулировок, к которой мы сведем нашу задачу - **Matrix Completetion**. Данную задачу будем решать с помощью `ALS`"
   ]
  },
  {
   "cell_type": "markdown",
   "metadata": {},
   "source": [
    "### [ALS](https://spark.apache.org/docs/latest/ml-collaborative-filtering.html#explicit-vs-implicit-feedback)"
   ]
  },
  {
   "cell_type": "code",
   "execution_count": 6,
   "metadata": {},
   "outputs": [],
   "source": [
    "from pyspark.ml.recommendation import ALS\n",
    "\n",
    "als = ALS(maxIter=10, regParam=.1, userCol='userId', itemCol='movieId', ratingCol='rating', \n",
    "          coldStartStrategy='drop', rank=10, implicitPrefs=False, nonnegative=True)\n",
    "als_model = als.fit(train_df)"
   ]
  },
  {
   "cell_type": "markdown",
   "metadata": {},
   "source": [
    "Покажите для выбранных вами фильмов топ-20 наиболее похожих фильмов"
   ]
  },
  {
   "cell_type": "code",
   "execution_count": 23,
   "metadata": {},
   "outputs": [],
   "source": [
    "movies_df = sqlContext.read.format(\"com.databricks.spark.csv\") \\\n",
    "    .option(\"delimiter\", \",\") \\\n",
    "    .option(\"header\", \"true\") \\\n",
    "    .option(\"inferSchema\", \"true\") \\\n",
    "    .load('file:///' + MOVIES_PATH) \\\n",
    "    .drop('genres')"
   ]
  },
  {
   "cell_type": "code",
   "execution_count": 35,
   "metadata": {
    "scrolled": true
   },
   "outputs": [
    {
     "data": {
      "text/plain": [
       "[Row(movieId=589, title='Terminator 2: Judgment Day (1991)'),\n",
       " Row(movieId=296, title='Pulp Fiction (1994)'),\n",
       " Row(movieId=5952, title='Lord of the Rings: The Two Towers'),\n",
       " Row(movieId=858, title='Godfather'),\n",
       " Row(movieId=4306, title='Shrek (2001)'),\n",
       " Row(movieId=1, title='Toy Story (1995)'),\n",
       " Row(movieId=2628, title='Star Wars: Episode I - The Phantom Menace (1999)'),\n",
       " Row(movieId=329, title='Star Trek: Generations (1994)'),\n",
       " Row(movieId=4896, title=\"Harry Potter and the Sorcerer's Stone (a.k.a. Harry Potter and the Philosopher's Stone) (2001)\"),\n",
       " Row(movieId=2948, title='From Russia with Love (1963)')]"
      ]
     },
     "execution_count": 35,
     "metadata": {},
     "output_type": "execute_result"
    }
   ],
   "source": [
    "selected_movies = StructType([StructField('movieId', IntegerType())])\n",
    "selected_movies = sqlContext.createDataFrame(\n",
    "    [[589], [296], [5952], [858], [4306], [1], [2628], [329], [4896], [2948]], \n",
    "    schema=selected_movies_schema\n",
    ")\n",
    "selected_movies \\\n",
    "    .join(movies_df, on='movieId') \\\n",
    "    .collect()"
   ]
  },
  {
   "cell_type": "code",
   "execution_count": 36,
   "metadata": {},
   "outputs": [],
   "source": [
    "movie_factors = als_model.itemFactors \\\n",
    "    .withColumnRenamed('id', 'movieId')\n",
    "\n",
    "selected_movies_factors = selected_movies \\\n",
    "    .join(movie_factors, on='movieId') \\\n",
    "    .withColumnRenamed('movieId', 'selectedId') \\\n",
    "    .withColumnRenamed('features', 'selectedFeatures')"
   ]
  },
  {
   "cell_type": "code",
   "execution_count": 37,
   "metadata": {},
   "outputs": [],
   "source": [
    "from scipy.spatial.distance import cosine\n",
    "\n",
    "\n",
    "def cosine_dist(selected_features, features):\n",
    "    return float(cosine(selected_features, features))\n",
    "\n",
    "cosine_dist_udf = F.udf(cosine_dist, FloatType())"
   ]
  },
  {
   "cell_type": "code",
   "execution_count": 38,
   "metadata": {},
   "outputs": [],
   "source": [
    "N_NEIGHBOURS = 20\n",
    "\n",
    "movie_dists = selected_movies_factors \\\n",
    "    .join(movie_factors, on=F.col('movieId') != F.col('selectedId')) \\\n",
    "    .withColumn('d', cosine_dist_udf('selectedFeatures', 'features')) \\\n",
    "    .drop('selectedFeatures') \\\n",
    "    .drop('features')\n",
    "    \n",
    "dist_window = Window().partitionBy('selectedId').orderBy('d')\n",
    "\n",
    "neighbours = movie_dists \\\n",
    "    .withColumn('rank', F.rank().over(dist_window)) \\\n",
    "    .filter(F.col('rank') <= N_NEIGHBOURS) \\\n",
    "    .withColumnRenamed('movieId', 'neighbourId') \\\n",
    "    .drop('rank')\n",
    "\n",
    "# Поскольку реализация ALS в spark не предлагает способв поиска похожих объектов, \n",
    "# выбирались ближайшие по косинусному расстоянию."
   ]
  },
  {
   "cell_type": "code",
   "execution_count": 39,
   "metadata": {},
   "outputs": [
    {
     "data": {
      "text/plain": [
       "[Row(d=0.0030002568382769823, selectedTitle='Godfather', title=\"One Flew Over the Cuckoo's Nest (1975)\"),\n",
       " Row(d=0.005089139100164175, selectedTitle='Godfather', title='Godfather: Part II'),\n",
       " Row(d=0.007284280378371477, selectedTitle='Godfather', title='Halfmoon (Paul Bowles - Halbmond) (1995)'),\n",
       " Row(d=0.007284280378371477, selectedTitle='Godfather', title='Inside (1996)'),\n",
       " Row(d=0.008123008534312248, selectedTitle='Godfather', title='Deer Hunter'),\n",
       " Row(d=0.008655307814478874, selectedTitle='Godfather', title='Cool Hand Luke (1967)'),\n",
       " Row(d=0.008879559114575386, selectedTitle='Godfather', title='Soldier'),\n",
       " Row(d=0.009235410019755363, selectedTitle='Godfather', title='Sherlock Holmes Faces Death (1943)'),\n",
       " Row(d=0.011764594353735447, selectedTitle='Godfather', title='Goodfellas (1990)'),\n",
       " Row(d=0.011827447451651096, selectedTitle='Godfather', title='Swingers (1996)'),\n",
       " Row(d=0.013080274686217308, selectedTitle='Godfather', title='Apocalypse Now (1979)'),\n",
       " Row(d=0.01330265961587429, selectedTitle='Godfather', title='Attack Force Z (a.k.a. The Z Men) (Z-tzu te kung tui) (1982)'),\n",
       " Row(d=0.014070328325033188, selectedTitle='Godfather', title='Butch Cassidy and the Sundance Kid (1969)'),\n",
       " Row(d=0.014624770730733871, selectedTitle='Godfather', title='Player'),\n",
       " Row(d=0.015182427130639553, selectedTitle='Godfather', title='Grateful Dawg (2000)'),\n",
       " Row(d=0.015914438292384148, selectedTitle='Godfather', title='Unforgiven (1992)'),\n",
       " Row(d=0.016356267035007477, selectedTitle='Godfather', title='Deliverance (1972)'),\n",
       " Row(d=0.01651981845498085, selectedTitle='Godfather', title='L.A. Confidential (1997)'),\n",
       " Row(d=0.017284061759710312, selectedTitle='Godfather', title='Being There (1979)'),\n",
       " Row(d=0.017916912212967873, selectedTitle='Godfather', title=\"All the President's Men (1976)\"),\n",
       " Row(d=0.0052531990222632885, selectedTitle='Pulp Fiction (1994)', title='Reservoir Dogs (1992)'),\n",
       " Row(d=0.006589910015463829, selectedTitle='Pulp Fiction (1994)', title='Apocalypse Now (1979)'),\n",
       " Row(d=0.012059133499860764, selectedTitle='Pulp Fiction (1994)', title='Shining'),\n",
       " Row(d=0.01313810609281063, selectedTitle='Pulp Fiction (1994)', title='Goodfellas (1990)'),\n",
       " Row(d=0.013766711577773094, selectedTitle='Pulp Fiction (1994)', title='Full Metal Jacket (1987)'),\n",
       " Row(d=0.01656935177743435, selectedTitle='Pulp Fiction (1994)', title='Confessions of a Dangerous Mind (2002)'),\n",
       " Row(d=0.016631558537483215, selectedTitle='Pulp Fiction (1994)', title='Casino (1995)'),\n",
       " Row(d=0.01681292988359928, selectedTitle='Pulp Fiction (1994)', title='Soldier'),\n",
       " Row(d=0.018050577491521835, selectedTitle='Pulp Fiction (1994)', title='Trainspotting (1996)'),\n",
       " Row(d=0.0184995885938406, selectedTitle='Pulp Fiction (1994)', title='Gangs of New York (2002)'),\n",
       " Row(d=0.019765671342611313, selectedTitle='Pulp Fiction (1994)', title='Clockwork Orange'),\n",
       " Row(d=0.020901434123516083, selectedTitle='Pulp Fiction (1994)', title='Fargo (1996)'),\n",
       " Row(d=0.021321823820471764, selectedTitle='Pulp Fiction (1994)', title='Midnight Express (1978)'),\n",
       " Row(d=0.021484315395355225, selectedTitle='Pulp Fiction (1994)', title='Godfather: Part II'),\n",
       " Row(d=0.021538665518164635, selectedTitle='Pulp Fiction (1994)', title='Leaving Las Vegas (1995)'),\n",
       " Row(d=0.02175634540617466, selectedTitle='Pulp Fiction (1994)', title='Unforgiven (1992)'),\n",
       " Row(d=0.0220665093511343, selectedTitle='Pulp Fiction (1994)', title='King in New York'),\n",
       " Row(d=0.022071704268455505, selectedTitle='Pulp Fiction (1994)', title='I Love You to Death (1990)'),\n",
       " Row(d=0.022777799516916275, selectedTitle='Pulp Fiction (1994)', title='Ran (1985)'),\n",
       " Row(d=0.02349930815398693, selectedTitle='Pulp Fiction (1994)', title='Clay Pigeons (1998)'),\n",
       " Row(d=0.0018260652432218194, selectedTitle=\"Harry Potter and the Sorcerer's Stone (a.k.a. Harry Potter and the Philosopher's Stone) (2001)\", title='Harry Potter and the Chamber of Secrets (2002)'),\n",
       " Row(d=0.0044050621800124645, selectedTitle=\"Harry Potter and the Sorcerer's Stone (a.k.a. Harry Potter and the Philosopher's Stone) (2001)\", title='Star Trek: First Contact (1996)'),\n",
       " Row(d=0.006504099816083908, selectedTitle=\"Harry Potter and the Sorcerer's Stone (a.k.a. Harry Potter and the Philosopher's Stone) (2001)\", title='Lured (1947)'),\n",
       " Row(d=0.008898774161934853, selectedTitle=\"Harry Potter and the Sorcerer's Stone (a.k.a. Harry Potter and the Philosopher's Stone) (2001)\", title='On Guard (Le Bossu) (1997)'),\n",
       " Row(d=0.009871158748865128, selectedTitle=\"Harry Potter and the Sorcerer's Stone (a.k.a. Harry Potter and the Philosopher's Stone) (2001)\", title='Passionada (2002)'),\n",
       " Row(d=0.010364668443799019, selectedTitle=\"Harry Potter and the Sorcerer's Stone (a.k.a. Harry Potter and the Philosopher's Stone) (2001)\", title='Return to Me (2000)'),\n",
       " Row(d=0.010909286327660084, selectedTitle=\"Harry Potter and the Sorcerer's Stone (a.k.a. Harry Potter and the Philosopher's Stone) (2001)\", title='Star Trek III: The Search for Spock (1984)'),\n",
       " Row(d=0.011972447857260704, selectedTitle=\"Harry Potter and the Sorcerer's Stone (a.k.a. Harry Potter and the Philosopher's Stone) (2001)\", title='Die Another Day (2002)'),\n",
       " Row(d=0.012142314575612545, selectedTitle=\"Harry Potter and the Sorcerer's Stone (a.k.a. Harry Potter and the Philosopher's Stone) (2001)\", title='Greenfingers (2000)'),\n",
       " Row(d=0.012660141102969646, selectedTitle=\"Harry Potter and the Sorcerer's Stone (a.k.a. Harry Potter and the Philosopher's Stone) (2001)\", title='That Thing You Do! (1996)'),\n",
       " Row(d=0.012701510451734066, selectedTitle=\"Harry Potter and the Sorcerer's Stone (a.k.a. Harry Potter and the Philosopher's Stone) (2001)\", title='Shrek (2001)'),\n",
       " Row(d=0.01278245821595192, selectedTitle=\"Harry Potter and the Sorcerer's Stone (a.k.a. Harry Potter and the Philosopher's Stone) (2001)\", title='Young Sherlock Holmes (1985)'),\n",
       " Row(d=0.015231226570904255, selectedTitle=\"Harry Potter and the Sorcerer's Stone (a.k.a. Harry Potter and the Philosopher's Stone) (2001)\", title='League of Their Own'),\n",
       " Row(d=0.01573621667921543, selectedTitle=\"Harry Potter and the Sorcerer's Stone (a.k.a. Harry Potter and the Philosopher's Stone) (2001)\", title='Under the Domim Tree (Etz Hadomim Tafus) (1994)'),\n",
       " Row(d=0.01604538783431053, selectedTitle=\"Harry Potter and the Sorcerer's Stone (a.k.a. Harry Potter and the Philosopher's Stone) (2001)\", title='Italian Job'),\n",
       " Row(d=0.01614248752593994, selectedTitle=\"Harry Potter and the Sorcerer's Stone (a.k.a. Harry Potter and the Philosopher's Stone) (2001)\", title=\"There's No Business Like Show Business (1954)\"),\n",
       " Row(d=0.016217265278100967, selectedTitle=\"Harry Potter and the Sorcerer's Stone (a.k.a. Harry Potter and the Philosopher's Stone) (2001)\", title='Mask of Zorro'),\n",
       " Row(d=0.016636235639452934, selectedTitle=\"Harry Potter and the Sorcerer's Stone (a.k.a. Harry Potter and the Philosopher's Stone) (2001)\", title='October Sky (1999)'),\n",
       " Row(d=0.01693805493414402, selectedTitle=\"Harry Potter and the Sorcerer's Stone (a.k.a. Harry Potter and the Philosopher's Stone) (2001)\", title='Star Trek: Insurrection (1998)'),\n",
       " Row(d=0.016939375549554825, selectedTitle=\"Harry Potter and the Sorcerer's Stone (a.k.a. Harry Potter and the Philosopher's Stone) (2001)\", title='Abandon (2002)'),\n",
       " Row(d=0.0047195907682180405, selectedTitle='Star Trek: Generations (1994)', title='Star Trek VI: The Undiscovered Country (1991)'),\n",
       " Row(d=0.00533435819670558, selectedTitle='Star Trek: Generations (1994)', title='U-571 (2000)'),\n",
       " Row(d=0.005447887349873781, selectedTitle='Star Trek: Generations (1994)', title='Star Trek: Insurrection (1998)'),\n",
       " Row(d=0.005546052940189838, selectedTitle='Star Trek: Generations (1994)', title='Star Trek III: The Search for Spock (1984)'),\n",
       " Row(d=0.006195757072418928, selectedTitle='Star Trek: Generations (1994)', title='Jewel of the Nile'),\n",
       " Row(d=0.006379513535648584, selectedTitle='Star Trek: Generations (1994)', title='Ulysses (Ulisse) (1954)'),\n",
       " Row(d=0.007221500389277935, selectedTitle='Star Trek: Generations (1994)', title='Die Another Day (2002)'),\n",
       " Row(d=0.007572066970169544, selectedTitle='Star Trek: Generations (1994)', title='Innerspace (1987)'),\n",
       " Row(d=0.008911963552236557, selectedTitle='Star Trek: Generations (1994)', title='White Fang (1991)'),\n",
       " Row(d=0.010014309547841549, selectedTitle='Star Trek: Generations (1994)', title='Space Cowboys (2000)'),\n",
       " Row(d=0.010063739493489265, selectedTitle='Star Trek: Generations (1994)', title='Chitty Chitty Bang Bang (1968)'),\n",
       " Row(d=0.011233877390623093, selectedTitle='Star Trek: Generations (1994)', title='I.Q. (1994)'),\n",
       " Row(d=0.01129222009330988, selectedTitle='Star Trek: Generations (1994)', title='Frequency (2000)'),\n",
       " Row(d=0.01145718153566122, selectedTitle='Star Trek: Generations (1994)', title='Absolute Power (1997)'),\n",
       " Row(d=0.011514822952449322, selectedTitle='Star Trek: Generations (1994)', title='Mickey Blue Eyes (1999)'),\n",
       " Row(d=0.011647162958979607, selectedTitle='Star Trek: Generations (1994)', title='Picture Bride (Bijo photo) (1994)'),\n",
       " Row(d=0.011677042581140995, selectedTitle='Star Trek: Generations (1994)', title='Moll Flanders (1996)'),\n",
       " Row(d=0.011935248039662838, selectedTitle='Star Trek: Generations (1994)', title='October Sky (1999)'),\n",
       " Row(d=0.01212710328400135, selectedTitle='Star Trek: Generations (1994)', title=\"Emperor's Club\"),\n",
       " Row(d=0.012257562950253487, selectedTitle='Star Trek: Generations (1994)', title='Three Musketeers'),\n",
       " Row(d=0.007710513658821583, selectedTitle='Star Wars: Episode I - The Phantom Menace (1999)', title='Patriot'),\n",
       " Row(d=0.008330275304615498, selectedTitle='Star Wars: Episode I - The Phantom Menace (1999)', title='Rudy (1993)'),\n",
       " Row(d=0.008597655221819878, selectedTitle='Star Wars: Episode I - The Phantom Menace (1999)', title='Kiss the Girls (1997)'),\n",
       " Row(d=0.010944261215627193, selectedTitle='Star Wars: Episode I - The Phantom Menace (1999)', title='Outbreak (1995)'),\n",
       " Row(d=0.011504602618515491, selectedTitle='Star Wars: Episode I - The Phantom Menace (1999)', title='Rock'),\n",
       " Row(d=0.011612959206104279, selectedTitle='Star Wars: Episode I - The Phantom Menace (1999)', title='World Is Not Enough'),\n",
       " Row(d=0.011664342135190964, selectedTitle='Star Wars: Episode I - The Phantom Menace (1999)', title='Clear and Present Danger (1994)'),\n",
       " Row(d=0.012303540483117104, selectedTitle='Star Wars: Episode I - The Phantom Menace (1999)', title='Star Wars: Episode II - Attack of the Clones (2002)'),\n",
       " Row(d=0.01263474952429533, selectedTitle='Star Wars: Episode I - The Phantom Menace (1999)', title='Ransom (1996)'),\n",
       " Row(d=0.012738123536109924, selectedTitle='Star Wars: Episode I - The Phantom Menace (1999)', title='Last Castle'),\n",
       " Row(d=0.013848982751369476, selectedTitle='Star Wars: Episode I - The Phantom Menace (1999)', title='Mission: Impossible 2 (2000)'),\n",
       " Row(d=0.01466891448944807, selectedTitle='Star Wars: Episode I - The Phantom Menace (1999)', title='Sphinx (1981)'),\n",
       " Row(d=0.015131523832678795, selectedTitle='Star Wars: Episode I - The Phantom Menace (1999)', title='Conspiracy Theory (1997)'),\n",
       " Row(d=0.015647152438759804, selectedTitle='Star Wars: Episode I - The Phantom Menace (1999)', title='Along Came a Spider (2001)'),\n",
       " Row(d=0.016608918085694313, selectedTitle='Star Wars: Episode I - The Phantom Menace (1999)', title='Behind Enemy Lines (2001)'),\n",
       " Row(d=0.01672859489917755, selectedTitle='Star Wars: Episode I - The Phantom Menace (1999)', title='Lethal Weapon 3 (1992)'),\n",
       " Row(d=0.016813721507787704, selectedTitle='Star Wars: Episode I - The Phantom Menace (1999)', title='Kid'),\n",
       " Row(d=0.01701345294713974, selectedTitle='Star Wars: Episode I - The Phantom Menace (1999)', title='Blown Away (1994)'),\n",
       " Row(d=0.01780843734741211, selectedTitle='Star Wars: Episode I - The Phantom Menace (1999)', title='Man in the Iron Mask'),\n",
       " Row(d=0.018208671361207962, selectedTitle='Star Wars: Episode I - The Phantom Menace (1999)', title='What Lies Beneath (2000)'),\n",
       " Row(d=0.0022887904196977615, selectedTitle='Toy Story (1995)', title='Toy Story 2 (1999)'),\n",
       " Row(d=0.00583638483658433, selectedTitle='Toy Story (1995)', title=\"Bug's Life\"),\n",
       " Row(d=0.005970237776637077, selectedTitle='Toy Story (1995)', title='Ogre'),\n",
       " Row(d=0.009331750683486462, selectedTitle='Toy Story (1995)', title='Men in Black (1997)'),\n",
       " Row(d=0.010651720687747002, selectedTitle='Toy Story (1995)', title='Star Trek II: The Wrath of Khan (1982)'),\n",
       " Row(d=0.010782923549413681, selectedTitle='Toy Story (1995)', title='Silverado (1985)'),\n",
       " Row(d=0.011600063182413578, selectedTitle='Toy Story (1995)', title='Perfect Candidate'),\n",
       " Row(d=0.01193537563085556, selectedTitle='Toy Story (1995)', title='Aladdin (1992)'),\n",
       " Row(d=0.012028545141220093, selectedTitle='Toy Story (1995)', title='In Search of the Castaways (1962)'),\n",
       " Row(d=0.012087186798453331, selectedTitle='Toy Story (1995)', title='Who Framed Roger Rabbit? (1988)'),\n",
       " Row(d=0.01259421743452549, selectedTitle='Toy Story (1995)', title='Monsters'),\n",
       " Row(d=0.012637999840080738, selectedTitle='Toy Story (1995)', title='Charade (1963)'),\n",
       " Row(d=0.013436291366815567, selectedTitle='Toy Story (1995)', title='Finding Nemo (2003)'),\n",
       " Row(d=0.013619906269013882, selectedTitle='Toy Story (1995)', title='Pirates of the Caribbean: The Curse of the Black Pearl (2003)'),\n",
       " Row(d=0.013726960867643356, selectedTitle='Toy Story (1995)', title='Groundhog Day (1993)'),\n",
       " Row(d=0.014549833722412586, selectedTitle='Toy Story (1995)', title='Raiders of the Lost Ark (Indiana Jones and the Raiders of the Lost Ark) (1981)'),\n",
       " Row(d=0.0147202517837286, selectedTitle='Toy Story (1995)', title='Dish'),\n",
       " Row(d=0.015002088621258736, selectedTitle='Toy Story (1995)', title='Love and a Bullet (2002)'),\n",
       " Row(d=0.015221454203128815, selectedTitle='Toy Story (1995)', title='Presumed Innocent (1990)'),\n",
       " Row(d=0.015451283194124699, selectedTitle='Toy Story (1995)', title='Fugitive'),\n",
       " Row(d=0.006980530451983213, selectedTitle='Terminator 2: Judgment Day (1991)', title='Die Hard (1988)'),\n",
       " Row(d=0.010009528137743473, selectedTitle='Terminator 2: Judgment Day (1991)', title='Terminator'),\n",
       " Row(d=0.010406472720205784, selectedTitle='Terminator 2: Judgment Day (1991)', title='Aliens (1986)'),\n",
       " Row(d=0.01063046045601368, selectedTitle='Terminator 2: Judgment Day (1991)', title='Adventures of Milo and Otis'),\n",
       " Row(d=0.012093444354832172, selectedTitle='Terminator 2: Judgment Day (1991)', title='Total Recall (1990)'),\n",
       " Row(d=0.012752529233694077, selectedTitle='Terminator 2: Judgment Day (1991)', title='Terminator 3: Rise of the Machines (2003)'),\n",
       " Row(d=0.013471807353198528, selectedTitle='Terminator 2: Judgment Day (1991)', title='Poltergeist (1982)'),\n",
       " Row(d=0.01511126384139061, selectedTitle='Terminator 2: Judgment Day (1991)', title='Batman (1989)'),\n",
       " Row(d=0.01514623872935772, selectedTitle='Terminator 2: Judgment Day (1991)', title='Mad Max Beyond Thunderdome (1985)'),\n",
       " Row(d=0.01572473719716072, selectedTitle='Terminator 2: Judgment Day (1991)', title='Lost Boys'),\n",
       " Row(d=0.016014795750379562, selectedTitle='Terminator 2: Judgment Day (1991)', title='Raiders of the Lost Ark (Indiana Jones and the Raiders of the Lost Ark) (1981)'),\n",
       " Row(d=0.016040954738855362, selectedTitle='Terminator 2: Judgment Day (1991)', title='Manhattan Project'),\n",
       " Row(d=0.016096897423267365, selectedTitle='Terminator 2: Judgment Day (1991)', title='Star Wars: Episode V - The Empire Strikes Back (1980)'),\n",
       " Row(d=0.016245940700173378, selectedTitle='Terminator 2: Judgment Day (1991)', title='Dirty Rotten Scoundrels (1988)'),\n",
       " Row(d=0.016305318102240562, selectedTitle='Terminator 2: Judgment Day (1991)', title='Tombstone (1993)'),\n",
       " Row(d=0.01694457046687603, selectedTitle='Terminator 2: Judgment Day (1991)', title='Naked Man'),\n",
       " Row(d=0.01708393543958664, selectedTitle='Terminator 2: Judgment Day (1991)', title=\"Cat's Eye (1985)\"),\n",
       " Row(d=0.017262451350688934, selectedTitle='Terminator 2: Judgment Day (1991)', title='Planes'),\n",
       " Row(d=0.017844850197434425, selectedTitle='Terminator 2: Judgment Day (1991)', title='Dreamscape (1984)'),\n",
       " Row(d=0.01825845055282116, selectedTitle='Terminator 2: Judgment Day (1991)', title='Lord Love a Duck (1966)'),\n",
       " Row(d=0.0031063868664205074, selectedTitle='From Russia with Love (1963)', title='Dr. No (1962)'),\n",
       " Row(d=0.0063485875725746155, selectedTitle='From Russia with Love (1963)', title='To Catch a Thief (1955)'),\n",
       " Row(d=0.006551649421453476, selectedTitle='From Russia with Love (1963)', title='Goldfinger (1964)'),\n",
       " Row(d=0.007994684390723705, selectedTitle='From Russia with Love (1963)', title='Dirty Dozen'),\n",
       " Row(d=0.008790259249508381, selectedTitle='From Russia with Love (1963)', title='48 Hrs. (1982)'),\n",
       " Row(d=0.009547901339828968, selectedTitle='From Russia with Love (1963)', title='Thunderball (1965)'),\n",
       " Row(d=0.0096617816016078, selectedTitle='From Russia with Love (1963)', title='Sting'),\n",
       " Row(d=0.010304761119186878, selectedTitle='From Russia with Love (1963)', title='Spartacus (1960)'),\n",
       " Row(d=0.011157259345054626, selectedTitle='From Russia with Love (1963)', title='Stalag 17 (1953)'),\n",
       " Row(d=0.011296408250927925, selectedTitle='From Russia with Love (1963)', title='Hoosiers (1986)'),\n",
       " Row(d=0.01142994873225689, selectedTitle='From Russia with Love (1963)', title='In Search of the Castaways (1962)'),\n",
       " Row(d=0.01171097718179226, selectedTitle='From Russia with Love (1963)', title='Magnificent Seven'),\n",
       " Row(d=0.01178309042006731, selectedTitle='From Russia with Love (1963)', title='Honeymoon in Vegas (1992)'),\n",
       " Row(d=0.011895212344825268, selectedTitle='From Russia with Love (1963)', title='Odd Couple'),\n",
       " Row(d=0.012046725489199162, selectedTitle='From Russia with Love (1963)', title='Night Shift (1982)'),\n",
       " Row(d=0.012209109030663967, selectedTitle='From Russia with Love (1963)', title='Remo Williams: The Adventure Begins (1985)'),\n",
       " Row(d=0.01227940246462822, selectedTitle='From Russia with Love (1963)', title='Hear My Song (1991)'),\n",
       " Row(d=0.012355364859104156, selectedTitle='From Russia with Love (1963)', title='Suspicion (1941)'),\n",
       " Row(d=0.012518073432147503, selectedTitle='From Russia with Love (1963)', title='Great Escape'),\n",
       " Row(d=0.012787680141627789, selectedTitle='From Russia with Love (1963)', title='Trading Places (1983)'),\n",
       " Row(d=0.004599774722009897, selectedTitle='Shrek (2001)', title='Sneakers (1992)'),\n",
       " Row(d=0.0052771358750760555, selectedTitle='Shrek (2001)', title='Pirates of the Caribbean: The Curse of the Black Pearl (2003)'),\n",
       " Row(d=0.007513808086514473, selectedTitle='Shrek (2001)', title='Young Sherlock Holmes (1985)'),\n",
       " Row(d=0.008288506418466568, selectedTitle='Shrek (2001)', title='Ice Age (2002)'),\n",
       " Row(d=0.008914868347346783, selectedTitle='Shrek (2001)', title='Monsters'),\n",
       " Row(d=0.00966538954526186, selectedTitle='Shrek (2001)', title='He Loves Me... He Loves Me Not (À la folie... pas du tout) (2002)'),\n",
       " Row(d=0.00978480651974678, selectedTitle='Shrek (2001)', title='X2: X-Men United (2003)'),\n",
       " Row(d=0.0098496675491333, selectedTitle='Shrek (2001)', title=\"Bug's Life\"),\n",
       " Row(d=0.0101823965087533, selectedTitle='Shrek (2001)', title='Minority Report (2002)'),\n",
       " Row(d=0.010316711850464344, selectedTitle='Shrek (2001)', title='Lured (1947)'),\n",
       " Row(d=0.010644141584634781, selectedTitle='Shrek (2001)', title='Harry Potter and the Chamber of Secrets (2002)'),\n",
       " Row(d=0.010894503444433212, selectedTitle='Shrek (2001)', title='Bourne Identity'),\n",
       " Row(d=0.011011441238224506, selectedTitle='Shrek (2001)', title='D.O.A. (1988)'),\n",
       " Row(d=0.011398816481232643, selectedTitle='Shrek (2001)', title='WarGames (1983)'),\n",
       " Row(d=0.011753994971513748, selectedTitle='Shrek (2001)', title='Under the Domim Tree (Etz Hadomim Tafus) (1994)'),\n",
       " Row(d=0.012050610966980457, selectedTitle='Shrek (2001)', title='Greenfingers (2000)'),\n",
       " Row(d=0.012092520482838154, selectedTitle='Shrek (2001)', title='Hip Hop Witch'),\n",
       " Row(d=0.012271516025066376, selectedTitle='Shrek (2001)', title='Very Natural Thing'),\n",
       " Row(d=0.012273137457668781, selectedTitle='Shrek (2001)', title='X-Files: Fight the Future'),\n",
       " Row(d=0.012416185811161995, selectedTitle='Shrek (2001)', title='Murder in the First (1995)'),\n",
       " Row(d=0.0014194229152053595, selectedTitle='Lord of the Rings: The Two Towers', title='Lord of the Rings: The Fellowship of the Ring'),\n",
       " Row(d=0.0027599530294537544, selectedTitle='Lord of the Rings: The Two Towers', title='Lord of the Rings: The Return of the King'),\n",
       " Row(d=0.007855353876948357, selectedTitle='Lord of the Rings: The Two Towers', title='Faithful (1996)'),\n",
       " Row(d=0.011176163330674171, selectedTitle='Lord of the Rings: The Two Towers', title='X2: X-Men United (2003)'),\n",
       " Row(d=0.01169706229120493, selectedTitle='Lord of the Rings: The Two Towers', title='X-Men (2000)'),\n",
       " Row(d=0.013644819147884846, selectedTitle='Lord of the Rings: The Two Towers', title='Inspector General'),\n",
       " Row(d=0.014406399801373482, selectedTitle='Lord of the Rings: The Two Towers', title='Love and a Bullet (2002)'),\n",
       " Row(d=0.015202187933027744, selectedTitle='Lord of the Rings: The Two Towers', title='Star Wars: Episode V - The Empire Strikes Back (1980)'),\n",
       " Row(d=0.016012459993362427, selectedTitle='Lord of the Rings: The Two Towers', title='Pirates of the Caribbean: The Curse of the Black Pearl (2003)'),\n",
       " Row(d=0.01607135310769081, selectedTitle='Lord of the Rings: The Two Towers', title=\"Ferris Bueller's Day Off (1986)\"),\n",
       " Row(d=0.01682383567094803, selectedTitle='Lord of the Rings: The Two Towers', title='Matrix'),\n",
       " Row(d=0.017327362671494484, selectedTitle='Lord of the Rings: The Two Towers', title='Secret of NIMH'),\n",
       " Row(d=0.017444759607315063, selectedTitle='Lord of the Rings: The Two Towers', title='WarGames (1983)'),\n",
       " Row(d=0.017861850559711456, selectedTitle='Lord of the Rings: The Two Towers', title='Silverado (1985)'),\n",
       " Row(d=0.01826753094792366, selectedTitle='Lord of the Rings: The Two Towers', title='Star Wars: Episode IV - A New Hope (a.k.a. Star Wars) (1977)'),\n",
       " Row(d=0.018435873091220856, selectedTitle='Lord of the Rings: The Two Towers', title='Tron (1982)'),\n",
       " Row(d=0.01868884079158306, selectedTitle='Lord of the Rings: The Two Towers', title='American Me (1992)'),\n",
       " Row(d=0.020128723233938217, selectedTitle='Lord of the Rings: The Two Towers', title='X-Files: Fight the Future'),\n",
       " Row(d=0.020246127620339394, selectedTitle='Lord of the Rings: The Two Towers', title='Indiana Jones and the Last Crusade (1989)'),\n",
       " Row(d=0.020418837666511536, selectedTitle='Lord of the Rings: The Two Towers', title='Dark City (1998)')]"
      ]
     },
     "execution_count": 39,
     "metadata": {},
     "output_type": "execute_result"
    }
   ],
   "source": [
    "neighbours \\\n",
    "    .join(movies_df, on=F.col('selectedId') == F.col('movieId')) \\\n",
    "    .drop('movieId') \\\n",
    "    .withColumnRenamed('title', 'selectedTitle') \\\n",
    "    .join(movies_df, on=F.col('neighbourId') == F.col('movieId')) \\\n",
    "    .drop('movieId') \\\n",
    "    .drop('selectedId') \\\n",
    "    .drop('neighbourId') \\\n",
    "    .collect()"
   ]
  },
  {
   "cell_type": "markdown",
   "metadata": {},
   "source": [
    "### Ваша формулировка\n",
    "\n",
    "На лекции было еще несколько ML формулировок задачи рекомендаций. Выберете одну из них и реализуйте метод."
   ]
  },
  {
   "cell_type": "code",
   "execution_count": 26,
   "metadata": {},
   "outputs": [],
   "source": [
    "from itertools import chain\n",
    "\n",
    "\n",
    "SAMPLING_RATIO = .003\n",
    "\n",
    "\n",
    "def pref_id(pref):\n",
    "    def cast(identifier):\n",
    "        return pref + str(identifier)\n",
    "    return F.udf(cast, StringType())\n",
    "\n",
    "\n",
    "def make_walks(data, walk_len, min_rating):\n",
    "    edges = data \\\n",
    "        .filter(F.col('rating') >= min_rating) \\\n",
    "        .drop('rating') \\\n",
    "        .drop('timestamp')\n",
    "    walks = edges \\\n",
    "        .sample(SAMPLING_RATIO) \\\n",
    "        .withColumnRenamed('userId', 'u0') \\\n",
    "        .withColumnRenamed('movieId', 'm0')\n",
    "    for i in range(1, walk_len):\n",
    "        col_prev_movie = 'm' + str(i - 1)\n",
    "        col_cur_movie = 'm' + str(i)\n",
    "        col_cur_user = 'u' + str(i)\n",
    "        walks = walks \\\n",
    "            .join(edges.sample(SAMPLING_RATIO), on=\n",
    "                  F.col(col_prev_movie) == F.col('movieId')) \\\n",
    "            .withColumnRenamed('userId', col_cur_user) \\\n",
    "            .drop('movieId') \\\n",
    "            .join(edges.sample(SAMPLING_RATIO), on=\n",
    "                  F.col(col_cur_user) == F.col('userId')) \\\n",
    "            . withColumnRenamed('movieId', col_cur_movie) \\\n",
    "            .drop('userId')\n",
    "        \n",
    "    for i in range(walk_len):\n",
    "        c_cur_movie = 'm' + str(i)\n",
    "        c_cur_user = 'u' + str(i)\n",
    "        walks = walks \\\n",
    "            .withColumn(c_cur_movie, pref_id('m')(c_cur_movie)) \\\n",
    "            .withColumn(c_cur_user, pref_id('u')(c_cur_user))\n",
    "    \n",
    "    node_columns = list(chain(*(('u' + str(i), 'm' + str(i)) for i in range(walk_len))))\n",
    "    walks = walks \\\n",
    "        .withColumn('walks', F.array(*node_columns)) \\\n",
    "        .drop(*node_columns)\n",
    "    return walks.cache()\n",
    "\n",
    "# Для обучения DeepWalk необходимы случайные блуждания в графе. Блуждания генерировались\n",
    "# последовательным добавлением рёбер из случайного подмножества, нового на каждой итерации.\n",
    "# Доля используемых рёбер подбиралась вручную для получения оптимального количества \n",
    "# блужданий. При изменении некоторых других параметров потребуется подбирать её заново."
   ]
  },
  {
   "cell_type": "code",
   "execution_count": 42,
   "metadata": {},
   "outputs": [],
   "source": [
    "from pyspark.ml.feature import Word2Vec\n",
    "\n",
    "\n",
    "def unpref_id(pref):\n",
    "    def cast(identifier):\n",
    "        return int(identifier[1:]) if identifier[0] == pref else -1\n",
    "    return F.udf(cast, IntegerType())\n",
    "\n",
    "\n",
    "def select_vectors(id_col_name, vec_col_name, pref, vec_model):\n",
    "    return vec_model.getVectors() \\\n",
    "        .withColumn(id_col_name, unpref_id(pref)('word')) \\\n",
    "        .filter(F.col(id_col_name) >= 0) \\\n",
    "        .drop('word') \\\n",
    "        .withColumnRenamed('vector', vec_col_name)\n",
    "        \n",
    "\n",
    "\n",
    "class DeepWalkModel():\n",
    "    def __init__(self, word2vec_model, occured_interactions):\n",
    "        self.user_vecs = select_vectors('userId', 'user_vector', 'u', word2vec_model)\n",
    "        self.movie_vecs = select_vectors('movieId', 'movie_vector', 'm', word2vec_model)\n",
    "        self.occured_interactions = occured_interactions\n",
    "    \n",
    "    def recommend(self, n):\n",
    "        user_window = Window().partitionBy('userId').orderBy('d')\n",
    "        \n",
    "        return self.user_vecs \\\n",
    "            .crossJoin(self.movie_vecs) \\\n",
    "            .join(self.occured_interactions, on=['userId', 'movieId'], how='left') \\\n",
    "            .filter(F.isnull('interacted')) \\\n",
    "            .drop('interacted') \\\n",
    "            .withColumn('d', cosine_dist_udf('user_vector', 'movie_vector')) \\\n",
    "            .withColumn('rank', F.rank().over(user_window)) \\\n",
    "            .filter(F.col('rank') <= n) \\\n",
    "            .drop('d')\n",
    "    \n",
    "    \n",
    "class DeepWalk():\n",
    "    def __init__(self, vectorSize=100, stepSize=0.025, \n",
    "                 maxIter=1, windowSize=5, walkLen=20, minRating=3.):\n",
    "        self.vectorSize = vectorSize\n",
    "        self.stepSize=stepSize\n",
    "        self.maxIter = maxIter\n",
    "        self.windowSize = windowSize\n",
    "        self.walkLen = walkLen\n",
    "        self.minRating = minRating\n",
    "        \n",
    "    def fit(self, data, walks=None):\n",
    "        w2v = Word2Vec(vectorSize=self.vectorSize, minCount=1, \n",
    "                       stepSize=self.stepSize, maxIter=self.maxIter, \n",
    "                       inputCol='walks', outputCol='deepWalkEmbedding', \n",
    "                       windowSize=self.windowSize)\n",
    "        if walks is None:\n",
    "            walks = make_walks(data, self.walkLen, self.minRating)\n",
    "        w2v_model = w2v.fit(walks)\n",
    "        occured_interactions = data \\\n",
    "            .filter(F.col('rating') > self.minRating) \\\n",
    "            .select('userId', 'movieId') \\\n",
    "            .withColumn('interacted', F.lit(True))\n",
    "        return DeepWalkModel(w2v_model, occured_interactions)\n",
    "    \n",
    "# Из-за неочевидности группировки рейтингов фильмов по сессиям была выбрана формулировка \n",
    "# предсказания рёбер. Поскольку вес рёбер не учитывается, негативные оценки отбрасывались.\n",
    "# Модель DeepWalk была выбрана из-за удобства реализации через Word2Vec в spark."
   ]
  },
  {
   "cell_type": "markdown",
   "metadata": {},
   "source": [
    "## Evaluation Results\n",
    "\n",
    "Сравните реализованные методы с помощью выбранных метрик. Не забывайте про оптимизацию гиперпараметров."
   ]
  },
  {
   "cell_type": "code",
   "execution_count": 13,
   "metadata": {},
   "outputs": [],
   "source": [
    "def get_users(df):\n",
    "    return df \\\n",
    "        .select('userId') \\\n",
    "        .distinct()\n",
    "\n",
    "\n",
    "def get_relevant_recs(recs, gt):\n",
    "    return recs.join(gt, on=(recs.userId == gt.userId) & (recs.movieId == gt.movieId)) \\\n",
    "        .drop(gt.movieId) \\\n",
    "        .drop(gt.userId)"
   ]
  },
  {
   "cell_type": "code",
   "execution_count": 14,
   "metadata": {},
   "outputs": [],
   "source": [
    "def precision_at_k(recs, gt, k):\n",
    "    relevant_recs = get_relevant_recs(recs, gt) \\\n",
    "        .filter(F.col('rank') <= k)\n",
    "    all_users = get_users(recs)\n",
    "    return relevant_recs \\\n",
    "        .groupBy(F.col('userId')) \\\n",
    "        .agg(F.count('movieID').alias('relevant')) \\\n",
    "        .withColumn('prec', F.col('relevant') / k) \\\n",
    "        .drop('relevant') \\\n",
    "        .join(all_users, on='userId', how='right') \\\n",
    "        .fillna(0) \\\n",
    "        .select(F.avg('prec').alias('prec')) \\\n",
    "        .collect()[0].prec"
   ]
  },
  {
   "cell_type": "code",
   "execution_count": 15,
   "metadata": {},
   "outputs": [],
   "source": [
    "def hr(recs, gt):\n",
    "    relevant_recs = get_relevant_recs(recs, gt)\n",
    "    return get_users(relevant_recs).count() / get_users(recs).count()"
   ]
  },
  {
   "cell_type": "code",
   "execution_count": 16,
   "metadata": {},
   "outputs": [],
   "source": [
    "from pyspark.sql import Row\n",
    "\n",
    "\n",
    "def flat_recs(recs):\n",
    "    return ([\n",
    "        (recs.userId, movieId, i)\n",
    "        for i, (movieId, _) in enumerate(recs.recommendations, 1)\n",
    "    ])\n",
    "\n",
    "\n",
    "def recommend(model, n):\n",
    "    return model.recommendForAllUsers(n) \\\n",
    "        .rdd \\\n",
    "        .flatMap(flat_recs) \\\n",
    "        .map(lambda r: Row(userId=r[0], movieId=r[1], rank=r[2])) \\\n",
    "        .toDF() \\\n",
    "        .repartition(4)"
   ]
  },
  {
   "cell_type": "code",
   "execution_count": 18,
   "metadata": {},
   "outputs": [
    {
     "data": {
      "text/plain": [
       "(0.0280346820809249, 0.2153179190751445)"
      ]
     },
     "execution_count": 18,
     "metadata": {},
     "output_type": "execute_result"
    }
   ],
   "source": [
    "als_recommndations = recommend(als_model, 10)\n",
    "\n",
    "precision_at_k(als_recommndations, val_df, 10), hr(als_recommndations, val_df)"
   ]
  },
  {
   "cell_type": "code",
   "execution_count": 19,
   "metadata": {
    "scrolled": true
   },
   "outputs": [
    {
     "name": "stdout",
     "output_type": "stream",
     "text": [
      "Collecting hyperopt\n",
      "  Downloading hyperopt-0.2.3-py3-none-any.whl (1.9 MB)\n",
      "\u001b[K     |████████████████████████████████| 1.9 MB 800 kB/s eta 0:00:01\n",
      "\u001b[?25hRequirement already satisfied: scipy in /usr/lib64/python3.5/site-packages (from hyperopt) (1.3.3)\n",
      "Collecting networkx==2.2\n",
      "  Downloading networkx-2.2.zip (1.7 MB)\n",
      "\u001b[K     |████████████████████████████████| 1.7 MB 1.2 MB/s eta 0:00:01     |███████████████████████▏        | 1.2 MB 758 kB/s eta 0:00:01\n",
      "\u001b[?25hCollecting tqdm\n",
      "  Downloading tqdm-4.45.0-py2.py3-none-any.whl (60 kB)\n",
      "\u001b[K     |████████████████████████████████| 60 kB 1.1 MB/s eta 0:00:01\n",
      "\u001b[?25hRequirement already satisfied: six in /usr/lib/python3.5/site-packages (from hyperopt) (1.14.0)\n",
      "Collecting cloudpickle\n",
      "  Downloading cloudpickle-1.3.0-py2.py3-none-any.whl (26 kB)\n",
      "Requirement already satisfied: numpy in /usr/lib64/python3.5/site-packages (from hyperopt) (1.17.2)\n",
      "Collecting future\n",
      "  Downloading future-0.18.2.tar.gz (829 kB)\n",
      "\u001b[K     |████████████████████████████████| 829 kB 542 kB/s eta 0:00:01\n",
      "\u001b[?25hRequirement already satisfied: decorator>=4.3.0 in /usr/lib/python3.5/site-packages (from networkx==2.2->hyperopt) (4.4.2)\n",
      "Installing collected packages: networkx, tqdm, cloudpickle, future, hyperopt\n",
      "    Running setup.py install for networkx ... \u001b[?25ldone\n",
      "\u001b[?25h    Running setup.py install for future ... \u001b[?25ldone\n",
      "\u001b[?25hSuccessfully installed cloudpickle-1.3.0 future-0.18.2 hyperopt-0.2.3 networkx-2.2 tqdm-4.45.0\n"
     ]
    }
   ],
   "source": [
    "!pip3.5 install hyperopt"
   ]
  },
  {
   "cell_type": "code",
   "execution_count": 20,
   "metadata": {},
   "outputs": [],
   "source": [
    "from hyperopt import fmin, tpe, hp, Trials, STATUS_OK\n",
    "\n",
    "\n",
    "def als_obj(config):\n",
    "    model = ALS(**config).fit(train_df)\n",
    "    recommendations = recommend(model, 10)\n",
    "    prec_10 = precision_at_k(recommendations, val_df, 10)\n",
    "    return {'loss': 1 - prec_10, 'status': STATUS_OK}\n",
    "\n",
    "# Оптимизировалась точность на первых десяти, для её максимизации минимизировалась обратная\n",
    "# величина.\n",
    "\n",
    "\n",
    "static_params = {\n",
    "    'userCol': 'userId', \n",
    "    'itemCol': 'movieId', \n",
    "    'ratingCol': 'rating', \n",
    "    'coldStartStrategy': 'drop', \n",
    "    'implicitPrefs': False, \n",
    "    'nonnegative': True\n",
    "}"
   ]
  },
  {
   "cell_type": "code",
   "execution_count": 21,
   "metadata": {},
   "outputs": [
    {
     "name": "stdout",
     "output_type": "stream",
     "text": [
      "100%|██████████| 6/6 [06:24<00:00, 64.13s/trial, best loss: 0.9413294797687861]\n",
      "{'rank': 2, 'maxIter': 2}\n"
     ]
    }
   ],
   "source": [
    "max_iter_options = [10, 20, 50]\n",
    "rank_options = [20, 40, 100]\n",
    "\n",
    "space = {\n",
    "    **static_params,\n",
    "    'regParam': 0.1,\n",
    "    \n",
    "    'maxIter': hp.choice('maxIter', max_iter_options), \n",
    "    'rank': hp.choice('rank', rank_options) \n",
    "}\n",
    "\n",
    "trials = Trials()\n",
    "best_rank_iter = fmin(fn=als_obj,\n",
    "            space=space,\n",
    "            algo=tpe.suggest,\n",
    "            max_evals=6,\n",
    "            trials=trials)\n",
    "\n",
    "print(best_rank_iter)\n",
    "\n",
    "max_iter = max_iter_options[best_rank_iter['maxIter']]\n",
    "rank = rank_options[best_rank_iter['rank']]"
   ]
  },
  {
   "cell_type": "code",
   "execution_count": 22,
   "metadata": {},
   "outputs": [
    {
     "name": "stdout",
     "output_type": "stream",
     "text": [
      "100%|██████████| 4/4 [16:11<00:00, 242.89s/trial, best loss: 0.9244219653179191]\n",
      "0.05\n"
     ]
    }
   ],
   "source": [
    "reg_param_options = [.01, .05, .1, 0.2]\n",
    "\n",
    "space = {\n",
    "    **static_params,\n",
    "    'maxIter': max_iter, \n",
    "    'rank': rank,\n",
    "    \n",
    "    'regParam': hp.choice('reg_param', reg_param_options)\n",
    "}\n",
    "\n",
    "trials = Trials()\n",
    "best_reg_param = fmin(fn=als_obj,\n",
    "            space=space,\n",
    "            algo=tpe.suggest,\n",
    "            max_evals=4,\n",
    "            trials=trials)\n",
    "\n",
    "reg_param = reg_param_options[best_reg_param['reg_param']]\n",
    "print(reg_param)"
   ]
  },
  {
   "cell_type": "code",
   "execution_count": 38,
   "metadata": {},
   "outputs": [],
   "source": [
    "graph_walks = make_walks(train_df, 20, 3.).limit(300000)\n",
    "\n",
    "def deep_walk_obj(config):\n",
    "    model = DeepWalk(**config).fit(train_df, graph_walks)\n",
    "    prec_10 = precision_at_k(model.recommend(10), val_df, 10)\n",
    "    return {'loss': 1 - prec_10, 'status': STATUS_OK}"
   ]
  },
  {
   "cell_type": "code",
   "execution_count": 43,
   "metadata": {},
   "outputs": [
    {
     "name": "stdout",
     "output_type": "stream",
     "text": [
      "100%|██████████| 3/3 [07:47<00:00, 155.72s/trial, best loss: 0.9448366013071895]\n",
      "40\n"
     ]
    }
   ],
   "source": [
    "vector_size_options = [20, 40, 100]\n",
    "\n",
    "space = {\n",
    "    'vectorSize': hp.choice('vectorSize', vector_size_options),\n",
    "    'stepSize': .025,\n",
    "    'maxIter': 1, \n",
    "    'windowSize': 5\n",
    "}\n",
    "\n",
    "trials = Trials()\n",
    "best_vector_size = fmin(fn=deep_walk_obj,\n",
    "            space=space,\n",
    "            algo=tpe.suggest,\n",
    "            max_evals=3,\n",
    "            trials=trials)\n",
    "\n",
    "dw_vector_size = vector_size_options[best_vector_size['vectorSize']]\n",
    "print(dw_vector_size)"
   ]
  },
  {
   "cell_type": "code",
   "execution_count": 45,
   "metadata": {},
   "outputs": [
    {
     "name": "stdout",
     "output_type": "stream",
     "text": [
      "100%|██████████| 3/3 [08:27<00:00, 169.27s/trial, best loss: 0.9445751633986929]\n",
      "0.005\n"
     ]
    }
   ],
   "source": [
    "step_size_options = [.005, .025, .1]\n",
    "\n",
    "space = {\n",
    "    'stepSize': hp.choice('stepSize', step_size_options), \n",
    "    'vectorSize': dw_vector_size, \n",
    "    'maxIter': 1, \n",
    "    'windowSize': 5\n",
    "}\n",
    "\n",
    "trials = Trials()\n",
    "best_step_size = fmin(fn=deep_walk_obj,\n",
    "            space=space,\n",
    "            algo=tpe.suggest,\n",
    "            max_evals=3,\n",
    "            trials=trials)\n",
    "\n",
    "dw_step_size = step_size_options[best_step_size['stepSize']]\n",
    "print(dw_step_size)"
   ]
  },
  {
   "cell_type": "code",
   "execution_count": 46,
   "metadata": {},
   "outputs": [
    {
     "name": "stdout",
     "output_type": "stream",
     "text": [
      "100%|██████████| 2/2 [08:00<00:00, 240.45s/trial, best loss: 0.9441830065359477]\n",
      "10\n"
     ]
    }
   ],
   "source": [
    "window_size_options = [5, 10]\n",
    "\n",
    "space = {\n",
    "    'windowSize': hp.choice('windowSize', window_size_options), \n",
    "    'stepSize': dw_step_size, \n",
    "    'vectorSize': dw_vector_size, \n",
    "    'maxIter': 1\n",
    "}\n",
    "\n",
    "trials = Trials()\n",
    "best_window_size = fmin(fn=deep_walk_obj,\n",
    "            space=space,\n",
    "            algo=tpe.suggest,\n",
    "            max_evals=2,\n",
    "            trials=trials)\n",
    "\n",
    "dw_window_size = window_size_options[best_window_size['windowSize']]\n",
    "print(dw_window_size)"
   ]
  },
  {
   "cell_type": "code",
   "execution_count": 47,
   "metadata": {},
   "outputs": [
    {
     "name": "stdout",
     "output_type": "stream",
     "text": [
      "100%|██████████| 2/2 [18:35<00:00, 557.83s/trial, best loss: 0.9474509803921568]\n",
      "3\n"
     ]
    }
   ],
   "source": [
    "max_iter_options = [1, 3]\n",
    "\n",
    "space = {\n",
    "    'maxIter': hp.choice('maxIter', max_iter_options),\n",
    "    'windowSize': dw_window_size,\n",
    "    'stepSize': dw_step_size, \n",
    "    'vectorSize': dw_vector_size\n",
    "}\n",
    "\n",
    "trials = Trials()\n",
    "best_max_iter = fmin(fn=deep_walk_obj,\n",
    "            space=space,\n",
    "            algo=tpe.suggest,\n",
    "            max_evals=2,\n",
    "            trials=trials)\n",
    "\n",
    "dw_max_iter = max_iter_options[best_max_iter['maxIter']]\n",
    "print(dw_max_iter)"
   ]
  },
  {
   "cell_type": "code",
   "execution_count": 23,
   "metadata": {},
   "outputs": [
    {
     "data": {
      "text/plain": [
       "(0.025794797687861293, 0.17991329479768786)"
      ]
     },
     "execution_count": 23,
     "metadata": {},
     "output_type": "execute_result"
    }
   ],
   "source": [
    "als_opt_model = ALS(maxIter=max_iter, regParam=reg_param, rank=rank, userCol='userId', \n",
    "                    itemCol='movieId', ratingCol='rating', coldStartStrategy='drop', \n",
    "                    implicitPrefs=False, nonnegative=True).fit(train_df)\n",
    "als_opt_recommendations = recommend(als_opt_model, 10)\n",
    "precision_at_k(als_opt_recommendations, test_df, 10), hr(als_opt_recommendations, test_df)"
   ]
  },
  {
   "cell_type": "code",
   "execution_count": 50,
   "metadata": {},
   "outputs": [
    {
     "data": {
      "text/plain": [
       "(0.01816993464052286, 0.14248366013071895)"
      ]
     },
     "execution_count": 50,
     "metadata": {},
     "output_type": "execute_result"
    }
   ],
   "source": [
    "dw_opt_model = DeepWalk(maxIter=dw_max_iter, windowSize=dw_window_size,\n",
    "    stepSize=dw_step_size, vectorSize=dw_vector_size).fit(train_df, graph_walks)\n",
    "dw_opt_recommendations = dw_opt_model.recommend(10)\n",
    "precision_at_k(dw_opt_recommendations, test_df, 10), hr(dw_opt_recommendations, test_df)"
   ]
  }
 ],
 "metadata": {
  "kernelspec": {
   "display_name": "Python 3",
   "language": "python",
   "name": "python3"
  },
  "language_info": {
   "codemirror_mode": {
    "name": "ipython",
    "version": 3
   },
   "file_extension": ".py",
   "mimetype": "text/x-python",
   "name": "python",
   "nbconvert_exporter": "python",
   "pygments_lexer": "ipython3",
   "version": "3.5.6"
  },
  "toc": {
   "base_numbering": 1,
   "nav_menu": {},
   "number_sections": true,
   "sideBar": true,
   "skip_h1_title": false,
   "title_cell": "Table of Contents",
   "title_sidebar": "Contents",
   "toc_cell": true,
   "toc_position": {},
   "toc_section_display": true,
   "toc_window_display": true
  }
 },
 "nbformat": 4,
 "nbformat_minor": 2
}
