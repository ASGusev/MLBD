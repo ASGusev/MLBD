{
 "cells": [
  {
   "cell_type": "markdown",
   "metadata": {
    "toc": true
   },
   "source": [
    "<h1>Table of Contents<span class=\"tocSkip\"></span></h1>\n",
    "<div class=\"toc\"><ul class=\"toc-item\"><li><span><a href=\"#Movie-recommendation\" data-toc-modified-id=\"Movie-recommendation-1\"><span class=\"toc-item-num\">1&nbsp;&nbsp;</span>Movie recommendation</a></span><ul class=\"toc-item\"><li><span><a href=\"#Dataset\" data-toc-modified-id=\"Dataset-1.1\"><span class=\"toc-item-num\">1.1&nbsp;&nbsp;</span>Dataset</a></span></li><li><span><a href=\"#Evaluation-Protocol\" data-toc-modified-id=\"Evaluation-Protocol-1.2\"><span class=\"toc-item-num\">1.2&nbsp;&nbsp;</span>Evaluation Protocol</a></span></li><li><span><a href=\"#Models\" data-toc-modified-id=\"Models-1.3\"><span class=\"toc-item-num\">1.3&nbsp;&nbsp;</span>Models</a></span><ul class=\"toc-item\"><li><span><a href=\"#ALS\" data-toc-modified-id=\"ALS-1.3.1\"><span class=\"toc-item-num\">1.3.1&nbsp;&nbsp;</span><a href=\"https://spark.apache.org/docs/latest/ml-collaborative-filtering.html#explicit-vs-implicit-feedback\" target=\"_blank\">ALS</a></a></span></li><li><span><a href=\"#Ваша-формулировка\" data-toc-modified-id=\"Ваша-формулировка-1.3.2\"><span class=\"toc-item-num\">1.3.2&nbsp;&nbsp;</span>Ваша формулировка</a></span></li></ul></li><li><span><a href=\"#Evaluation-Results\" data-toc-modified-id=\"Evaluation-Results-1.4\"><span class=\"toc-item-num\">1.4&nbsp;&nbsp;</span>Evaluation Results</a></span></li></ul></li></ul></div>"
   ]
  },
  {
   "cell_type": "markdown",
   "metadata": {},
   "source": [
    "# Movie recommendation\n",
    "\n",
    "Ваша задача - рекомендация фильмов для пользователей\n"
   ]
  },
  {
   "cell_type": "code",
   "execution_count": 1,
   "metadata": {},
   "outputs": [],
   "source": [
    "%matplotlib inline\n",
    "%config InlineBackend.figure_format ='retina'\n",
    "\n",
    "import os\n",
    "import sys\n",
    "import glob\n",
    "import pickle\n",
    "import seaborn as sns\n",
    "import matplotlib.pyplot as plt\n",
    "import numpy as np\n",
    "\n",
    "import pyspark\n",
    "from pyspark.conf import SparkConf\n",
    "from pyspark.sql import SQLContext\n",
    "from pyspark.sql import SparkSession\n",
    "\n",
    "\n",
    "spark = SparkSession \\\n",
    "    .builder \\\n",
    "    .master('local[*]') \\\n",
    "    .appName(\"spark_sql_examples\") \\\n",
    "    .config(\"spark.executor.memory\", \"6g\") \\\n",
    "    .config('spark.driver.memory', '6g') \\\n",
    "    .getOrCreate()\n",
    "\n",
    "sc = spark.sparkContext\n",
    "sc.setCheckpointDir('chpd')\n",
    "sqlContext = SQLContext(sc)"
   ]
  },
  {
   "cell_type": "markdown",
   "metadata": {},
   "source": [
    "## Dataset \n",
    "\n",
    "`MovieLens-25M`"
   ]
  },
  {
   "cell_type": "code",
   "execution_count": 2,
   "metadata": {},
   "outputs": [],
   "source": [
    "DATA_PATH = '/workspace/data/ml-10M100K'\n",
    "\n",
    "RATINGS_PATH = os.path.join(DATA_PATH, 'ratings.csv')\n",
    "MOVIES_PATH = os.path.join(DATA_PATH, 'movies.csv')\n",
    "TAGS_PATH = os.path.join(DATA_PATH, 'tags.csv')"
   ]
  },
  {
   "cell_type": "code",
   "execution_count": 3,
   "metadata": {},
   "outputs": [],
   "source": [
    "import pyspark.sql.functions as F\n",
    "from pyspark.sql.types import *\n",
    "\n",
    "\n",
    "ratings_df = sqlContext.read.format(\"com.databricks.spark.csv\") \\\n",
    "    .option(\"delimiter\", \",\") \\\n",
    "    .option(\"header\", \"true\") \\\n",
    "    .option(\"inferSchema\", \"true\") \\\n",
    "    .load('file:///' + RATINGS_PATH)"
   ]
  },
  {
   "cell_type": "markdown",
   "metadata": {},
   "source": [
    "## Evaluation Protocol\n",
    "\n",
    "Так как мы хотим оценивать качество разных алгоритмов рекомендаций, то в первую очередь нам нужно определить\n",
    "* Как разбить данные на `Train`/`Validation`/`Test`;\n",
    "* Какие метрики использовать для оценки качества."
   ]
  },
  {
   "cell_type": "code",
   "execution_count": 4,
   "metadata": {},
   "outputs": [],
   "source": [
    "from pyspark.sql.window import Window\n",
    "\n",
    "\n",
    "timestamp_rank_window = Window().orderBy('timestamp')\n",
    "\n",
    "\n",
    "TRAIN_SHARE = .6\n",
    "VAL_SHARE = .2\n",
    "TEST_SHARE = .2\n",
    "\n",
    "\n",
    "ranked_ratings_df = ratings_df \\\n",
    "    .withColumn('timestamp_rank', F.percent_rank().over(timestamp_rank_window))\n",
    "train_df = ranked_ratings_df \\\n",
    "    .filter(F.col('timestamp_rank') <= TRAIN_SHARE) \\\n",
    "    .drop('timestamp_rank')\n",
    "val_df = ranked_ratings_df \\\n",
    "    .filter((TRAIN_SHARE < F.col('timestamp_rank')) & (F.col('timestamp_rank') <= TRAIN_SHARE + VAL_SHARE)) \\\n",
    "    .drop('timestamp_rank')\n",
    "test_df = ranked_ratings_df \\\n",
    "    .filter(F.col('timestamp_rank') > TRAIN_SHARE + VAL_SHARE) \\\n",
    "    .drop('timestamp_rank')"
   ]
  },
  {
   "cell_type": "code",
   "execution_count": 5,
   "metadata": {},
   "outputs": [],
   "source": [
    "def get_users(df):\n",
    "    return df \\\n",
    "        .select('userId') \\\n",
    "        .distinct()\n",
    "\n",
    "\n",
    "train_users = get_users(train_df)\n",
    "val_users = get_users(val_df)\n",
    "test_users = get_users(test_df)\n",
    "\n",
    "common_users = train_users \\\n",
    "    .join(val_users, on='userId') \\\n",
    "    .join(test_users, on='userId')\n",
    "\n",
    "train_df = train_df.join(common_users, on='userId').cache()\n",
    "val_df = val_df.join(common_users, on='userId').cache()\n",
    "test_df = test_df.join(common_users, on='userId').cache()"
   ]
  },
  {
   "cell_type": "markdown",
   "metadata": {},
   "source": [
    "## Models\n",
    "\n",
    "Теперь мы можем перейти к формулировке задачи в терминах машинного обучения.\n",
    "\n",
    "Одна из формулировок, к которой мы сведем нашу задачу - **Matrix Completetion**. Данную задачу будем решать с помощью `ALS`"
   ]
  },
  {
   "cell_type": "markdown",
   "metadata": {},
   "source": [
    "### [ALS](https://spark.apache.org/docs/latest/ml-collaborative-filtering.html#explicit-vs-implicit-feedback)"
   ]
  },
  {
   "cell_type": "code",
   "execution_count": 6,
   "metadata": {},
   "outputs": [],
   "source": [
    "from pyspark.ml.recommendation import ALS\n",
    "\n",
    "als = ALS(maxIter=10, regParam=.1, userCol='userId', itemCol='movieId', ratingCol='rating', \n",
    "          coldStartStrategy='drop', rank=10, implicitPrefs=False, nonnegative=True)\n",
    "als_model = als.fit(train_df)"
   ]
  },
  {
   "cell_type": "markdown",
   "metadata": {},
   "source": [
    "Покажите для выбранных вами фильмов топ-20 наиболее похожих фильмов"
   ]
  },
  {
   "cell_type": "code",
   "execution_count": 7,
   "metadata": {},
   "outputs": [],
   "source": [
    "movies_df = sqlContext.read.format(\"com.databricks.spark.csv\") \\\n",
    "    .option(\"delimiter\", \",\") \\\n",
    "    .option(\"header\", \"true\") \\\n",
    "    .option(\"inferSchema\", \"true\") \\\n",
    "    .load('file:///' + MOVIES_PATH) \\\n",
    "    .drop('genres')\n",
    "\n",
    "selected_movies = movies_df \\\n",
    "    .select('movieId') \\\n",
    "    .limit(10)\n",
    "\n",
    "movie_factors = als_model.itemFactors \\\n",
    "    .withColumnRenamed('id', 'movieId')\n",
    "\n",
    "selected_movies_factors = selected_movies \\\n",
    "    .join(movie_factors, on='movieId') \\\n",
    "    .withColumnRenamed('movieId', 'selectedId') \\\n",
    "    .withColumnRenamed('features', 'selectedFeatures')"
   ]
  },
  {
   "cell_type": "code",
   "execution_count": 8,
   "metadata": {},
   "outputs": [],
   "source": [
    "from scipy.spatial.distance import cosine\n",
    "\n",
    "\n",
    "def cosine_dist(selected_features, features):\n",
    "    return float(cosine(selected_features, features))\n",
    "\n",
    "cosine_dist_udf = F.udf(cosine_dist, FloatType())"
   ]
  },
  {
   "cell_type": "code",
   "execution_count": 9,
   "metadata": {},
   "outputs": [],
   "source": [
    "N_NEIGHBOURS = 20\n",
    "\n",
    "movie_dists = selected_movies_factors \\\n",
    "    .join(movie_factors, on=F.col('movieId') != F.col('selectedId')) \\\n",
    "    .withColumn('d', cosine_dist_udf('selectedFeatures', 'features')) \\\n",
    "    .drop('selectedFeatures') \\\n",
    "    .drop('features')\n",
    "    \n",
    "dist_window = Window().partitionBy('selectedId').orderBy('d')\n",
    "\n",
    "neighbours = movie_dists \\\n",
    "    .withColumn('rank', F.rank().over(dist_window)) \\\n",
    "    .filter(F.col('rank') <= N_NEIGHBOURS) \\\n",
    "    .withColumnRenamed('movieId', 'neighbourId') \\\n",
    "    .drop('rank')"
   ]
  },
  {
   "cell_type": "code",
   "execution_count": 10,
   "metadata": {},
   "outputs": [
    {
     "data": {
      "text/plain": [
       "[Row(d=0.002156216651201248, selectedTitle='Toy Story (1995)', title='Toy Story 2 (1999)'),\n",
       " Row(d=0.007052566856145859, selectedTitle='Toy Story (1995)', title=\"Bug's Life\"),\n",
       " Row(d=0.008255116641521454, selectedTitle='Toy Story (1995)', title='In Search of the Castaways (1962)'),\n",
       " Row(d=0.008829428814351559, selectedTitle='Toy Story (1995)', title='Dish'),\n",
       " Row(d=0.009054997004568577, selectedTitle='Toy Story (1995)', title='Silverado (1985)'),\n",
       " Row(d=0.010102084837853909, selectedTitle='Toy Story (1995)', title='Ogre'),\n",
       " Row(d=0.01010337844491005, selectedTitle='Toy Story (1995)', title='Who Framed Roger Rabbit? (1988)'),\n",
       " Row(d=0.011631431058049202, selectedTitle='Toy Story (1995)', title='Monsters'),\n",
       " Row(d=0.011677995324134827, selectedTitle='Toy Story (1995)', title='Perfect Candidate'),\n",
       " Row(d=0.011959148570895195, selectedTitle='Toy Story (1995)', title='Star Trek II: The Wrath of Khan (1982)'),\n",
       " Row(d=0.012088230811059475, selectedTitle='Toy Story (1995)', title='Hear My Song (1991)'),\n",
       " Row(d=0.012757552787661552, selectedTitle='Toy Story (1995)', title='Aladdin (1992)'),\n",
       " Row(d=0.012925729155540466, selectedTitle='Toy Story (1995)', title='Presumed Innocent (1990)'),\n",
       " Row(d=0.01330166682600975, selectedTitle='Toy Story (1995)', title='Pirates of the Caribbean: The Curse of the Black Pearl (2003)'),\n",
       " Row(d=0.01367516815662384, selectedTitle='Toy Story (1995)', title='Men in Black (1997)'),\n",
       " Row(d=0.013838083483278751, selectedTitle='Toy Story (1995)', title='Finding Nemo (2003)'),\n",
       " Row(d=0.013928388245403767, selectedTitle='Toy Story (1995)', title='Front Page'),\n",
       " Row(d=0.01399381086230278, selectedTitle='Toy Story (1995)', title='Raiders of the Lost Ark (Indiana Jones and the Raiders of the Lost Ark) (1981)'),\n",
       " Row(d=0.014421842992305756, selectedTitle='Toy Story (1995)', title='Sword in the Stone'),\n",
       " Row(d=0.015076486393809319, selectedTitle='Toy Story (1995)', title='Groundhog Day (1993)'),\n",
       " Row(d=0.006257105153053999, selectedTitle='Heat (1995)', title='True Romance (1993)'),\n",
       " Row(d=0.009293959476053715, selectedTitle='Heat (1995)', title='Casino (1995)'),\n",
       " Row(d=0.009709641337394714, selectedTitle='Heat (1995)', title='Gangs of New York (2002)'),\n",
       " Row(d=0.009875473566353321, selectedTitle='Heat (1995)', title='Training Day (2001)'),\n",
       " Row(d=0.010670952498912811, selectedTitle='Heat (1995)', title='Journeys with George (2002)'),\n",
       " Row(d=0.011059030890464783, selectedTitle='Heat (1995)', title='Scarface (1983)'),\n",
       " Row(d=0.01177201047539711, selectedTitle='Heat (1995)', title='Boiler Room (2000)'),\n",
       " Row(d=0.01270254421979189, selectedTitle='Heat (1995)', title='One Hour Photo (2002)'),\n",
       " Row(d=0.01362035796046257, selectedTitle='Heat (1995)', title='Silence of the Lambs'),\n",
       " Row(d=0.014234283939003944, selectedTitle='Heat (1995)', title='Platoon (1986)'),\n",
       " Row(d=0.014741603285074234, selectedTitle='Heat (1995)', title='Full Metal Jacket (1987)'),\n",
       " Row(d=0.014779088087379932, selectedTitle='Heat (1995)', title='Colors (1988)'),\n",
       " Row(d=0.014992307871580124, selectedTitle='Heat (1995)', title='Ronin (1998)'),\n",
       " Row(d=0.01503534521907568, selectedTitle='Heat (1995)', title=\"Carlito's Way (1993)\"),\n",
       " Row(d=0.01558904629200697, selectedTitle='Heat (1995)', title='Rounders (1998)'),\n",
       " Row(d=0.016251184046268463, selectedTitle='Heat (1995)', title='Seven (a.k.a. Se7en) (1995)'),\n",
       " Row(d=0.01651972346007824, selectedTitle='Heat (1995)', title='Fistful of Dollars'),\n",
       " Row(d=0.01708207279443741, selectedTitle='Heat (1995)', title='Papillon (1973)'),\n",
       " Row(d=0.017619047313928604, selectedTitle='Heat (1995)', title='Final Cut (1998)'),\n",
       " Row(d=0.017933575436472893, selectedTitle='Heat (1995)', title='Donnie Brasco (1997)'),\n",
       " Row(d=0.01940883696079254, selectedTitle='Grumpier Old Men (1995)', title='Grumpy Old Men (1993)'),\n",
       " Row(d=0.022350134328007698, selectedTitle='Grumpier Old Men (1995)', title='Principal'),\n",
       " Row(d=0.025099074468016624, selectedTitle='Grumpier Old Men (1995)', title='European Vacation (1985)'),\n",
       " Row(d=0.025388358160853386, selectedTitle='Grumpier Old Men (1995)', title='Poseidon Adventure'),\n",
       " Row(d=0.03006201796233654, selectedTitle='Grumpier Old Men (1995)', title='Christmas Vacation (1989)'),\n",
       " Row(d=0.031269922852516174, selectedTitle='Grumpier Old Men (1995)', title='Airport 1975 (1974)'),\n",
       " Row(d=0.03395344316959381, selectedTitle='Grumpier Old Men (1995)', title='Vegas Vacation (1997)'),\n",
       " Row(d=0.0342244878411293, selectedTitle='Grumpier Old Men (1995)', title='Beverly Hills Cop II (1987)'),\n",
       " Row(d=0.03469447046518326, selectedTitle='Grumpier Old Men (1995)', title='Cactus Flower (1969)'),\n",
       " Row(d=0.035958174616098404, selectedTitle='Grumpier Old Men (1995)', title=\"Brewster's Millions (1985)\"),\n",
       " Row(d=0.03597252443432808, selectedTitle='Grumpier Old Men (1995)', title='Great Outdoors'),\n",
       " Row(d=0.03620400279760361, selectedTitle='Grumpier Old Men (1995)', title='Police Academy (1984)'),\n",
       " Row(d=0.03779539093375206, selectedTitle='Grumpier Old Men (1995)', title='Apple Dumpling Gang'),\n",
       " Row(d=0.038694724440574646, selectedTitle='Grumpier Old Men (1995)', title='View from the Top'),\n",
       " Row(d=0.038912273943424225, selectedTitle='Grumpier Old Men (1995)', title='Dr. Dolittle (1998)'),\n",
       " Row(d=0.03909287229180336, selectedTitle='Grumpier Old Men (1995)', title='Black Sheep (1996)'),\n",
       " Row(d=0.039723366498947144, selectedTitle='Grumpier Old Men (1995)', title='Cannonball Run'),\n",
       " Row(d=0.040153540670871735, selectedTitle='Grumpier Old Men (1995)', title=\"Man's Favorite Sport? (1964)\"),\n",
       " Row(d=0.040364816784858704, selectedTitle='Grumpier Old Men (1995)', title='Crush'),\n",
       " Row(d=0.04103856533765793, selectedTitle='Grumpier Old Men (1995)', title='Wedding Singer'),\n",
       " Row(d=0.020401984453201294, selectedTitle='Father of the Bride Part II (1995)', title='Nine Months (1995)'),\n",
       " Row(d=0.024846339598298073, selectedTitle='Father of the Bride Part II (1995)', title='Safe Passage (1994)'),\n",
       " Row(d=0.03225364536046982, selectedTitle='Father of the Bride Part II (1995)', title='Mrs. Doubtfire (1993)'),\n",
       " Row(d=0.032398875802755356, selectedTitle='Father of the Bride Part II (1995)', title='Beaches (1988)'),\n",
       " Row(d=0.034174058586359024, selectedTitle='Father of the Bride Part II (1995)', title='Footloose (1984)'),\n",
       " Row(d=0.034823618829250336, selectedTitle='Father of the Bride Part II (1995)', title='Where the Heart Is (2000)'),\n",
       " Row(d=0.03692418709397316, selectedTitle='Father of the Bride Part II (1995)', title='Sleeping with the Enemy (1991)'),\n",
       " Row(d=0.037324730306863785, selectedTitle='Father of the Bride Part II (1995)', title='Flashdance (1983)'),\n",
       " Row(d=0.03745163977146149, selectedTitle='Father of the Bride Part II (1995)', title='Love Affair (1994)'),\n",
       " Row(d=0.03798462450504303, selectedTitle='Father of the Bride Part II (1995)', title='Ballad of Little Jo'),\n",
       " Row(d=0.03934912383556366, selectedTitle='Father of the Bride Part II (1995)', title='G.I. Jane (1997)'),\n",
       " Row(d=0.039560236036777496, selectedTitle='Father of the Bride Part II (1995)', title='First Wives Club'),\n",
       " Row(d=0.039825841784477234, selectedTitle='Father of the Bride Part II (1995)', title=\"Let's Get Harry (1986)\"),\n",
       " Row(d=0.04006945714354515, selectedTitle='Father of the Bride Part II (1995)', title='Violets Are Blue... (1986)'),\n",
       " Row(d=0.040123965591192245, selectedTitle='Father of the Bride Part II (1995)', title='Grease (1978)'),\n",
       " Row(d=0.040627073496580124, selectedTitle='Father of the Bride Part II (1995)', title=\"Look Who's Talking (1989)\"),\n",
       " Row(d=0.04089300334453583, selectedTitle='Father of the Bride Part II (1995)', title='Casper (1995)'),\n",
       " Row(d=0.040996529161930084, selectedTitle='Father of the Bride Part II (1995)', title='Far and Away (1992)'),\n",
       " Row(d=0.04197866842150688, selectedTitle='Father of the Bride Part II (1995)', title='Heart and Souls (1993)'),\n",
       " Row(d=0.04198085516691208, selectedTitle='Father of the Bride Part II (1995)', title='Pretty Woman (1990)'),\n",
       " Row(d=0.016832534223794937, selectedTitle='Sudden Death (1995)', title='Cannonball Run II (1984)'),\n",
       " Row(d=0.019231684505939484, selectedTitle='Sudden Death (1995)', title='Marked for Death (1990)'),\n",
       " Row(d=0.02161741815507412, selectedTitle='Sudden Death (1995)', title='Missing in Action 2: The Beginning (1985)'),\n",
       " Row(d=0.02200346626341343, selectedTitle='Sudden Death (1995)', title='American Ninja (1985)'),\n",
       " Row(d=0.02308935485780239, selectedTitle='Sudden Death (1995)', title='Roustabout (1964)'),\n",
       " Row(d=0.02326332777738571, selectedTitle='Sudden Death (1995)', title='Quest'),\n",
       " Row(d=0.024318674579262733, selectedTitle='Sudden Death (1995)', title='Iron Eagle (1986)'),\n",
       " Row(d=0.026779139414429665, selectedTitle='Sudden Death (1995)', title='Glimmer Man'),\n",
       " Row(d=0.02699725143611431, selectedTitle='Sudden Death (1995)', title='Chasers (1994)'),\n",
       " Row(d=0.02733756974339485, selectedTitle='Sudden Death (1995)', title='Red Heat (1988)'),\n",
       " Row(d=0.03258925676345825, selectedTitle='Sudden Death (1995)', title='Nowhere to Run (1993)'),\n",
       " Row(d=0.0326886884868145, selectedTitle='Sudden Death (1995)', title='Iron Eagle II (1988)'),\n",
       " Row(d=0.03364252299070358, selectedTitle='Sudden Death (1995)', title=\"Big Momma's House (2000)\"),\n",
       " Row(d=0.03365595266222954, selectedTitle='Sudden Death (1995)', title='Major League: Back to the Minors (1998)'),\n",
       " Row(d=0.03398233652114868, selectedTitle='Sudden Death (1995)', title='Smokey and the Bandit III (1983)'),\n",
       " Row(d=0.03434976562857628, selectedTitle='Sudden Death (1995)', title=\"Midsummer Night's Dream\"),\n",
       " Row(d=0.03559451550245285, selectedTitle='Sudden Death (1995)', title='Teenage Mutant Ninja Turtles III (1993)'),\n",
       " Row(d=0.035624291747808456, selectedTitle='Sudden Death (1995)', title='Jerky Boys'),\n",
       " Row(d=0.03596067428588867, selectedTitle='Sudden Death (1995)', title='Darkness Falls (2003)'),\n",
       " Row(d=0.036523979157209396, selectedTitle='Sudden Death (1995)', title=\"Say It Isn't So (2001)\"),\n",
       " Row(d=0.009013798087835312, selectedTitle='Waiting to Exhale (1995)', title='Come Undone (Presque Rien) (2000)'),\n",
       " Row(d=0.00906828511506319, selectedTitle='Waiting to Exhale (1995)', title='Crime of Father Amaro'),\n",
       " Row(d=0.01401699148118496, selectedTitle='Waiting to Exhale (1995)', title=\"Sophie's Choice (1982)\"),\n",
       " Row(d=0.01604236289858818, selectedTitle='Waiting to Exhale (1995)', title='Absence of Malice (1981)'),\n",
       " Row(d=0.01649084873497486, selectedTitle='Waiting to Exhale (1995)', title=\"Murphy's Romance (1985)\"),\n",
       " Row(d=0.018286556005477905, selectedTitle='Waiting to Exhale (1995)', title='No Way to Treat a Lady (1968)'),\n",
       " Row(d=0.02017137035727501, selectedTitle='Waiting to Exhale (1995)', title='Get Bruce (1999)'),\n",
       " Row(d=0.021472955122590065, selectedTitle='Waiting to Exhale (1995)', title='Ordinary People (1980)'),\n",
       " Row(d=0.021939964964985847, selectedTitle='Waiting to Exhale (1995)', title='Five Days One Summer (1982)'),\n",
       " Row(d=0.022902734577655792, selectedTitle='Waiting to Exhale (1995)', title='Up at the Villa (2000)'),\n",
       " Row(d=0.023058637976646423, selectedTitle='Waiting to Exhale (1995)', title='Moonstruck (1987)'),\n",
       " Row(d=0.02354300022125244, selectedTitle='Waiting to Exhale (1995)', title='Unstrung Heroes (1995)'),\n",
       " Row(d=0.023839062079787254, selectedTitle='Waiting to Exhale (1995)', title='Candidate'),\n",
       " Row(d=0.02414349466562271, selectedTitle='Waiting to Exhale (1995)', title='Little City (1998)'),\n",
       " Row(d=0.024205448105931282, selectedTitle='Waiting to Exhale (1995)', title='Songcatcher (2000)'),\n",
       " Row(d=0.024547021836042404, selectedTitle='Waiting to Exhale (1995)', title='Iris (2001)'),\n",
       " Row(d=0.024703098461031914, selectedTitle='Waiting to Exhale (1995)', title='I Confess (1953)'),\n",
       " Row(d=0.02472325600683689, selectedTitle='Waiting to Exhale (1995)', title='Cast a Giant Shadow (1966)'),\n",
       " Row(d=0.025077737867832184, selectedTitle='Waiting to Exhale (1995)', title='Apache (1954)'),\n",
       " Row(d=0.02562885731458664, selectedTitle='Waiting to Exhale (1995)', title='Sea of Love (1989)'),\n",
       " Row(d=0.013701589778065681, selectedTitle='Tom and Huck (1995)', title='Billy Bathgate (1991)'),\n",
       " Row(d=0.02186637558043003, selectedTitle='Tom and Huck (1995)', title='Boy Who Could Fly'),\n",
       " Row(d=0.022090567275881767, selectedTitle='Tom and Huck (1995)', title='Fighting Temptations'),\n",
       " Row(d=0.024048713967204094, selectedTitle='Tom and Huck (1995)', title='Hansel & Gretel (2002)'),\n",
       " Row(d=0.0257848110049963, selectedTitle='Tom and Huck (1995)', title='Milk Money (1994)'),\n",
       " Row(d=0.027207026258111, selectedTitle='Tom and Huck (1995)', title='Make Mine Music (1946)'),\n",
       " Row(d=0.028834141790866852, selectedTitle='Tom and Huck (1995)', title='Fighting Seabees'),\n",
       " Row(d=0.02929752506315708, selectedTitle='Tom and Huck (1995)', title='Legal Eagles (1986)'),\n",
       " Row(d=0.030153369531035423, selectedTitle='Tom and Huck (1995)', title='Ghost and the Darkness'),\n",
       " Row(d=0.03221191465854645, selectedTitle='Tom and Huck (1995)', title='At First Sight (1999)'),\n",
       " Row(d=0.03366333246231079, selectedTitle='Tom and Huck (1995)', title='Miracle on 34th Street (1994)'),\n",
       " Row(d=0.034499481320381165, selectedTitle='Tom and Huck (1995)', title='It Could Happen to You (1994)'),\n",
       " Row(d=0.034612853080034256, selectedTitle='Tom and Huck (1995)', title='Disclosure (1994)'),\n",
       " Row(d=0.03528301417827606, selectedTitle='Tom and Huck (1995)', title='Next of Kin (1989)'),\n",
       " Row(d=0.03566049411892891, selectedTitle='Tom and Huck (1995)', title='Homeward Bound II: Lost in San Francisco (1996)'),\n",
       " Row(d=0.035707179456949234, selectedTitle='Tom and Huck (1995)', title='Walk in the Clouds'),\n",
       " Row(d=0.036767393350601196, selectedTitle='Tom and Huck (1995)', title='Firefox (1982)'),\n",
       " Row(d=0.03693888708949089, selectedTitle='Tom and Huck (1995)', title='Woman in Red'),\n",
       " Row(d=0.03719678521156311, selectedTitle='Tom and Huck (1995)', title='Beyond Rangoon (1995)'),\n",
       " Row(d=0.03728978708386421, selectedTitle='Tom and Huck (1995)', title='Simone (S1m0ne) (2002)'),\n",
       " Row(d=0.009287838824093342, selectedTitle='Sabrina (1995)', title='Pretty Woman (1990)'),\n",
       " Row(d=0.01046163309365511, selectedTitle='Sabrina (1995)', title=\"You've Got Mail (1998)\"),\n",
       " Row(d=0.010605594143271446, selectedTitle='Sabrina (1995)', title='Remember the Titans (2000)'),\n",
       " Row(d=0.010624103248119354, selectedTitle='Sabrina (1995)', title='American President'),\n",
       " Row(d=0.011355847120285034, selectedTitle='Sabrina (1995)', title=\"Look Who's Talking (1989)\"),\n",
       " Row(d=0.012664791196584702, selectedTitle='Sabrina (1995)', title='Sleepless in Seattle (1993)'),\n",
       " Row(d=0.013633331283926964, selectedTitle='Sabrina (1995)', title='Mrs. Doubtfire (1993)'),\n",
       " Row(d=0.014077859930694103, selectedTitle='Sabrina (1995)', title='Walk in the Clouds'),\n",
       " Row(d=0.014338905923068523, selectedTitle='Sabrina (1995)', title='Firm'),\n",
       " Row(d=0.014349798671901226, selectedTitle='Sabrina (1995)', title='Seven Brides for Seven Brothers (1954)'),\n",
       " Row(d=0.014884988777339458, selectedTitle='Sabrina (1995)', title='High Crimes (2002)'),\n",
       " Row(d=0.015244193375110626, selectedTitle='Sabrina (1995)', title='White Christmas (1954)'),\n",
       " Row(d=0.015250366181135178, selectedTitle='Sabrina (1995)', title='Titanic (1997)'),\n",
       " Row(d=0.015463458374142647, selectedTitle='Sabrina (1995)', title='Three Men and a Baby (1987)'),\n",
       " Row(d=0.016145631670951843, selectedTitle='Sabrina (1995)', title='Where the Heart Is (2000)'),\n",
       " Row(d=0.016211317852139473, selectedTitle='Sabrina (1995)', title='While You Were Sleeping (1995)'),\n",
       " Row(d=0.017236249521374702, selectedTitle='Sabrina (1995)', title='Jewel of the Nile'),\n",
       " Row(d=0.01806185394525528, selectedTitle='Sabrina (1995)', title='Forever Young (1992)'),\n",
       " Row(d=0.018310369923710823, selectedTitle='Sabrina (1995)', title='Cocoon (1985)'),\n",
       " Row(d=0.018638158217072487, selectedTitle='Sabrina (1995)', title='Notting Hill (1999)'),\n",
       " Row(d=0.011180955916643143, selectedTitle='GoldenEye (1995)', title='World Is Not Enough'),\n",
       " Row(d=0.011225171387195587, selectedTitle='GoldenEye (1995)', title='Whole Nine Yards'),\n",
       " Row(d=0.011657046154141426, selectedTitle='GoldenEye (1995)', title='Tomorrow Never Dies (1997)'),\n",
       " Row(d=0.013487116433680058, selectedTitle='GoldenEye (1995)', title='Moonraker (1979)'),\n",
       " Row(d=0.013580010272562504, selectedTitle='GoldenEye (1995)', title='Back to the Future Part II (1989)'),\n",
       " Row(d=0.0136995455250144, selectedTitle='GoldenEye (1995)', title='...And God Created Woman (Et Dieu... créa la femme) (1956)'),\n",
       " Row(d=0.014238179661333561, selectedTitle='GoldenEye (1995)', title='Back to the Future Part III (1990)'),\n",
       " Row(d=0.015193808823823929, selectedTitle='GoldenEye (1995)', title='True Lies (1994)'),\n",
       " Row(d=0.016995128244161606, selectedTitle='GoldenEye (1995)', title='Lethal Weapon 3 (1992)'),\n",
       " Row(d=0.01701866276562214, selectedTitle='GoldenEye (1995)', title='U-571 (2000)'),\n",
       " Row(d=0.01722954958677292, selectedTitle='GoldenEye (1995)', title='Negotiator'),\n",
       " Row(d=0.017634158954024315, selectedTitle='GoldenEye (1995)', title='Running Man'),\n",
       " Row(d=0.01782193034887314, selectedTitle='GoldenEye (1995)', title=\"Knight's Tale\"),\n",
       " Row(d=0.017998702824115753, selectedTitle='GoldenEye (1995)', title='Watcher'),\n",
       " Row(d=0.018335791304707527, selectedTitle='GoldenEye (1995)', title='We Were Soldiers (2002)'),\n",
       " Row(d=0.01850208453834057, selectedTitle='GoldenEye (1995)', title='Maverick (1994)'),\n",
       " Row(d=0.018632451072335243, selectedTitle='GoldenEye (1995)', title='Star Trek III: The Search for Spock (1984)'),\n",
       " Row(d=0.0197076965123415, selectedTitle='GoldenEye (1995)', title='Rush Hour (1998)'),\n",
       " Row(d=0.01994815096259117, selectedTitle='GoldenEye (1995)', title='Liar Liar (1997)'),\n",
       " Row(d=0.01998567394912243, selectedTitle='GoldenEye (1995)', title='Die Another Day (2002)'),\n",
       " Row(d=0.0070273480378091335, selectedTitle='Jumanji (1995)', title='Innerspace (1987)'),\n",
       " Row(d=0.011789078824222088, selectedTitle='Jumanji (1995)', title='Annie (1982)'),\n",
       " Row(d=0.013558240607380867, selectedTitle='Jumanji (1995)', title='Star Trek VI: The Undiscovered Country (1991)'),\n",
       " Row(d=0.014498545788228512, selectedTitle='Jumanji (1995)', title='Stuart Little 2 (2002)'),\n",
       " Row(d=0.015248395502567291, selectedTitle='Jumanji (1995)', title='Three Musketeers'),\n",
       " Row(d=0.01673417165875435, selectedTitle='Jumanji (1995)', title='American Tail'),\n",
       " Row(d=0.017936209216713905, selectedTitle='Jumanji (1995)', title='American Tail: Fievel Goes West'),\n",
       " Row(d=0.019402610138058662, selectedTitle='Jumanji (1995)', title='Follow Me'),\n",
       " Row(d=0.01967599242925644, selectedTitle='Jumanji (1995)', title=\"Jumpin' Jack Flash (1986)\"),\n",
       " Row(d=0.019708720967173576, selectedTitle='Jumanji (1995)', title='Baby Boom (1987)'),\n",
       " Row(d=0.019942907616496086, selectedTitle='Jumanji (1995)', title='Batman Forever (1995)'),\n",
       " Row(d=0.01996462419629097, selectedTitle='Jumanji (1995)', title='Dragonheart (1996)'),\n",
       " Row(d=0.020080484449863434, selectedTitle='Jumanji (1995)', title='Forever Young (1992)'),\n",
       " Row(d=0.020164858549833298, selectedTitle='Jumanji (1995)', title='Star Trek III: The Search for Spock (1984)'),\n",
       " Row(d=0.020205779001116753, selectedTitle='Jumanji (1995)', title='Made in Heaven (1987)'),\n",
       " Row(d=0.020298153162002563, selectedTitle='Jumanji (1995)', title='Star Trek IV: The Voyage Home (1986)'),\n",
       " Row(d=0.02036873623728752, selectedTitle='Jumanji (1995)', title='Forget Paris (1995)'),\n",
       " Row(d=0.021164728328585625, selectedTitle='Jumanji (1995)', title=\"Pete's Dragon (1977)\"),\n",
       " Row(d=0.021456964313983917, selectedTitle='Jumanji (1995)', title='Prince of Egypt'),\n",
       " Row(d=0.02213926799595356, selectedTitle='Jumanji (1995)', title='Untamed Heart (1993)')]"
      ]
     },
     "execution_count": 10,
     "metadata": {},
     "output_type": "execute_result"
    }
   ],
   "source": [
    "neighbours \\\n",
    "    .join(movies_df, on=F.col('selectedId') == F.col('movieId')) \\\n",
    "    .drop('movieId') \\\n",
    "    .withColumnRenamed('title', 'selectedTitle') \\\n",
    "    .join(movies_df, on=F.col('neighbourId') == F.col('movieId')) \\\n",
    "    .drop('movieId') \\\n",
    "    .drop('selectedId') \\\n",
    "    .drop('neighbourId') \\\n",
    "    .collect()"
   ]
  },
  {
   "cell_type": "markdown",
   "metadata": {},
   "source": [
    "### Ваша формулировка\n",
    "\n",
    "На лекции было еще несколько ML формулировок задачи рекомендаций. Выберете одну из них и реализуйте метод."
   ]
  },
  {
   "cell_type": "code",
   "execution_count": 26,
   "metadata": {},
   "outputs": [],
   "source": [
    "from itertools import chain\n",
    "\n",
    "\n",
    "SAMPLING_RATIO = .003\n",
    "\n",
    "\n",
    "def pref_id(pref):\n",
    "    def cast(identifier):\n",
    "        return pref + str(identifier)\n",
    "    return F.udf(cast, StringType())\n",
    "\n",
    "\n",
    "def make_walks(data, walk_len, min_rating):\n",
    "    edges = data \\\n",
    "        .filter(F.col('rating') >= min_rating) \\\n",
    "        .drop('rating') \\\n",
    "        .drop('timestamp')\n",
    "    walks = edges \\\n",
    "        .sample(SAMPLING_RATIO) \\\n",
    "        .withColumnRenamed('userId', 'u0') \\\n",
    "        .withColumnRenamed('movieId', 'm0')\n",
    "    for i in range(1, walk_len):\n",
    "        col_prev_movie = 'm' + str(i - 1)\n",
    "        col_cur_movie = 'm' + str(i)\n",
    "        col_cur_user = 'u' + str(i)\n",
    "        walks = walks \\\n",
    "            .join(edges.sample(SAMPLING_RATIO), on=\n",
    "                  F.col(col_prev_movie) == F.col('movieId')) \\\n",
    "            .withColumnRenamed('userId', col_cur_user) \\\n",
    "            .drop('movieId') \\\n",
    "            .join(edges.sample(SAMPLING_RATIO), on=\n",
    "                  F.col(col_cur_user) == F.col('userId')) \\\n",
    "            . withColumnRenamed('movieId', col_cur_movie) \\\n",
    "            .drop('userId')\n",
    "        \n",
    "    for i in range(walk_len):\n",
    "        c_cur_movie = 'm' + str(i)\n",
    "        c_cur_user = 'u' + str(i)\n",
    "        walks = walks \\\n",
    "            .withColumn(c_cur_movie, pref_id('m')(c_cur_movie)) \\\n",
    "            .withColumn(c_cur_user, pref_id('u')(c_cur_user))\n",
    "    \n",
    "    node_columns = list(chain(*\n",
    "        (('u' + str(i), 'm' + str(i)) for i in range(walk_len))\n",
    "    ))\n",
    "    walks = walks \\\n",
    "        .withColumn('walks', F.array(*node_columns)) \\\n",
    "        .drop(*node_columns)\n",
    "    return walks.cache()"
   ]
  },
  {
   "cell_type": "code",
   "execution_count": 42,
   "metadata": {},
   "outputs": [],
   "source": [
    "from pyspark.ml.feature import Word2Vec\n",
    "\n",
    "\n",
    "def unpref_id(pref):\n",
    "    def cast(identifier):\n",
    "        return int(identifier[1:]) if identifier[0] == pref else -1\n",
    "    return F.udf(cast, IntegerType())\n",
    "\n",
    "\n",
    "def select_vectors(id_col_name, vec_col_name, pref, vec_model):\n",
    "    return vec_model.getVectors() \\\n",
    "        .withColumn(id_col_name, unpref_id(pref)('word')) \\\n",
    "        .filter(F.col(id_col_name) >= 0) \\\n",
    "        .drop('word') \\\n",
    "        .withColumnRenamed('vector', vec_col_name)\n",
    "        \n",
    "\n",
    "\n",
    "class DeepWalkModel():\n",
    "    def __init__(self, word2vec_model, occured_interactions):\n",
    "        self.user_vecs = select_vectors('userId', 'user_vector', 'u', word2vec_model)\n",
    "        self.movie_vecs = select_vectors('movieId', 'movie_vector', 'm', word2vec_model)\n",
    "        self.occured_interactions = occured_interactions\n",
    "    \n",
    "    def recommend(self, n):\n",
    "        user_window = Window().partitionBy('userId').orderBy('d')\n",
    "        \n",
    "        return self.user_vecs \\\n",
    "            .crossJoin(self.movie_vecs) \\\n",
    "            .join(self.occured_interactions, on=['userId', 'movieId'], how='left') \\\n",
    "            .filter(F.isnull('interacted')) \\\n",
    "            .drop('interacted') \\\n",
    "            .withColumn('d', cosine_dist_udf('user_vector', 'movie_vector')) \\\n",
    "            .withColumn('rank', F.rank().over(user_window)) \\\n",
    "            .filter(F.col('rank') <= n) \\\n",
    "            .drop('d')\n",
    "    \n",
    "    \n",
    "class DeepWalk():\n",
    "    def __init__(self, vectorSize=100, stepSize=0.025, \n",
    "                 maxIter=1, windowSize=5, walkLen=20, minRating=3.):\n",
    "        self.vectorSize = vectorSize\n",
    "        self.stepSize=stepSize\n",
    "        self.maxIter = maxIter\n",
    "        self.windowSize = windowSize\n",
    "        self.walkLen = walkLen\n",
    "        self.minRating = minRating\n",
    "        \n",
    "    def fit(self, data, walks=None):\n",
    "        w2v = Word2Vec(vectorSize=self.vectorSize, minCount=1, \n",
    "                       stepSize=self.stepSize, maxIter=self.maxIter, \n",
    "                       inputCol='walks', outputCol='foo', \n",
    "                       windowSize=self.windowSize)\n",
    "        if walks is None:\n",
    "            walks = make_walks(data, self.walkLen, self.minRating)\n",
    "        w2v_model = w2v.fit(walks)\n",
    "        occured_interactions = data \\\n",
    "            .filter(F.col('rating') > self.minRating) \\\n",
    "            .select('userId', 'movieId') \\\n",
    "            .withColumn('interacted', F.lit(True))\n",
    "        return DeepWalkModel(w2v_model, occured_interactions)"
   ]
  },
  {
   "cell_type": "markdown",
   "metadata": {},
   "source": [
    "## Evaluation Results\n",
    "\n",
    "Сравните реализованные методы с помощью выбранных метрик. Не забывайте про оптимизацию гиперпараметров."
   ]
  },
  {
   "cell_type": "code",
   "execution_count": 13,
   "metadata": {},
   "outputs": [],
   "source": [
    "def get_users(df):\n",
    "    return df \\\n",
    "        .select('userId') \\\n",
    "        .distinct()\n",
    "\n",
    "\n",
    "def get_relevant_recs(recs, gt):\n",
    "    return recs.join(gt, on=(recs.userId == gt.userId) & (recs.movieId == gt.movieId)) \\\n",
    "        .drop(gt.movieId) \\\n",
    "        .drop(gt.userId)"
   ]
  },
  {
   "cell_type": "code",
   "execution_count": 14,
   "metadata": {},
   "outputs": [],
   "source": [
    "def precision_at_k(recs, gt, k):\n",
    "    relevant_recs = get_relevant_recs(recs, gt) \\\n",
    "        .filter(F.col('rank') <= k)\n",
    "    all_users = get_users(recs)\n",
    "    return relevant_recs \\\n",
    "        .groupBy(F.col('userId')) \\\n",
    "        .agg(F.count('movieID').alias('relevant')) \\\n",
    "        .withColumn('prec', F.col('relevant') / k) \\\n",
    "        .drop('relevant') \\\n",
    "        .join(all_users, on='userId', how='right') \\\n",
    "        .fillna(0) \\\n",
    "        .select(F.avg('prec').alias('prec')) \\\n",
    "        .collect()[0].prec"
   ]
  },
  {
   "cell_type": "code",
   "execution_count": 15,
   "metadata": {},
   "outputs": [],
   "source": [
    "def hr(recs, gt):\n",
    "    relevant_recs = get_relevant_recs(recs, gt)\n",
    "    return get_users(relevant_recs).count() / get_users(recs).count()"
   ]
  },
  {
   "cell_type": "code",
   "execution_count": 16,
   "metadata": {},
   "outputs": [],
   "source": [
    "from pyspark.sql import Row\n",
    "\n",
    "\n",
    "def flat_recs(recs):\n",
    "    return ([\n",
    "        (recs.userId, movieId, i)\n",
    "        for i, (movieId, _) in enumerate(recs.recommendations, 1)\n",
    "    ])\n",
    "\n",
    "def recommend(model, n):\n",
    "    return model.recommendForAllUsers(n) \\\n",
    "        .rdd \\\n",
    "        .flatMap(flat_recs) \\\n",
    "        .map(lambda r: Row(userId=r[0], movieId=r[1], rank=r[2])) \\\n",
    "        .toDF() \\\n",
    "        .repartition(4)"
   ]
  },
  {
   "cell_type": "code",
   "execution_count": 18,
   "metadata": {},
   "outputs": [
    {
     "data": {
      "text/plain": [
       "(0.0280346820809249, 0.2153179190751445)"
      ]
     },
     "execution_count": 18,
     "metadata": {},
     "output_type": "execute_result"
    }
   ],
   "source": [
    "als_recommndations = recommend(als_model, 10)\n",
    "\n",
    "precision_at_k(als_recommndations, val_df, 10), hr(als_recommndations, val_df)"
   ]
  },
  {
   "cell_type": "code",
   "execution_count": 19,
   "metadata": {
    "scrolled": true
   },
   "outputs": [
    {
     "name": "stdout",
     "output_type": "stream",
     "text": [
      "Collecting hyperopt\n",
      "  Downloading hyperopt-0.2.3-py3-none-any.whl (1.9 MB)\n",
      "\u001b[K     |████████████████████████████████| 1.9 MB 800 kB/s eta 0:00:01\n",
      "\u001b[?25hRequirement already satisfied: scipy in /usr/lib64/python3.5/site-packages (from hyperopt) (1.3.3)\n",
      "Collecting networkx==2.2\n",
      "  Downloading networkx-2.2.zip (1.7 MB)\n",
      "\u001b[K     |████████████████████████████████| 1.7 MB 1.2 MB/s eta 0:00:01     |███████████████████████▏        | 1.2 MB 758 kB/s eta 0:00:01\n",
      "\u001b[?25hCollecting tqdm\n",
      "  Downloading tqdm-4.45.0-py2.py3-none-any.whl (60 kB)\n",
      "\u001b[K     |████████████████████████████████| 60 kB 1.1 MB/s eta 0:00:01\n",
      "\u001b[?25hRequirement already satisfied: six in /usr/lib/python3.5/site-packages (from hyperopt) (1.14.0)\n",
      "Collecting cloudpickle\n",
      "  Downloading cloudpickle-1.3.0-py2.py3-none-any.whl (26 kB)\n",
      "Requirement already satisfied: numpy in /usr/lib64/python3.5/site-packages (from hyperopt) (1.17.2)\n",
      "Collecting future\n",
      "  Downloading future-0.18.2.tar.gz (829 kB)\n",
      "\u001b[K     |████████████████████████████████| 829 kB 542 kB/s eta 0:00:01\n",
      "\u001b[?25hRequirement already satisfied: decorator>=4.3.0 in /usr/lib/python3.5/site-packages (from networkx==2.2->hyperopt) (4.4.2)\n",
      "Installing collected packages: networkx, tqdm, cloudpickle, future, hyperopt\n",
      "    Running setup.py install for networkx ... \u001b[?25ldone\n",
      "\u001b[?25h    Running setup.py install for future ... \u001b[?25ldone\n",
      "\u001b[?25hSuccessfully installed cloudpickle-1.3.0 future-0.18.2 hyperopt-0.2.3 networkx-2.2 tqdm-4.45.0\n"
     ]
    }
   ],
   "source": [
    "!pip3.5 install hyperopt"
   ]
  },
  {
   "cell_type": "code",
   "execution_count": 20,
   "metadata": {},
   "outputs": [],
   "source": [
    "from hyperopt import fmin, tpe, hp, Trials, STATUS_OK\n",
    "\n",
    "\n",
    "def als_obj(config):\n",
    "    model = ALS(**config).fit(train_df)\n",
    "    recommendations = recommend(model, 10)\n",
    "    prec_10 = precision_at_k(recommendations, val_df, 10)\n",
    "    return {'loss': 1 - prec_10, 'status': STATUS_OK}\n",
    "\n",
    "\n",
    "static_params = {\n",
    "    'userCol': 'userId', \n",
    "    'itemCol': 'movieId', \n",
    "    'ratingCol': 'rating', \n",
    "    'coldStartStrategy': 'drop', \n",
    "    'implicitPrefs': False, \n",
    "    'nonnegative': True\n",
    "}"
   ]
  },
  {
   "cell_type": "code",
   "execution_count": 21,
   "metadata": {},
   "outputs": [
    {
     "name": "stdout",
     "output_type": "stream",
     "text": [
      "100%|██████████| 6/6 [06:24<00:00, 64.13s/trial, best loss: 0.9413294797687861]\n",
      "{'rank': 2, 'maxIter': 2}\n"
     ]
    }
   ],
   "source": [
    "max_iter_options = [10, 20, 50]\n",
    "rank_options = [20, 40, 100]\n",
    "\n",
    "space = {\n",
    "    **static_params,\n",
    "    'regParam': 0.1,\n",
    "    \n",
    "    'maxIter': hp.choice('maxIter', max_iter_options), \n",
    "    'rank': hp.choice('rank', rank_options) \n",
    "}\n",
    "\n",
    "trials = Trials()\n",
    "best_rank_iter = fmin(fn=als_obj,\n",
    "            space=space,\n",
    "            algo=tpe.suggest,\n",
    "            max_evals=6,\n",
    "            trials=trials)\n",
    "\n",
    "print(best_rank_iter)\n",
    "\n",
    "max_iter = max_iter_options[best_rank_iter['maxIter']]\n",
    "rank = rank_options[best_rank_iter['rank']]"
   ]
  },
  {
   "cell_type": "code",
   "execution_count": 22,
   "metadata": {},
   "outputs": [
    {
     "name": "stdout",
     "output_type": "stream",
     "text": [
      "100%|██████████| 4/4 [16:11<00:00, 242.89s/trial, best loss: 0.9244219653179191]\n",
      "0.05\n"
     ]
    }
   ],
   "source": [
    "reg_param_options = [.01, .05, .1, 0.2]\n",
    "\n",
    "space = {\n",
    "    **static_params,\n",
    "    'maxIter': max_iter, \n",
    "    'rank': rank,\n",
    "    \n",
    "    'regParam': hp.choice('reg_param', reg_param_options)\n",
    "}\n",
    "\n",
    "trials = Trials()\n",
    "best_reg_param = fmin(fn=als_obj,\n",
    "            space=space,\n",
    "            algo=tpe.suggest,\n",
    "            max_evals=4,\n",
    "            trials=trials)\n",
    "\n",
    "reg_param = reg_param_options[best_reg_param['reg_param']]\n",
    "print(reg_param)"
   ]
  },
  {
   "cell_type": "code",
   "execution_count": 38,
   "metadata": {},
   "outputs": [],
   "source": [
    "graph_walks = make_walks(train_df, 20, 3.).limit(300000)\n",
    "\n",
    "def deep_walk_obj(config):\n",
    "    model = DeepWalk(**config).fit(train_df, graph_walks)\n",
    "    prec_10 = precision_at_k(model.recommend(10), val_df, 10)\n",
    "    return {'loss': 1 - prec_10, 'status': STATUS_OK}"
   ]
  },
  {
   "cell_type": "code",
   "execution_count": 43,
   "metadata": {},
   "outputs": [
    {
     "name": "stdout",
     "output_type": "stream",
     "text": [
      "100%|██████████| 3/3 [07:47<00:00, 155.72s/trial, best loss: 0.9448366013071895]\n",
      "40\n"
     ]
    }
   ],
   "source": [
    "vector_size_options = [20, 40, 100]\n",
    "\n",
    "space = {\n",
    "    'vectorSize': hp.choice('vectorSize', vector_size_options),\n",
    "    'stepSize': .025,\n",
    "    'maxIter': 1, \n",
    "    'windowSize': 5\n",
    "}\n",
    "\n",
    "trials = Trials()\n",
    "best_vector_size = fmin(fn=deep_walk_obj,\n",
    "            space=space,\n",
    "            algo=tpe.suggest,\n",
    "            max_evals=3,\n",
    "            trials=trials)\n",
    "\n",
    "dw_vector_size = vector_size_options[best_vector_size['vectorSize']]\n",
    "print(dw_vector_size)"
   ]
  },
  {
   "cell_type": "code",
   "execution_count": 45,
   "metadata": {},
   "outputs": [
    {
     "name": "stdout",
     "output_type": "stream",
     "text": [
      "100%|██████████| 3/3 [08:27<00:00, 169.27s/trial, best loss: 0.9445751633986929]\n",
      "0.005\n"
     ]
    }
   ],
   "source": [
    "step_size_options = [.005, .025, .1]\n",
    "\n",
    "space = {\n",
    "    'stepSize': hp.choice('stepSize', step_size_options), \n",
    "    'vectorSize': dw_vector_size, \n",
    "    'maxIter': 1, \n",
    "    'windowSize': 5\n",
    "}\n",
    "\n",
    "trials = Trials()\n",
    "best_step_size = fmin(fn=deep_walk_obj,\n",
    "            space=space,\n",
    "            algo=tpe.suggest,\n",
    "            max_evals=3,\n",
    "            trials=trials)\n",
    "\n",
    "dw_step_size = step_size_options[best_step_size['stepSize']]\n",
    "print(dw_step_size)"
   ]
  },
  {
   "cell_type": "code",
   "execution_count": 46,
   "metadata": {},
   "outputs": [
    {
     "name": "stdout",
     "output_type": "stream",
     "text": [
      "100%|██████████| 2/2 [08:00<00:00, 240.45s/trial, best loss: 0.9441830065359477]\n",
      "10\n"
     ]
    }
   ],
   "source": [
    "window_size_options = [5, 10]\n",
    "\n",
    "space = {\n",
    "    'windowSize': hp.choice('windowSize', window_size_options), \n",
    "    'stepSize': dw_step_size, \n",
    "    'vectorSize': dw_vector_size, \n",
    "    'maxIter': 1\n",
    "}\n",
    "\n",
    "trials = Trials()\n",
    "best_window_size = fmin(fn=deep_walk_obj,\n",
    "            space=space,\n",
    "            algo=tpe.suggest,\n",
    "            max_evals=2,\n",
    "            trials=trials)\n",
    "\n",
    "dw_window_size = window_size_options[best_window_size['windowSize']]\n",
    "print(dw_window_size)"
   ]
  },
  {
   "cell_type": "code",
   "execution_count": 47,
   "metadata": {},
   "outputs": [
    {
     "name": "stdout",
     "output_type": "stream",
     "text": [
      "100%|██████████| 2/2 [18:35<00:00, 557.83s/trial, best loss: 0.9474509803921568]\n",
      "3\n"
     ]
    }
   ],
   "source": [
    "max_iter_options = [1, 3]\n",
    "\n",
    "space = {\n",
    "    'maxIter': hp.choice('maxIter', max_iter_options),\n",
    "    'windowSize': dw_window_size,\n",
    "    'stepSize': dw_step_size, \n",
    "    'vectorSize': dw_vector_size\n",
    "}\n",
    "\n",
    "trials = Trials()\n",
    "best_max_iter = fmin(fn=deep_walk_obj,\n",
    "            space=space,\n",
    "            algo=tpe.suggest,\n",
    "            max_evals=2,\n",
    "            trials=trials)\n",
    "\n",
    "dw_max_iter = max_iter_options[best_max_iter['maxIter']]\n",
    "print(dw_max_iter)"
   ]
  },
  {
   "cell_type": "code",
   "execution_count": 23,
   "metadata": {},
   "outputs": [
    {
     "data": {
      "text/plain": [
       "(0.025794797687861293, 0.17991329479768786)"
      ]
     },
     "execution_count": 23,
     "metadata": {},
     "output_type": "execute_result"
    }
   ],
   "source": [
    "als_opt_model = ALS(maxIter=max_iter, regParam=reg_param, rank=rank, userCol='userId', \n",
    "                    itemCol='movieId', ratingCol='rating', coldStartStrategy='drop', \n",
    "                    implicitPrefs=False, nonnegative=True).fit(train_df)\n",
    "als_opt_recommendations = recommend(als_opt_model, 10)\n",
    "precision_at_k(als_opt_recommendations, test_df, 10), hr(als_opt_recommendations, test_df)"
   ]
  },
  {
   "cell_type": "code",
   "execution_count": 50,
   "metadata": {},
   "outputs": [
    {
     "data": {
      "text/plain": [
       "(0.01816993464052286, 0.14248366013071895)"
      ]
     },
     "execution_count": 50,
     "metadata": {},
     "output_type": "execute_result"
    }
   ],
   "source": [
    "dw_opt_model = DeepWalk(maxIter=dw_max_iter, windowSize=dw_window_size,\n",
    "    stepSize=dw_step_size, vectorSize=dw_vector_size).fit(train_df, graph_walks)\n",
    "dw_opt_recommendations = dw_opt_model.recommend(10)\n",
    "precision_at_k(dw_opt_recommendations, test_df, 10), hr(dw_opt_recommendations, test_df)"
   ]
  }
 ],
 "metadata": {
  "kernelspec": {
   "display_name": "Python 3",
   "language": "python",
   "name": "python3"
  },
  "language_info": {
   "codemirror_mode": {
    "name": "ipython",
    "version": 3
   },
   "file_extension": ".py",
   "mimetype": "text/x-python",
   "name": "python",
   "nbconvert_exporter": "python",
   "pygments_lexer": "ipython3",
   "version": "3.5.6"
  },
  "toc": {
   "base_numbering": 1,
   "nav_menu": {},
   "number_sections": true,
   "sideBar": true,
   "skip_h1_title": false,
   "title_cell": "Table of Contents",
   "title_sidebar": "Contents",
   "toc_cell": true,
   "toc_position": {},
   "toc_section_display": true,
   "toc_window_display": true
  }
 },
 "nbformat": 4,
 "nbformat_minor": 2
}
