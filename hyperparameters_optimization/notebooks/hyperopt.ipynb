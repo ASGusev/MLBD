{
 "cells": [
  {
   "cell_type": "markdown",
   "metadata": {
    "toc": true
   },
   "source": [
    "<h1>Table of Contents<span class=\"tocSkip\"></span></h1>\n",
    "<div class=\"toc\"><ul class=\"toc-item\"><li><span><a href=\"#Spark-MLlib-Tuning\" data-toc-modified-id=\"Spark-MLlib-Tuning-1\"><span class=\"toc-item-num\">1&nbsp;&nbsp;</span><a href=\"https://spark.apache.org/docs/latest/ml-tuning.html\" target=\"_blank\">Spark MLlib Tuning</a></a></span></li><li><span><a href=\"#Hyperopt\" data-toc-modified-id=\"Hyperopt-2\"><span class=\"toc-item-num\">2&nbsp;&nbsp;</span><a href=\"https://github.com/hyperopt/hyperopt\" target=\"_blank\">Hyperopt</a></a></span><ul class=\"toc-item\"><li><span><a href=\"#XGBoost-Tuning\" data-toc-modified-id=\"XGBoost-Tuning-2.1\"><span class=\"toc-item-num\">2.1&nbsp;&nbsp;</span><a href=\"https://www.analyticsvidhya.com/blog/2016/03/complete-guide-parameter-tuning-xgboost-with-codes-python/\" target=\"_blank\">XGBoost Tuning</a></a></span><ul class=\"toc-item\"><li><span><a href=\"#Objective-function\" data-toc-modified-id=\"Objective-function-2.1.1\"><span class=\"toc-item-num\">2.1.1&nbsp;&nbsp;</span>Objective function</a></span></li><li><span><a href=\"#Tune-number-of-trees\" data-toc-modified-id=\"Tune-number-of-trees-2.1.2\"><span class=\"toc-item-num\">2.1.2&nbsp;&nbsp;</span>Tune number of trees</a></span></li><li><span><a href=\"#Tune-tree-specific-parameters\" data-toc-modified-id=\"Tune-tree-specific-parameters-2.1.3\"><span class=\"toc-item-num\">2.1.3&nbsp;&nbsp;</span>Tune tree-specific parameters</a></span><ul class=\"toc-item\"><li><span><a href=\"#Tune-max_depth,-min_child_weight\" data-toc-modified-id=\"Tune-max_depth,-min_child_weight-2.1.3.1\"><span class=\"toc-item-num\">2.1.3.1&nbsp;&nbsp;</span>Tune max_depth, min_child_weight</a></span></li><li><span><a href=\"#Tune-gamma\" data-toc-modified-id=\"Tune-gamma-2.1.3.2\"><span class=\"toc-item-num\">2.1.3.2&nbsp;&nbsp;</span>Tune gamma</a></span></li><li><span><a href=\"#Tune-subsample,-colsample_bytree\" data-toc-modified-id=\"Tune-subsample,-colsample_bytree-2.1.3.3\"><span class=\"toc-item-num\">2.1.3.3&nbsp;&nbsp;</span>Tune subsample, colsample_bytree</a></span></li></ul></li><li><span><a href=\"#Tune-regularization-parameters\" data-toc-modified-id=\"Tune-regularization-parameters-2.1.4\"><span class=\"toc-item-num\">2.1.4&nbsp;&nbsp;</span>Tune regularization parameters</a></span></li><li><span><a href=\"#Lower-the-learning-rate-and-decide-the-optimal-parameters\" data-toc-modified-id=\"Lower-the-learning-rate-and-decide-the-optimal-parameters-2.1.5\"><span class=\"toc-item-num\">2.1.5&nbsp;&nbsp;</span>Lower the learning rate and decide the optimal parameters</a></span></li></ul></li><li><span><a href=\"#LogisticRegression-Tuning\" data-toc-modified-id=\"LogisticRegression-Tuning-2.2\"><span class=\"toc-item-num\">2.2&nbsp;&nbsp;</span>LogisticRegression Tuning</a></span></li><li><span><a href=\"#Optional-MongoTrials\" data-toc-modified-id=\"Optional-MongoTrials-2.3\"><span class=\"toc-item-num\">2.3&nbsp;&nbsp;</span>Optional <a href=\"https://hyperopt.github.io/hyperopt/scaleout/mongodb/\" target=\"_blank\">MongoTrials</a></a></span><ul class=\"toc-item\"><li><span><a href=\"#XGBoost-Tuning\" data-toc-modified-id=\"XGBoost-Tuning-2.3.1\"><span class=\"toc-item-num\">2.3.1&nbsp;&nbsp;</span>XGBoost Tuning</a></span></li></ul></li></ul></li><li><span><a href=\"#Results\" data-toc-modified-id=\"Results-3\"><span class=\"toc-item-num\">3&nbsp;&nbsp;</span>Results</a></span></li></ul></div>"
   ]
  },
  {
   "cell_type": "markdown",
   "metadata": {},
   "source": [
    "Продолжаем работать над задачей CTR-prediction с использованием датасета от Criteo.\n",
    "\n",
    "Описание задачи и данных можно посмотреть в notebook'e предыдущей практики (`sgd_logreg_nn/notebooks/ctr_prediction_mllib.ipynb`)."
   ]
  },
  {
   "cell_type": "code",
   "execution_count": 1,
   "metadata": {},
   "outputs": [],
   "source": [
    "%matplotlib inline\n",
    "%config InlineBackend.figure_format ='retina'\n",
    "\n",
    "import os\n",
    "import sys\n",
    "import glob\n",
    "import pickle\n",
    "import seaborn as sns\n",
    "import matplotlib.pyplot as plt\n",
    "import numpy as np\n",
    "\n",
    "import pyspark\n",
    "import pyspark.sql.functions as F\n",
    "from pyspark.conf import SparkConf\n",
    "from pyspark.sql import SQLContext\n",
    "from pyspark.sql import SparkSession\n",
    "from pyspark.sql import Row\n",
    "\n",
    "COMMON_PATH = '/workspace/common'\n",
    "\n",
    "sys.path.append(os.path.join(COMMON_PATH, 'utils'))\n",
    "\n",
    "os.environ['PYSPARK_SUBMIT_ARGS'] = \"\"\"\n",
    "--jars {common}/xgboost4j-spark-0.72.jar,{common}/xgboost4j-0.72.jar\n",
    "--py-files {common}/sparkxgb.zip pyspark-shell\n",
    "\"\"\".format(common=COMMON_PATH).replace('\\n', ' ')\n",
    "\n",
    "spark = SparkSession \\\n",
    "    .builder \\\n",
    "    .master('local[*]') \\\n",
    "    .appName(\"spark_sql_examples\") \\\n",
    "    .config(\"spark.executor.memory\", \"6g\") \\\n",
    "    .getOrCreate()\n",
    "\n",
    "sc = spark.sparkContext\n",
    "sqlContext = SQLContext(sc)\n",
    "\n",
    "from metrics import rocauc, logloss, ne, get_ate\n",
    "from processing import split_by_col\n",
    "\n",
    "from sparkxgb.xgboost import *"
   ]
  },
  {
   "cell_type": "code",
   "execution_count": 2,
   "metadata": {},
   "outputs": [],
   "source": [
    "DATA_PATH = '/workspace/data/criteo'\n",
    "\n",
    "TRAIN_PATH = os.path.join(DATA_PATH, 'train.csv')"
   ]
  },
  {
   "cell_type": "code",
   "execution_count": 3,
   "metadata": {},
   "outputs": [],
   "source": [
    "df = sqlContext.read.format(\"com.databricks.spark.csv\") \\\n",
    "    .option(\"delimiter\", \",\") \\\n",
    "    .option(\"header\", \"true\") \\\n",
    "    .option(\"inferSchema\", \"true\") \\\n",
    "    .load('file:///' + TRAIN_PATH)"
   ]
  },
  {
   "cell_type": "markdown",
   "metadata": {},
   "source": [
    "**Remark** Необязательно использовать половину датасета и всего две категориальные переменные. Можно использовать больше данных, если вам позволяет ваша конфигурация"
   ]
  },
  {
   "cell_type": "code",
   "execution_count": 4,
   "metadata": {},
   "outputs": [],
   "source": [
    "df = df.sample(False, 0.5)"
   ]
  },
  {
   "cell_type": "code",
   "execution_count": 5,
   "metadata": {},
   "outputs": [
    {
     "data": {
      "text/plain": [
       "(13, 2)"
      ]
     },
     "execution_count": 5,
     "metadata": {},
     "output_type": "execute_result"
    }
   ],
   "source": [
    "num_columns = ['_c{}'.format(i) for i in range(1, 14)]\n",
    "cat_columns = ['_c{}'.format(i) for i in range(14, 40)][:2]\n",
    "len(num_columns), len(cat_columns)"
   ]
  },
  {
   "cell_type": "code",
   "execution_count": 6,
   "metadata": {},
   "outputs": [],
   "source": [
    "df = df.fillna(0, subset=num_columns)"
   ]
  },
  {
   "cell_type": "code",
   "execution_count": 7,
   "metadata": {},
   "outputs": [],
   "source": [
    "from pyspark.ml import PipelineModel\n",
    "\n",
    "\n",
    "pipeline_model = PipelineModel.load(os.path.join(DATA_PATH, 'pipeline_model'))"
   ]
  },
  {
   "cell_type": "code",
   "execution_count": 8,
   "metadata": {},
   "outputs": [
    {
     "data": {
      "text/plain": [
       "1833342"
      ]
     },
     "execution_count": 8,
     "metadata": {},
     "output_type": "execute_result"
    }
   ],
   "source": [
    "df = pipeline_model \\\n",
    "    .transform(df) \\\n",
    "    .select(F.col('_c0').alias('label'), 'features', 'id') \\\n",
    "    .cache()\n",
    "\n",
    "df.count()"
   ]
  },
  {
   "cell_type": "code",
   "execution_count": 9,
   "metadata": {},
   "outputs": [],
   "source": [
    "train_df, val_df, test_df = split_by_col(df, 'id', [0.8, 0.1, 0.1])"
   ]
  },
  {
   "cell_type": "markdown",
   "metadata": {},
   "source": [
    "# [Spark MLlib Tuning](https://spark.apache.org/docs/latest/ml-tuning.html)\n",
    "\n",
    "У имеющегося в Spark'e метода HPO есть два существенных недостатка, которые делают его мало пригодным в контексте нашей задачи:\n",
    "\n",
    "1. `ParamGridBuilder` - поиск по сетке\n",
    "2. `TrainValidationSplit` - делит данные случайнм образом"
   ]
  },
  {
   "cell_type": "code",
   "execution_count": null,
   "metadata": {},
   "outputs": [],
   "source": []
  },
  {
   "cell_type": "markdown",
   "metadata": {},
   "source": [
    "# [Hyperopt](https://github.com/hyperopt/hyperopt)\n",
    "\n",
    "Установим `hyperopt`"
   ]
  },
  {
   "cell_type": "code",
   "execution_count": 10,
   "metadata": {},
   "outputs": [
    {
     "name": "stdout",
     "output_type": "stream",
     "text": [
      "Collecting hyperopt\n",
      "  Downloading hyperopt-0.2.3-py3-none-any.whl (1.9 MB)\n",
      "\u001b[K     |████████████████████████████████| 1.9 MB 520 kB/s eta 0:00:01\n",
      "\u001b[?25hCollecting future\n",
      "  Downloading future-0.18.2.tar.gz (829 kB)\n",
      "\u001b[K     |████████████████████████████████| 829 kB 458 kB/s eta 0:00:01\n",
      "\u001b[?25hCollecting cloudpickle\n",
      "  Downloading cloudpickle-1.3.0-py2.py3-none-any.whl (26 kB)\n",
      "Collecting tqdm\n",
      "  Downloading tqdm-4.43.0-py2.py3-none-any.whl (59 kB)\n",
      "\u001b[K     |████████████████████████████████| 59 kB 630 kB/s eta 0:00:01\n",
      "\u001b[?25hRequirement already satisfied: scipy in /usr/lib64/python3.5/site-packages (from hyperopt) (1.3.3)\n",
      "Requirement already satisfied: numpy in /usr/lib64/python3.5/site-packages (from hyperopt) (1.17.2)\n",
      "Collecting networkx==2.2\n",
      "  Downloading networkx-2.2.zip (1.7 MB)\n",
      "\u001b[K     |████████████████████████████████| 1.7 MB 763 kB/s eta 0:00:01\n",
      "\u001b[?25hRequirement already satisfied: six in /usr/lib/python3.5/site-packages (from hyperopt) (1.14.0)\n",
      "Requirement already satisfied: decorator>=4.3.0 in /usr/lib/python3.5/site-packages (from networkx==2.2->hyperopt) (4.4.1)\n",
      "Installing collected packages: future, cloudpickle, tqdm, networkx, hyperopt\n",
      "    Running setup.py install for future ... \u001b[?25ldone\n",
      "\u001b[?25h    Running setup.py install for networkx ... \u001b[?25ldone\n",
      "\u001b[?25hSuccessfully installed cloudpickle-1.3.0 future-0.18.2 hyperopt-0.2.3 networkx-2.2 tqdm-4.43.0\n"
     ]
    }
   ],
   "source": [
    "!pip3.5 install hyperopt"
   ]
  },
  {
   "cell_type": "markdown",
   "metadata": {},
   "source": [
    "## [XGBoost Tuning](https://www.analyticsvidhya.com/blog/2016/03/complete-guide-parameter-tuning-xgboost-with-codes-python/)\n",
    "\n",
    "> [Notes on Parameter Tuning](https://xgboost.readthedocs.io/en/latest/tutorials/param_tuning.html)\n",
    "\n",
    "### Objective function"
   ]
  },
  {
   "cell_type": "code",
   "execution_count": 11,
   "metadata": {},
   "outputs": [],
   "source": [
    "from hyperopt import fmin, tpe, hp, Trials, STATUS_OK\n",
    "import scipy.stats as st\n",
    "\n",
    "\n",
    "def objective(space):\n",
    "    estimator = XGBoostEstimator(**space)\n",
    "    print('SPACE:', estimator._input_kwargs_processed())\n",
    "    success = False\n",
    "    attempts = 0\n",
    "    model = None\n",
    "    while not success and attempts < 2:\n",
    "        try:\n",
    "            model = estimator.fit(train_df)\n",
    "            success = True\n",
    "        except Exception as e:\n",
    "            attempts += 1\n",
    "            print(e)\n",
    "            print('Try again')\n",
    "        \n",
    "    log_loss = logloss(model, val_df, probabilities_col='probabilities')\n",
    "    roc_auc = rocauc(model, val_df, probabilities_col='probabilities')\n",
    "    \n",
    "    print('LOG-LOSS: {}, ROC-AUC: {}'.format(log_loss, roc_auc))\n",
    "\n",
    "    return {'loss': log_loss, 'rocauc': roc_auc, 'status': STATUS_OK }"
   ]
  },
  {
   "cell_type": "code",
   "execution_count": 40,
   "metadata": {},
   "outputs": [],
   "source": [
    "static_params = {\n",
    "    'featuresCol': \"features\", \n",
    "    'labelCol': \"label\", \n",
    "    'predictionCol': \"prediction\",\n",
    "    'eval_metric': 'logloss',\n",
    "    'objective': 'binary:logistic',\n",
    "    'nthread': 1,\n",
    "    'silent': 0,\n",
    "    'nworkers': 4\n",
    "}"
   ]
  },
  {
   "cell_type": "markdown",
   "metadata": {},
   "source": [
    "Fix baseline parameters and train baseline model"
   ]
  },
  {
   "cell_type": "code",
   "execution_count": 13,
   "metadata": {},
   "outputs": [],
   "source": [
    "CONTROL_NAME = 'xgb baseline'\n",
    "\n",
    "baseline_params = {\n",
    "    'colsample_bytree': 0.9,\n",
    "    'eta': 0.15,\n",
    "    'gamma': 0.9,\n",
    "    'max_depth': 6,\n",
    "    'min_child_weight': 50.0,\n",
    "    'subsample': 0.9,\n",
    "    'num_round': 20\n",
    "}\n",
    "\n",
    "baseline_model = XGBoostEstimator(**{**static_params, **baseline_params}).fit(train_df)"
   ]
  },
  {
   "cell_type": "code",
   "execution_count": 14,
   "metadata": {},
   "outputs": [
    {
     "data": {
      "text/plain": [
       "0.726822630845867"
      ]
     },
     "execution_count": 14,
     "metadata": {},
     "output_type": "execute_result"
    }
   ],
   "source": [
    "baseline_rocauc = rocauc(baseline_model, val_df, probabilities_col='probabilities')\n",
    "baseline_rocauc"
   ]
  },
  {
   "cell_type": "code",
   "execution_count": 15,
   "metadata": {},
   "outputs": [],
   "source": [
    "all_metrics = {}"
   ]
  },
  {
   "cell_type": "code",
   "execution_count": 16,
   "metadata": {},
   "outputs": [],
   "source": [
    "baseline_test_metrics = {\n",
    "    'logloss': logloss(baseline_model, test_df, probabilities_col='probabilities'),\n",
    "    'rocauc': rocauc(baseline_model, test_df, probabilities_col='probabilities')\n",
    "}\n",
    "\n",
    "all_metrics[CONTROL_NAME] = baseline_test_metrics"
   ]
  },
  {
   "cell_type": "markdown",
   "metadata": {},
   "source": [
    "### Tune number of trees\n",
    "\n",
    "> Choose a relatively high learning rate. Generally a learning rate of 0.1 works but somewhere between 0.05 to 0.3 should work for different problems. Determine the optimum number of trees for this learning rate."
   ]
  },
  {
   "cell_type": "code",
   "execution_count": 29,
   "metadata": {
    "scrolled": true
   },
   "outputs": [
    {
     "name": "stdout",
     "output_type": "stream",
     "text": [
      "SPACE:                                                \n",
      "{'nthread': 1, 'subsample': 0.9, 'max_depth': 6, 'num_round': 10, 'min_child_weight': 50.0, 'colsample_bytree': 0.9, 'featuresCol': 'features', 'objective': 'binary:logistic', 'nworkers': 1, 'predictionCol': 'prediction', 'silent': 0, 'eta': 0.15, 'gamma': 0.9, 'labelCol': 'label', 'eval_metric': 'logloss'}\n",
      "LOG-LOSS: 0.5233571687421811, ROC-AUC: 0.7218132639750544\n",
      "SPACE:                                                                          \n",
      "{'nthread': 1, 'subsample': 0.9, 'max_depth': 6, 'num_round': 100, 'min_child_weight': 50.0, 'colsample_bytree': 0.9, 'featuresCol': 'features', 'objective': 'binary:logistic', 'nworkers': 1, 'predictionCol': 'prediction', 'silent': 0, 'eta': 0.1, 'gamma': 0.9, 'labelCol': 'label', 'eval_metric': 'logloss'}\n",
      "LOG-LOSS: 0.5021889577229195, ROC-AUC: 0.7349656930050602                       \n",
      "SPACE:                                                                          \n",
      "{'nthread': 1, 'subsample': 0.9, 'max_depth': 6, 'num_round': 10, 'min_child_weight': 50.0, 'colsample_bytree': 0.9, 'featuresCol': 'features', 'objective': 'binary:logistic', 'nworkers': 1, 'predictionCol': 'prediction', 'silent': 0, 'eta': 0.15, 'gamma': 0.9, 'labelCol': 'label', 'eval_metric': 'logloss'}\n",
      "LOG-LOSS: 0.5233571687421811, ROC-AUC: 0.7218132639750537                       \n",
      "SPACE:                                                                          \n",
      "{'nthread': 1, 'subsample': 0.9, 'max_depth': 6, 'num_round': 10, 'min_child_weight': 50.0, 'colsample_bytree': 0.9, 'featuresCol': 'features', 'objective': 'binary:logistic', 'nworkers': 1, 'predictionCol': 'prediction', 'silent': 0, 'eta': 0.15, 'gamma': 0.9, 'labelCol': 'label', 'eval_metric': 'logloss'}\n",
      "LOG-LOSS: 0.5233571687421811, ROC-AUC: 0.721813263975053                        \n",
      "SPACE:                                                                          \n",
      "{'nthread': 1, 'subsample': 0.9, 'max_depth': 6, 'num_round': 40, 'min_child_weight': 50.0, 'colsample_bytree': 0.9, 'featuresCol': 'features', 'objective': 'binary:logistic', 'nworkers': 1, 'predictionCol': 'prediction', 'silent': 0, 'eta': 0.1, 'gamma': 0.9, 'labelCol': 'label', 'eval_metric': 'logloss'}\n",
      "LOG-LOSS: 0.5062206416669133, ROC-AUC: 0.7293529095621764                       \n",
      "SPACE:                                                                          \n",
      "{'nthread': 1, 'subsample': 0.9, 'max_depth': 6, 'num_round': 40, 'min_child_weight': 50.0, 'colsample_bytree': 0.9, 'featuresCol': 'features', 'objective': 'binary:logistic', 'nworkers': 1, 'predictionCol': 'prediction', 'silent': 0, 'eta': 0.1, 'gamma': 0.9, 'labelCol': 'label', 'eval_metric': 'logloss'}\n",
      "LOG-LOSS: 0.5062206416669133, ROC-AUC: 0.7293529095621758                       \n",
      "SPACE:                                                                          \n",
      "{'nthread': 1, 'subsample': 0.9, 'max_depth': 6, 'num_round': 10, 'min_child_weight': 50.0, 'colsample_bytree': 0.9, 'featuresCol': 'features', 'objective': 'binary:logistic', 'nworkers': 1, 'predictionCol': 'prediction', 'silent': 0, 'eta': 0.2, 'gamma': 0.9, 'labelCol': 'label', 'eval_metric': 'logloss'}\n",
      "LOG-LOSS: 0.5147366188612094, ROC-AUC: 0.7231427629153435                       \n",
      "SPACE:                                                                          \n",
      "{'nthread': 1, 'subsample': 0.9, 'max_depth': 6, 'num_round': 100, 'min_child_weight': 50.0, 'colsample_bytree': 0.9, 'featuresCol': 'features', 'objective': 'binary:logistic', 'nworkers': 1, 'predictionCol': 'prediction', 'silent': 0, 'eta': 0.5, 'gamma': 0.9, 'labelCol': 'label', 'eval_metric': 'logloss'}\n",
      "LOG-LOSS: 0.49808582959475695, ROC-AUC: 0.7401255479173806                      \n",
      "SPACE:                                                                            \n",
      "{'nthread': 1, 'subsample': 0.9, 'max_depth': 6, 'num_round': 100, 'min_child_weight': 50.0, 'colsample_bytree': 0.9, 'featuresCol': 'features', 'objective': 'binary:logistic', 'nworkers': 1, 'predictionCol': 'prediction', 'silent': 0, 'eta': 0.15, 'gamma': 0.9, 'labelCol': 'label', 'eval_metric': 'logloss'}\n",
      "LOG-LOSS: 0.5007997276627983, ROC-AUC: 0.7367195013338059                         \n",
      "SPACE:                                                                            \n",
      "{'nthread': 1, 'subsample': 0.9, 'max_depth': 6, 'num_round': 10, 'min_child_weight': 50.0, 'colsample_bytree': 0.9, 'featuresCol': 'features', 'objective': 'binary:logistic', 'nworkers': 1, 'predictionCol': 'prediction', 'silent': 0, 'eta': 0.2, 'gamma': 0.9, 'labelCol': 'label', 'eval_metric': 'logloss'}\n",
      "LOG-LOSS: 0.5147366188612094, ROC-AUC: 0.7231427629153421                         \n",
      "SPACE:                                                                             \n",
      "{'nthread': 1, 'subsample': 0.9, 'max_depth': 6, 'num_round': 10, 'min_child_weight': 50.0, 'colsample_bytree': 0.9, 'featuresCol': 'features', 'objective': 'binary:logistic', 'nworkers': 1, 'predictionCol': 'prediction', 'silent': 0, 'eta': 0.3, 'gamma': 0.9, 'labelCol': 'label', 'eval_metric': 'logloss'}\n",
      "LOG-LOSS: 0.5087320917944209, ROC-AUC: 0.7260538169778746                          \n",
      "SPACE:                                                                             \n",
      "{'nthread': 1, 'subsample': 0.9, 'max_depth': 6, 'num_round': 40, 'min_child_weight': 50.0, 'colsample_bytree': 0.9, 'featuresCol': 'features', 'objective': 'binary:logistic', 'nworkers': 1, 'predictionCol': 'prediction', 'silent': 0, 'eta': 0.15, 'gamma': 0.9, 'labelCol': 'label', 'eval_metric': 'logloss'}\n",
      "LOG-LOSS: 0.5042826119899315, ROC-AUC: 0.7319125866841469                         \n",
      "SPACE:                                                                            \n",
      "{'nthread': 1, 'subsample': 0.9, 'max_depth': 6, 'num_round': 40, 'min_child_weight': 50.0, 'colsample_bytree': 0.9, 'featuresCol': 'features', 'objective': 'binary:logistic', 'nworkers': 1, 'predictionCol': 'prediction', 'silent': 0, 'eta': 0.2, 'gamma': 0.9, 'labelCol': 'label', 'eval_metric': 'logloss'}\n",
      "LOG-LOSS: 0.5032159451434031, ROC-AUC: 0.7333919880581987                         \n",
      "SPACE:                                                                            \n",
      "{'nthread': 1, 'subsample': 0.9, 'max_depth': 6, 'num_round': 100, 'min_child_weight': 50.0, 'colsample_bytree': 0.9, 'featuresCol': 'features', 'objective': 'binary:logistic', 'nworkers': 1, 'predictionCol': 'prediction', 'silent': 0, 'eta': 0.3, 'gamma': 0.9, 'labelCol': 'label', 'eval_metric': 'logloss'}\n",
      "LOG-LOSS: 0.4988788156279126, ROC-AUC: 0.7392129853692209                         \n",
      "SPACE:                                                                             \n",
      "{'nthread': 1, 'subsample': 0.9, 'max_depth': 6, 'num_round': 20, 'min_child_weight': 50.0, 'colsample_bytree': 0.9, 'featuresCol': 'features', 'objective': 'binary:logistic', 'nworkers': 1, 'predictionCol': 'prediction', 'silent': 0, 'eta': 0.3, 'gamma': 0.9, 'labelCol': 'label', 'eval_metric': 'logloss'}\n",
      "LOG-LOSS: 0.5044203744825575, ROC-AUC: 0.7314734851318858                          \n",
      "SPACE:                                                                             \n",
      "{'nthread': 1, 'subsample': 0.9, 'max_depth': 6, 'num_round': 10, 'min_child_weight': 50.0, 'colsample_bytree': 0.9, 'featuresCol': 'features', 'objective': 'binary:logistic', 'nworkers': 1, 'predictionCol': 'prediction', 'silent': 0, 'eta': 0.1, 'gamma': 0.9, 'labelCol': 'label', 'eval_metric': 'logloss'}\n",
      "LOG-LOSS: 0.5428074412229985, ROC-AUC: 0.7201760870222883                          \n",
      "SPACE:                                                                             \n",
      "{'nthread': 1, 'subsample': 0.9, 'max_depth': 6, 'num_round': 20, 'min_child_weight': 50.0, 'colsample_bytree': 0.9, 'featuresCol': 'features', 'objective': 'binary:logistic', 'nworkers': 1, 'predictionCol': 'prediction', 'silent': 0, 'eta': 0.1, 'gamma': 0.9, 'labelCol': 'label', 'eval_metric': 'logloss'}\n",
      "LOG-LOSS: 0.5151729921560112, ROC-AUC: 0.7241074548383569                         \n",
      "SPACE:                                                                            \n",
      "{'nthread': 1, 'subsample': 0.9, 'max_depth': 6, 'num_round': 100, 'min_child_weight': 50.0, 'colsample_bytree': 0.9, 'featuresCol': 'features', 'objective': 'binary:logistic', 'nworkers': 1, 'predictionCol': 'prediction', 'silent': 0, 'eta': 0.15, 'gamma': 0.9, 'labelCol': 'label', 'eval_metric': 'logloss'}\n"
     ]
    },
    {
     "name": "stdout",
     "output_type": "stream",
     "text": [
      "LOG-LOSS: 0.5007997276627983, ROC-AUC: 0.7367195013338069                         \n",
      "SPACE:                                                                             \n",
      "{'nthread': 1, 'subsample': 0.9, 'max_depth': 6, 'num_round': 10, 'min_child_weight': 50.0, 'colsample_bytree': 0.9, 'featuresCol': 'features', 'objective': 'binary:logistic', 'nworkers': 1, 'predictionCol': 'prediction', 'silent': 0, 'eta': 0.15, 'gamma': 0.9, 'labelCol': 'label', 'eval_metric': 'logloss'}\n",
      "LOG-LOSS: 0.5233571687421811, ROC-AUC: 0.7218132639750525                          \n",
      "SPACE:                                                                             \n",
      "{'nthread': 1, 'subsample': 0.9, 'max_depth': 6, 'num_round': 40, 'min_child_weight': 50.0, 'colsample_bytree': 0.9, 'featuresCol': 'features', 'objective': 'binary:logistic', 'nworkers': 1, 'predictionCol': 'prediction', 'silent': 0, 'eta': 0.1, 'gamma': 0.9, 'labelCol': 'label', 'eval_metric': 'logloss'}\n",
      "LOG-LOSS: 0.5062206416669133, ROC-AUC: 0.7293529095621762                         \n",
      "100%|██████████| 20/20 [33:29<00:00, 100.45s/trial, best loss: 0.49808582959475695]\n",
      "CPU times: user 2.83 s, sys: 572 ms, total: 3.4 s\n",
      "Wall time: 33min 29s\n"
     ]
    }
   ],
   "source": [
    "%%time\n",
    "\n",
    "num_round_choice = [10, 20, 40, 100]\n",
    "eta_choice = [0.5, 0.10, 0.15, 0.20, 0.30]\n",
    "\n",
    "space = {\n",
    "    # Optimize\n",
    "    'num_round': hp.choice('num_round', num_round_choice),\n",
    "    'eta': hp.choice('eta', eta_choice),\n",
    "    \n",
    "    # Fixed    \n",
    "    'max_depth': baseline_params['max_depth'],\n",
    "    'min_child_weight': baseline_params['min_child_weight'],\n",
    "    'subsample': baseline_params['subsample'],\n",
    "    'gamma': baseline_params['gamma'],\n",
    "    'colsample_bytree': baseline_params['colsample_bytree'],\n",
    "    \n",
    "    **static_params\n",
    "}\n",
    "\n",
    "\n",
    "trials = Trials()\n",
    "best = fmin(fn=objective,\n",
    "            space=space,\n",
    "            algo=tpe.suggest,\n",
    "            max_evals=20,\n",
    "            trials=trials)"
   ]
  },
  {
   "cell_type": "code",
   "execution_count": 30,
   "metadata": {},
   "outputs": [
    {
     "data": {
      "text/plain": [
       "{'eta': 0, 'num_round': 3}"
      ]
     },
     "execution_count": 30,
     "metadata": {},
     "output_type": "execute_result"
    }
   ],
   "source": [
    "best"
   ]
  },
  {
   "cell_type": "markdown",
   "metadata": {},
   "source": [
    "Обратите внимание на то, что в случае с `hp.choice` в переменной `best` хранится не конкретное значение гиперпараметра, а его индекс из списка, например, `num_round_choice`"
   ]
  },
  {
   "cell_type": "code",
   "execution_count": 21,
   "metadata": {},
   "outputs": [],
   "source": [
    "eta = eta_choice[best['eta']]  # change me!\n",
    "num_round = num_round_choice[best['num_round']]  # change me!"
   ]
  },
  {
   "cell_type": "markdown",
   "metadata": {},
   "source": [
    "### Tune tree-specific parameters\n",
    "\n",
    "> Tune tree-specific parameters ( max_depth, min_child_weight, gamma, subsample, colsample_bytree) for decided learning rate and number of trees. Note that we can choose different parameters to define a tree and I’ll take up an example here."
   ]
  },
  {
   "cell_type": "markdown",
   "metadata": {},
   "source": [
    "#### Tune max_depth, min_child_weight"
   ]
  },
  {
   "cell_type": "code",
   "execution_count": 41,
   "metadata": {
    "scrolled": true
   },
   "outputs": [
    {
     "name": "stdout",
     "output_type": "stream",
     "text": [
      "SPACE:                                                \n",
      "{'nthread': 1, 'subsample': 0.9, 'max_depth': 8, 'num_round': 20, 'min_child_weight': 10.0, 'colsample_bytree': 0.9, 'featuresCol': 'features', 'objective': 'binary:logistic', 'nworkers': 4, 'predictionCol': 'prediction', 'silent': 0, 'eta': 0.15, 'gamma': 0.9, 'labelCol': 'label', 'eval_metric': 'logloss'}\n",
      "LOG-LOSS: 0.5058900708109083, ROC-AUC: 0.7302854871032325\n",
      "SPACE:                                                                          \n",
      "{'nthread': 1, 'subsample': 0.9, 'max_depth': 8, 'num_round': 20, 'min_child_weight': 100.0, 'colsample_bytree': 0.9, 'featuresCol': 'features', 'objective': 'binary:logistic', 'nworkers': 4, 'predictionCol': 'prediction', 'silent': 0, 'eta': 0.15, 'gamma': 0.9, 'labelCol': 'label', 'eval_metric': 'logloss'}\n",
      "LOG-LOSS: 0.5062720422223786, ROC-AUC: 0.7301174964126633                       \n",
      "SPACE:                                                                          \n",
      "{'nthread': 1, 'subsample': 0.9, 'max_depth': 12, 'num_round': 20, 'min_child_weight': 1.0, 'colsample_bytree': 0.9, 'featuresCol': 'features', 'objective': 'binary:logistic', 'nworkers': 4, 'predictionCol': 'prediction', 'silent': 0, 'eta': 0.15, 'gamma': 0.9, 'labelCol': 'label', 'eval_metric': 'logloss'}\n",
      "LOG-LOSS: 0.5035690613521224, ROC-AUC: 0.7331510356084111                       \n",
      "SPACE:                                                                          \n",
      "{'nthread': 1, 'subsample': 0.9, 'max_depth': 4, 'num_round': 20, 'min_child_weight': 1.0, 'colsample_bytree': 0.9, 'featuresCol': 'features', 'objective': 'binary:logistic', 'nworkers': 4, 'predictionCol': 'prediction', 'silent': 0, 'eta': 0.15, 'gamma': 0.9, 'labelCol': 'label', 'eval_metric': 'logloss'}\n",
      "LOG-LOSS: 0.5123780708501621, ROC-AUC: 0.721997425002955                        \n",
      "SPACE:                                                                          \n",
      "{'nthread': 1, 'subsample': 0.9, 'max_depth': 6, 'num_round': 20, 'min_child_weight': 50.0, 'colsample_bytree': 0.9, 'featuresCol': 'features', 'objective': 'binary:logistic', 'nworkers': 4, 'predictionCol': 'prediction', 'silent': 0, 'eta': 0.15, 'gamma': 0.9, 'labelCol': 'label', 'eval_metric': 'logloss'}\n",
      "LOG-LOSS: 0.5085891294460596, ROC-AUC: 0.7268289606994114                       \n",
      "SPACE:                                                                          \n",
      "{'nthread': 1, 'subsample': 0.9, 'max_depth': 8, 'num_round': 20, 'min_child_weight': 10.0, 'colsample_bytree': 0.9, 'featuresCol': 'features', 'objective': 'binary:logistic', 'nworkers': 4, 'predictionCol': 'prediction', 'silent': 0, 'eta': 0.15, 'gamma': 0.9, 'labelCol': 'label', 'eval_metric': 'logloss'}\n",
      "LOG-LOSS: 0.5059728042287843, ROC-AUC: 0.730295214827362                        \n",
      "SPACE:                                                                          \n",
      "{'nthread': 1, 'subsample': 0.9, 'max_depth': 6, 'num_round': 20, 'min_child_weight': 10.0, 'colsample_bytree': 0.9, 'featuresCol': 'features', 'objective': 'binary:logistic', 'nworkers': 4, 'predictionCol': 'prediction', 'silent': 0, 'eta': 0.15, 'gamma': 0.9, 'labelCol': 'label', 'eval_metric': 'logloss'}\n",
      "LOG-LOSS: 0.5084198778703393, ROC-AUC: 0.7272320234007288                       \n",
      "SPACE:                                                                          \n",
      "{'nthread': 1, 'subsample': 0.9, 'max_depth': 8, 'num_round': 20, 'min_child_weight': 100.0, 'colsample_bytree': 0.9, 'featuresCol': 'features', 'objective': 'binary:logistic', 'nworkers': 4, 'predictionCol': 'prediction', 'silent': 0, 'eta': 0.15, 'gamma': 0.9, 'labelCol': 'label', 'eval_metric': 'logloss'}\n",
      "LOG-LOSS: 0.5063640364232357, ROC-AUC: 0.729978612638612                        \n",
      "SPACE:                                                                          \n",
      "{'nthread': 1, 'subsample': 0.9, 'max_depth': 4, 'num_round': 20, 'min_child_weight': 1.0, 'colsample_bytree': 0.9, 'featuresCol': 'features', 'objective': 'binary:logistic', 'nworkers': 4, 'predictionCol': 'prediction', 'silent': 0, 'eta': 0.15, 'gamma': 0.9, 'labelCol': 'label', 'eval_metric': 'logloss'}\n",
      "LOG-LOSS: 0.5126963380388507, ROC-AUC: 0.7215797948064174                       \n",
      "SPACE:                                                                          \n",
      "{'nthread': 1, 'subsample': 0.9, 'max_depth': 6, 'num_round': 20, 'min_child_weight': 50.0, 'colsample_bytree': 0.9, 'featuresCol': 'features', 'objective': 'binary:logistic', 'nworkers': 4, 'predictionCol': 'prediction', 'silent': 0, 'eta': 0.15, 'gamma': 0.9, 'labelCol': 'label', 'eval_metric': 'logloss'}\n",
      "LOG-LOSS: 0.5085682143718453, ROC-AUC: 0.7269634531114502                       \n",
      "SPACE:                                                                           \n",
      "{'nthread': 1, 'subsample': 0.9, 'max_depth': 12, 'num_round': 20, 'min_child_weight': 100.0, 'colsample_bytree': 0.9, 'featuresCol': 'features', 'objective': 'binary:logistic', 'nworkers': 4, 'predictionCol': 'prediction', 'silent': 0, 'eta': 0.15, 'gamma': 0.9, 'labelCol': 'label', 'eval_metric': 'logloss'}\n",
      "LOG-LOSS: 0.5038698328022628, ROC-AUC: 0.733167634942845                         \n",
      "SPACE:                                                                           \n",
      "{'nthread': 1, 'subsample': 0.9, 'max_depth': 12, 'num_round': 20, 'min_child_weight': 100.0, 'colsample_bytree': 0.9, 'featuresCol': 'features', 'objective': 'binary:logistic', 'nworkers': 4, 'predictionCol': 'prediction', 'silent': 0, 'eta': 0.15, 'gamma': 0.9, 'labelCol': 'label', 'eval_metric': 'logloss'}\n",
      "LOG-LOSS: 0.5039292556800048, ROC-AUC: 0.733164175588098                         \n",
      "SPACE:                                                                           \n",
      "{'nthread': 1, 'subsample': 0.9, 'max_depth': 4, 'num_round': 20, 'min_child_weight': 1.0, 'colsample_bytree': 0.9, 'featuresCol': 'features', 'objective': 'binary:logistic', 'nworkers': 4, 'predictionCol': 'prediction', 'silent': 0, 'eta': 0.15, 'gamma': 0.9, 'labelCol': 'label', 'eval_metric': 'logloss'}\n",
      "LOG-LOSS: 0.51257996130231, ROC-AUC: 0.721654945788855                           \n",
      "SPACE:                                                                           \n",
      "{'nthread': 1, 'subsample': 0.9, 'max_depth': 12, 'num_round': 20, 'min_child_weight': 1.0, 'colsample_bytree': 0.9, 'featuresCol': 'features', 'objective': 'binary:logistic', 'nworkers': 4, 'predictionCol': 'prediction', 'silent': 0, 'eta': 0.15, 'gamma': 0.9, 'labelCol': 'label', 'eval_metric': 'logloss'}\n",
      "LOG-LOSS: 0.5038606231980941, ROC-AUC: 0.7327153105039473                        \n",
      "SPACE:                                                                           \n",
      "{'nthread': 1, 'subsample': 0.9, 'max_depth': 6, 'num_round': 20, 'min_child_weight': 100.0, 'colsample_bytree': 0.9, 'featuresCol': 'features', 'objective': 'binary:logistic', 'nworkers': 4, 'predictionCol': 'prediction', 'silent': 0, 'eta': 0.15, 'gamma': 0.9, 'labelCol': 'label', 'eval_metric': 'logloss'}\n",
      "LOG-LOSS: 0.5086055863835616, ROC-AUC: 0.7267758709340559                        \n",
      "SPACE:                                                                           \n",
      "{'nthread': 1, 'subsample': 0.9, 'max_depth': 8, 'num_round': 20, 'min_child_weight': 50.0, 'colsample_bytree': 0.9, 'featuresCol': 'features', 'objective': 'binary:logistic', 'nworkers': 4, 'predictionCol': 'prediction', 'silent': 0, 'eta': 0.15, 'gamma': 0.9, 'labelCol': 'label', 'eval_metric': 'logloss'}\n",
      "LOG-LOSS: 0.5061498516355214, ROC-AUC: 0.7302010216167086                        \n",
      "SPACE:                                                                           \n",
      "{'nthread': 1, 'subsample': 0.9, 'max_depth': 12, 'num_round': 20, 'min_child_weight': 10.0, 'colsample_bytree': 0.9, 'featuresCol': 'features', 'objective': 'binary:logistic', 'nworkers': 4, 'predictionCol': 'prediction', 'silent': 0, 'eta': 0.15, 'gamma': 0.9, 'labelCol': 'label', 'eval_metric': 'logloss'}\n",
      "LOG-LOSS: 0.5033507766673434, ROC-AUC: 0.7336780777790165                        \n",
      "SPACE:                                                                           \n",
      "{'nthread': 1, 'subsample': 0.9, 'max_depth': 8, 'num_round': 20, 'min_child_weight': 100.0, 'colsample_bytree': 0.9, 'featuresCol': 'features', 'objective': 'binary:logistic', 'nworkers': 4, 'predictionCol': 'prediction', 'silent': 0, 'eta': 0.15, 'gamma': 0.9, 'labelCol': 'label', 'eval_metric': 'logloss'}\n"
     ]
    },
    {
     "name": "stdout",
     "output_type": "stream",
     "text": [
      "LOG-LOSS: 0.50627389267702, ROC-AUC: 0.7300623775922761                          \n",
      "SPACE:                                                                           \n",
      "{'nthread': 1, 'subsample': 0.9, 'max_depth': 8, 'num_round': 20, 'min_child_weight': 100.0, 'colsample_bytree': 0.9, 'featuresCol': 'features', 'objective': 'binary:logistic', 'nworkers': 4, 'predictionCol': 'prediction', 'silent': 0, 'eta': 0.15, 'gamma': 0.9, 'labelCol': 'label', 'eval_metric': 'logloss'}\n",
      "LOG-LOSS: 0.50627389267702, ROC-AUC: 0.7300623775922758                          \n",
      "SPACE:                                                                           \n",
      "{'nthread': 1, 'subsample': 0.9, 'max_depth': 6, 'num_round': 20, 'min_child_weight': 100.0, 'colsample_bytree': 0.9, 'featuresCol': 'features', 'objective': 'binary:logistic', 'nworkers': 4, 'predictionCol': 'prediction', 'silent': 0, 'eta': 0.15, 'gamma': 0.9, 'labelCol': 'label', 'eval_metric': 'logloss'}\n",
      "LOG-LOSS: 0.5085099216111754, ROC-AUC: 0.7270951300897657                        \n",
      "100%|██████████| 20/20 [18:34<00:00, 55.70s/trial, best loss: 0.5033507766673434]\n",
      "CPU times: user 2.82 s, sys: 487 ms, total: 3.3 s\n",
      "Wall time: 18min 34s\n"
     ]
    }
   ],
   "source": [
    "%%time\n",
    "\n",
    "max_depth_choice = [4, 6, 8, 12]\n",
    "min_child_weight_choice = [1., 10., 50., 100., ]\n",
    "\n",
    "space = {\n",
    "    # Optimize\n",
    "    'max_depth': hp.choice('max_depth', max_depth_choice),\n",
    "    'min_child_weight': hp.choice('min_child_weight', min_child_weight_choice),\n",
    "    \n",
    "    # Fixed    \n",
    "    'num_round': baseline_params['num_round'],\n",
    "    'eta': baseline_params['eta'],\n",
    "    'subsample': baseline_params['subsample'],\n",
    "    'gamma': baseline_params['gamma'],\n",
    "    'colsample_bytree': baseline_params['colsample_bytree'],\n",
    "    \n",
    "    **static_params\n",
    "}\n",
    "\n",
    "\n",
    "trials_depth_child_weight = Trials()\n",
    "best_depth_child_weight = fmin(fn=objective,\n",
    "            space=space,\n",
    "            algo=tpe.suggest,\n",
    "            max_evals=20,\n",
    "            trials=trials_depth_child_weight)"
   ]
  },
  {
   "cell_type": "code",
   "execution_count": 42,
   "metadata": {},
   "outputs": [
    {
     "data": {
      "text/plain": [
       "{'max_depth': 3, 'min_child_weight': 1}"
      ]
     },
     "execution_count": 42,
     "metadata": {},
     "output_type": "execute_result"
    }
   ],
   "source": [
    "best_depth_child_weight"
   ]
  },
  {
   "cell_type": "markdown",
   "metadata": {},
   "source": [
    "#### Tune gamma"
   ]
  },
  {
   "cell_type": "code",
   "execution_count": 44,
   "metadata": {
    "scrolled": true
   },
   "outputs": [
    {
     "name": "stdout",
     "output_type": "stream",
     "text": [
      "SPACE:                                                \n",
      "{'nthread': 1, 'subsample': 0.9, 'max_depth': 6, 'num_round': 20, 'min_child_weight': 50.0, 'colsample_bytree': 0.9, 'featuresCol': 'features', 'objective': 'binary:logistic', 'nworkers': 4, 'predictionCol': 'prediction', 'silent': 0, 'eta': 0.15, 'gamma': 0.9, 'labelCol': 'label', 'eval_metric': 'logloss'}\n",
      "LOG-LOSS: 0.5085891294460596, ROC-AUC: 0.7268289606994125\n",
      "SPACE:                                                                          \n",
      "{'nthread': 1, 'subsample': 0.9, 'max_depth': 6, 'num_round': 20, 'min_child_weight': 50.0, 'colsample_bytree': 0.9, 'featuresCol': 'features', 'objective': 'binary:logistic', 'nworkers': 4, 'predictionCol': 'prediction', 'silent': 0, 'eta': 0.15, 'gamma': 3.0, 'labelCol': 'label', 'eval_metric': 'logloss'}\n",
      "LOG-LOSS: 0.5085244672407123, ROC-AUC: 0.72700704067199                         \n",
      "SPACE:                                                                          \n",
      "{'nthread': 1, 'subsample': 0.9, 'max_depth': 6, 'num_round': 20, 'min_child_weight': 50.0, 'colsample_bytree': 0.9, 'featuresCol': 'features', 'objective': 'binary:logistic', 'nworkers': 4, 'predictionCol': 'prediction', 'silent': 0, 'eta': 0.15, 'gamma': 0.1, 'labelCol': 'label', 'eval_metric': 'logloss'}\n",
      "LOG-LOSS: 0.5085558388324789, ROC-AUC: 0.7269656191331089                       \n",
      "SPACE:                                                                          \n",
      "{'nthread': 1, 'subsample': 0.9, 'max_depth': 6, 'num_round': 20, 'min_child_weight': 50.0, 'colsample_bytree': 0.9, 'featuresCol': 'features', 'objective': 'binary:logistic', 'nworkers': 4, 'predictionCol': 'prediction', 'silent': 0, 'eta': 0.15, 'gamma': 0.3, 'labelCol': 'label', 'eval_metric': 'logloss'}\n",
      "LOG-LOSS: 0.5085558388324789, ROC-AUC: 0.7269656191331073                       \n",
      "SPACE:                                                                          \n",
      "{'nthread': 1, 'subsample': 0.9, 'max_depth': 6, 'num_round': 20, 'min_child_weight': 50.0, 'colsample_bytree': 0.9, 'featuresCol': 'features', 'objective': 'binary:logistic', 'nworkers': 4, 'predictionCol': 'prediction', 'silent': 0, 'eta': 0.15, 'gamma': 10.0, 'labelCol': 'label', 'eval_metric': 'logloss'}\n",
      "LOG-LOSS: 0.5085707711182068, ROC-AUC: 0.7268399591737722                       \n",
      "SPACE:                                                                          \n",
      "{'nthread': 1, 'subsample': 0.9, 'max_depth': 6, 'num_round': 20, 'min_child_weight': 50.0, 'colsample_bytree': 0.9, 'featuresCol': 'features', 'objective': 'binary:logistic', 'nworkers': 4, 'predictionCol': 'prediction', 'silent': 0, 'eta': 0.15, 'gamma': 3.0, 'labelCol': 'label', 'eval_metric': 'logloss'}\n",
      "LOG-LOSS: 0.5084810524604694, ROC-AUC: 0.7269489671310936                       \n",
      "SPACE:                                                                          \n",
      "{'nthread': 1, 'subsample': 0.9, 'max_depth': 6, 'num_round': 20, 'min_child_weight': 50.0, 'colsample_bytree': 0.9, 'featuresCol': 'features', 'objective': 'binary:logistic', 'nworkers': 4, 'predictionCol': 'prediction', 'silent': 0, 'eta': 0.15, 'gamma': 3.0, 'labelCol': 'label', 'eval_metric': 'logloss'}\n",
      "LOG-LOSS: 0.5086328039004152, ROC-AUC: 0.7267214398856778                       \n",
      "SPACE:                                                                          \n",
      "{'nthread': 1, 'subsample': 0.9, 'max_depth': 6, 'num_round': 20, 'min_child_weight': 50.0, 'colsample_bytree': 0.9, 'featuresCol': 'features', 'objective': 'binary:logistic', 'nworkers': 4, 'predictionCol': 'prediction', 'silent': 0, 'eta': 0.15, 'gamma': 0.1, 'labelCol': 'label', 'eval_metric': 'logloss'}\n",
      "LOG-LOSS: 0.5085558388324789, ROC-AUC: 0.7269656191331071                       \n",
      "SPACE:                                                                          \n",
      "{'nthread': 1, 'subsample': 0.9, 'max_depth': 6, 'num_round': 20, 'min_child_weight': 50.0, 'colsample_bytree': 0.9, 'featuresCol': 'features', 'objective': 'binary:logistic', 'nworkers': 4, 'predictionCol': 'prediction', 'silent': 0, 'eta': 0.15, 'gamma': 0.9, 'labelCol': 'label', 'eval_metric': 'logloss'}\n",
      "LOG-LOSS: 0.5085682143718453, ROC-AUC: 0.726963453111452                        \n",
      "SPACE:                                                                          \n",
      "{'nthread': 1, 'subsample': 0.9, 'max_depth': 6, 'num_round': 20, 'min_child_weight': 50.0, 'colsample_bytree': 0.9, 'featuresCol': 'features', 'objective': 'binary:logistic', 'nworkers': 4, 'predictionCol': 'prediction', 'silent': 0, 'eta': 0.15, 'gamma': 3.0, 'labelCol': 'label', 'eval_metric': 'logloss'}\n",
      "LOG-LOSS: 0.5086188497920818, ROC-AUC: 0.7268980917240031                       \n",
      "SPACE:                                                                           \n",
      "{'nthread': 1, 'subsample': 0.9, 'max_depth': 6, 'num_round': 20, 'min_child_weight': 50.0, 'colsample_bytree': 0.9, 'featuresCol': 'features', 'objective': 'binary:logistic', 'nworkers': 4, 'predictionCol': 'prediction', 'silent': 0, 'eta': 0.15, 'gamma': 10.0, 'labelCol': 'label', 'eval_metric': 'logloss'}\n",
      "LOG-LOSS: 0.5085378347755881, ROC-AUC: 0.7270995997957492                        \n",
      "SPACE:                                                                           \n",
      "{'nthread': 1, 'subsample': 0.9, 'max_depth': 6, 'num_round': 20, 'min_child_weight': 50.0, 'colsample_bytree': 0.9, 'featuresCol': 'features', 'objective': 'binary:logistic', 'nworkers': 4, 'predictionCol': 'prediction', 'silent': 0, 'eta': 0.15, 'gamma': 10.0, 'labelCol': 'label', 'eval_metric': 'logloss'}\n",
      "LOG-LOSS: 0.5085378347755881, ROC-AUC: 0.7270995997957506                        \n",
      "SPACE:                                                                           \n",
      "{'nthread': 1, 'subsample': 0.9, 'max_depth': 6, 'num_round': 20, 'min_child_weight': 50.0, 'colsample_bytree': 0.9, 'featuresCol': 'features', 'objective': 'binary:logistic', 'nworkers': 4, 'predictionCol': 'prediction', 'silent': 0, 'eta': 0.15, 'gamma': 0.0, 'labelCol': 'label', 'eval_metric': 'logloss'}\n",
      "LOG-LOSS: 0.5086327162590086, ROC-AUC: 0.7267203095049684                        \n",
      "SPACE:                                                                           \n",
      "{'nthread': 1, 'subsample': 0.9, 'max_depth': 6, 'num_round': 20, 'min_child_weight': 50.0, 'colsample_bytree': 0.9, 'featuresCol': 'features', 'objective': 'binary:logistic', 'nworkers': 4, 'predictionCol': 'prediction', 'silent': 0, 'eta': 0.15, 'gamma': 10.0, 'labelCol': 'label', 'eval_metric': 'logloss'}\n",
      "LOG-LOSS: 0.5086654589492349, ROC-AUC: 0.7268904394580504                        \n",
      "SPACE:                                                                           \n",
      "{'nthread': 1, 'subsample': 0.9, 'max_depth': 6, 'num_round': 20, 'min_child_weight': 50.0, 'colsample_bytree': 0.9, 'featuresCol': 'features', 'objective': 'binary:logistic', 'nworkers': 4, 'predictionCol': 'prediction', 'silent': 0, 'eta': 0.15, 'gamma': 3.0, 'labelCol': 'label', 'eval_metric': 'logloss'}\n",
      "LOG-LOSS: 0.5086188497920818, ROC-AUC: 0.7268980917240038                        \n",
      "SPACE:                                                                           \n",
      "{'nthread': 1, 'subsample': 0.9, 'max_depth': 6, 'num_round': 20, 'min_child_weight': 50.0, 'colsample_bytree': 0.9, 'featuresCol': 'features', 'objective': 'binary:logistic', 'nworkers': 4, 'predictionCol': 'prediction', 'silent': 0, 'eta': 0.15, 'gamma': 10.0, 'labelCol': 'label', 'eval_metric': 'logloss'}\n",
      "LOG-LOSS: 0.5086202720225981, ROC-AUC: 0.7270201258959519                        \n",
      "SPACE:                                                                           \n",
      "{'nthread': 1, 'subsample': 0.9, 'max_depth': 6, 'num_round': 20, 'min_child_weight': 50.0, 'colsample_bytree': 0.9, 'featuresCol': 'features', 'objective': 'binary:logistic', 'nworkers': 4, 'predictionCol': 'prediction', 'silent': 0, 'eta': 0.15, 'gamma': 0.0, 'labelCol': 'label', 'eval_metric': 'logloss'}\n",
      "LOG-LOSS: 0.5085558388324789, ROC-AUC: 0.7269656191331086                        \n",
      "SPACE:                                                                           \n",
      "{'nthread': 1, 'subsample': 0.9, 'max_depth': 6, 'num_round': 20, 'min_child_weight': 50.0, 'colsample_bytree': 0.9, 'featuresCol': 'features', 'objective': 'binary:logistic', 'nworkers': 4, 'predictionCol': 'prediction', 'silent': 0, 'eta': 0.15, 'gamma': 0.0, 'labelCol': 'label', 'eval_metric': 'logloss'}\n"
     ]
    },
    {
     "name": "stdout",
     "output_type": "stream",
     "text": [
      "LOG-LOSS: 0.5084969906871213, ROC-AUC: 0.7270795848028542                        \n",
      "SPACE:                                                                           \n",
      "{'nthread': 1, 'subsample': 0.9, 'max_depth': 6, 'num_round': 20, 'min_child_weight': 50.0, 'colsample_bytree': 0.9, 'featuresCol': 'features', 'objective': 'binary:logistic', 'nworkers': 4, 'predictionCol': 'prediction', 'silent': 0, 'eta': 0.15, 'gamma': 10.0, 'labelCol': 'label', 'eval_metric': 'logloss'}\n",
      "LOG-LOSS: 0.5086202720225981, ROC-AUC: 0.7270201258959514                        \n",
      "SPACE:                                                                           \n",
      "{'nthread': 1, 'subsample': 0.9, 'max_depth': 6, 'num_round': 20, 'min_child_weight': 50.0, 'colsample_bytree': 0.9, 'featuresCol': 'features', 'objective': 'binary:logistic', 'nworkers': 4, 'predictionCol': 'prediction', 'silent': 0, 'eta': 0.15, 'gamma': 0.0, 'labelCol': 'label', 'eval_metric': 'logloss'}\n",
      "LOG-LOSS: 0.5086348508565168, ROC-AUC: 0.7270276487744627                        \n",
      "100%|██████████| 20/20 [13:50<00:00, 41.50s/trial, best loss: 0.5084810524604694]\n",
      "CPU times: user 2.73 s, sys: 454 ms, total: 3.19 s\n",
      "Wall time: 13min 50s\n"
     ]
    }
   ],
   "source": [
    "%%time\n",
    "\n",
    "gamma_choice = [0., 0.1, 0.3, 0.9, 3., 10.]\n",
    "\n",
    "space = {\n",
    "    # Optimize\n",
    "    'gamma': hp.choice('gamma', gamma_choice),\n",
    "    \n",
    "    # Fixed    \n",
    "    'num_round': baseline_params['num_round'],\n",
    "    'eta': baseline_params['eta'],\n",
    "    'max_depth': baseline_params['max_depth'],\n",
    "    'min_child_weight': baseline_params['min_child_weight'],\n",
    "    'subsample': baseline_params['subsample'],\n",
    "    'colsample_bytree': baseline_params['colsample_bytree'],\n",
    "    \n",
    "    **static_params\n",
    "}\n",
    "\n",
    "\n",
    "trials_gamma = Trials()\n",
    "best_gamma = fmin(fn=objective,\n",
    "            space=space,\n",
    "            algo=tpe.suggest,\n",
    "            max_evals=20,\n",
    "            trials=trials_gamma)"
   ]
  },
  {
   "cell_type": "code",
   "execution_count": 45,
   "metadata": {},
   "outputs": [
    {
     "data": {
      "text/plain": [
       "{'gamma': 4}"
      ]
     },
     "execution_count": 45,
     "metadata": {},
     "output_type": "execute_result"
    }
   ],
   "source": [
    "best_gamma"
   ]
  },
  {
   "cell_type": "markdown",
   "metadata": {},
   "source": [
    "#### Tune subsample, colsample_bytree"
   ]
  },
  {
   "cell_type": "code",
   "execution_count": 50,
   "metadata": {
    "scrolled": true
   },
   "outputs": [
    {
     "name": "stdout",
     "output_type": "stream",
     "text": [
      "SPACE:                                                \n",
      "{'nthread': 1, 'subsample': 0.8, 'max_depth': 6, 'num_round': 20, 'min_child_weight': 50.0, 'colsample_bytree': 0.2, 'featuresCol': 'features', 'objective': 'binary:logistic', 'nworkers': 4, 'predictionCol': 'prediction', 'silent': 0, 'eta': 0.15, 'gamma': 0.9, 'labelCol': 'label', 'eval_metric': 'logloss'}\n",
      "LOG-LOSS: 0.5160354565958816, ROC-AUC: 0.721767719361712\n",
      "SPACE:                                                                          \n",
      "{'nthread': 1, 'subsample': 0.2, 'max_depth': 6, 'num_round': 20, 'min_child_weight': 50.0, 'colsample_bytree': 0.5, 'featuresCol': 'features', 'objective': 'binary:logistic', 'nworkers': 4, 'predictionCol': 'prediction', 'silent': 0, 'eta': 0.15, 'gamma': 0.9, 'labelCol': 'label', 'eval_metric': 'logloss'}\n",
      "LOG-LOSS: 0.5097006338364162, ROC-AUC: 0.7259529420231307                       \n",
      "SPACE:                                                                          \n",
      "{'nthread': 1, 'subsample': 0.5, 'max_depth': 6, 'num_round': 20, 'min_child_weight': 50.0, 'colsample_bytree': 0.5, 'featuresCol': 'features', 'objective': 'binary:logistic', 'nworkers': 4, 'predictionCol': 'prediction', 'silent': 0, 'eta': 0.15, 'gamma': 0.9, 'labelCol': 'label', 'eval_metric': 'logloss'}\n",
      "LOG-LOSS: 0.509184659051829, ROC-AUC: 0.7265658040335055                        \n",
      "SPACE:                                                                          \n",
      "{'nthread': 1, 'subsample': 1.0, 'max_depth': 6, 'num_round': 20, 'min_child_weight': 50.0, 'colsample_bytree': 0.8, 'featuresCol': 'features', 'objective': 'binary:logistic', 'nworkers': 4, 'predictionCol': 'prediction', 'silent': 0, 'eta': 0.15, 'gamma': 0.9, 'labelCol': 'label', 'eval_metric': 'logloss'}\n",
      "LOG-LOSS: 0.5088079039294634, ROC-AUC: 0.7265865269837744                      \n",
      "SPACE:                                                                          \n",
      "{'nthread': 1, 'subsample': 0.2, 'max_depth': 6, 'num_round': 20, 'min_child_weight': 50.0, 'colsample_bytree': 0.8, 'featuresCol': 'features', 'objective': 'binary:logistic', 'nworkers': 4, 'predictionCol': 'prediction', 'silent': 0, 'eta': 0.15, 'gamma': 0.9, 'labelCol': 'label', 'eval_metric': 'logloss'}\n",
      "LOG-LOSS: 0.508949723449994, ROC-AUC: 0.7265205025726676                        \n",
      "SPACE:                                                                          \n",
      "{'nthread': 1, 'subsample': 0.5, 'max_depth': 6, 'num_round': 20, 'min_child_weight': 50.0, 'colsample_bytree': 0.5, 'featuresCol': 'features', 'objective': 'binary:logistic', 'nworkers': 4, 'predictionCol': 'prediction', 'silent': 0, 'eta': 0.15, 'gamma': 0.9, 'labelCol': 'label', 'eval_metric': 'logloss'}\n",
      "LOG-LOSS: 0.5091527769620854, ROC-AUC: 0.7267068273794035                       \n",
      "SPACE:                                                                          \n",
      "{'nthread': 1, 'subsample': 0.8, 'max_depth': 6, 'num_round': 20, 'min_child_weight': 50.0, 'colsample_bytree': 0.2, 'featuresCol': 'features', 'objective': 'binary:logistic', 'nworkers': 4, 'predictionCol': 'prediction', 'silent': 0, 'eta': 0.15, 'gamma': 0.9, 'labelCol': 'label', 'eval_metric': 'logloss'}\n",
      "LOG-LOSS: 0.5133379223338451, ROC-AUC: 0.7230864334368065                       \n",
      "SPACE:                                                                          \n",
      "{'nthread': 1, 'subsample': 0.2, 'max_depth': 6, 'num_round': 20, 'min_child_weight': 50.0, 'colsample_bytree': 0.2, 'featuresCol': 'features', 'objective': 'binary:logistic', 'nworkers': 4, 'predictionCol': 'prediction', 'silent': 0, 'eta': 0.15, 'gamma': 0.9, 'labelCol': 'label', 'eval_metric': 'logloss'}\n",
      "LOG-LOSS: 0.5140515149634511, ROC-AUC: 0.7219041159269679                       \n",
      "SPACE:                                                                          \n",
      "{'nthread': 1, 'subsample': 1.0, 'max_depth': 6, 'num_round': 20, 'min_child_weight': 50.0, 'colsample_bytree': 1.0, 'featuresCol': 'features', 'objective': 'binary:logistic', 'nworkers': 4, 'predictionCol': 'prediction', 'silent': 0, 'eta': 0.15, 'gamma': 0.9, 'labelCol': 'label', 'eval_metric': 'logloss'}\n",
      "LOG-LOSS: 0.5084396404785212, ROC-AUC: 0.7270512143042938                       \n",
      "SPACE:                                                                          \n",
      "{'nthread': 1, 'subsample': 0.5, 'max_depth': 6, 'num_round': 20, 'min_child_weight': 50.0, 'colsample_bytree': 1.0, 'featuresCol': 'features', 'objective': 'binary:logistic', 'nworkers': 4, 'predictionCol': 'prediction', 'silent': 0, 'eta': 0.15, 'gamma': 0.9, 'labelCol': 'label', 'eval_metric': 'logloss'}\n",
      "LOG-LOSS: 0.5085499597678368, ROC-AUC: 0.7267636637350037                       \n",
      "SPACE:                                                                           \n",
      "{'nthread': 1, 'subsample': 0.5, 'max_depth': 6, 'num_round': 20, 'min_child_weight': 50.0, 'colsample_bytree': 0.2, 'featuresCol': 'features', 'objective': 'binary:logistic', 'nworkers': 4, 'predictionCol': 'prediction', 'silent': 0, 'eta': 0.15, 'gamma': 0.9, 'labelCol': 'label', 'eval_metric': 'logloss'}\n",
      "LOG-LOSS: 0.5160632402076026, ROC-AUC: 0.7214970365690783                        \n",
      "SPACE:                                                                           \n",
      "{'nthread': 1, 'subsample': 0.2, 'max_depth': 6, 'num_round': 20, 'min_child_weight': 50.0, 'colsample_bytree': 1.0, 'featuresCol': 'features', 'objective': 'binary:logistic', 'nworkers': 4, 'predictionCol': 'prediction', 'silent': 0, 'eta': 0.15, 'gamma': 0.9, 'labelCol': 'label', 'eval_metric': 'logloss'}\n",
      "LOG-LOSS: 0.5087879845277432, ROC-AUC: 0.726681205494022                         \n",
      "SPACE:                                                                           \n",
      "{'nthread': 1, 'subsample': 0.2, 'max_depth': 6, 'num_round': 20, 'min_child_weight': 50.0, 'colsample_bytree': 0.5, 'featuresCol': 'features', 'objective': 'binary:logistic', 'nworkers': 4, 'predictionCol': 'prediction', 'silent': 0, 'eta': 0.15, 'gamma': 0.9, 'labelCol': 'label', 'eval_metric': 'logloss'}\n",
      "LOG-LOSS: 0.5096002222394543, ROC-AUC: 0.7261173150468784                        \n",
      "SPACE:                                                                           \n",
      "{'nthread': 1, 'subsample': 0.5, 'max_depth': 6, 'num_round': 20, 'min_child_weight': 50.0, 'colsample_bytree': 0.2, 'featuresCol': 'features', 'objective': 'binary:logistic', 'nworkers': 4, 'predictionCol': 'prediction', 'silent': 0, 'eta': 0.15, 'gamma': 0.9, 'labelCol': 'label', 'eval_metric': 'logloss'}\n",
      "LOG-LOSS: 0.51608242281445, ROC-AUC: 0.7214731217782101                          \n",
      "SPACE:                                                                           \n",
      "{'nthread': 1, 'subsample': 0.5, 'max_depth': 6, 'num_round': 20, 'min_child_weight': 50.0, 'colsample_bytree': 1.0, 'featuresCol': 'features', 'objective': 'binary:logistic', 'nworkers': 4, 'predictionCol': 'prediction', 'silent': 0, 'eta': 0.15, 'gamma': 0.9, 'labelCol': 'label', 'eval_metric': 'logloss'}\n",
      "LOG-LOSS: 0.5084921997034171, ROC-AUC: 0.7268766463540448                        \n",
      "SPACE:                                                                           \n",
      "{'nthread': 1, 'subsample': 1.0, 'max_depth': 6, 'num_round': 20, 'min_child_weight': 50.0, 'colsample_bytree': 1.0, 'featuresCol': 'features', 'objective': 'binary:logistic', 'nworkers': 4, 'predictionCol': 'prediction', 'silent': 0, 'eta': 0.15, 'gamma': 0.9, 'labelCol': 'label', 'eval_metric': 'logloss'}\n",
      "LOG-LOSS: 0.5084779369305112, ROC-AUC: 0.7271076660551258                        \n",
      "SPACE:                                                                           \n",
      "{'nthread': 1, 'subsample': 0.2, 'max_depth': 6, 'num_round': 20, 'min_child_weight': 50.0, 'colsample_bytree': 0.2, 'featuresCol': 'features', 'objective': 'binary:logistic', 'nworkers': 4, 'predictionCol': 'prediction', 'silent': 0, 'eta': 0.15, 'gamma': 0.9, 'labelCol': 'label', 'eval_metric': 'logloss'}\n",
      "LOG-LOSS: 0.5140515149634511, ROC-AUC: 0.7219041159269648                        \n",
      "SPACE:                                                                           \n",
      "{'nthread': 1, 'subsample': 0.5, 'max_depth': 6, 'num_round': 20, 'min_child_weight': 50.0, 'colsample_bytree': 0.5, 'featuresCol': 'features', 'objective': 'binary:logistic', 'nworkers': 4, 'predictionCol': 'prediction', 'silent': 0, 'eta': 0.15, 'gamma': 0.9, 'labelCol': 'label', 'eval_metric': 'logloss'}\n"
     ]
    },
    {
     "name": "stdout",
     "output_type": "stream",
     "text": [
      "LOG-LOSS: 0.5093938333272552, ROC-AUC: 0.7261365071572602                        \n",
      "SPACE:                                                                           \n",
      "{'nthread': 1, 'subsample': 1.0, 'max_depth': 6, 'num_round': 20, 'min_child_weight': 50.0, 'colsample_bytree': 0.8, 'featuresCol': 'features', 'objective': 'binary:logistic', 'nworkers': 4, 'predictionCol': 'prediction', 'silent': 0, 'eta': 0.15, 'gamma': 0.9, 'labelCol': 'label', 'eval_metric': 'logloss'}\n",
      "LOG-LOSS: 0.5086945133229195, ROC-AUC: 0.7268144996220817                        \n",
      "SPACE:                                                                           \n",
      "{'nthread': 1, 'subsample': 0.5, 'max_depth': 6, 'num_round': 20, 'min_child_weight': 50.0, 'colsample_bytree': 0.8, 'featuresCol': 'features', 'objective': 'binary:logistic', 'nworkers': 4, 'predictionCol': 'prediction', 'silent': 0, 'eta': 0.15, 'gamma': 0.9, 'labelCol': 'label', 'eval_metric': 'logloss'}\n",
      "LOG-LOSS: 0.508725493093763, ROC-AUC: 0.7268035132898766                         \n",
      "100%|██████████| 20/20 [11:53<00:00, 35.68s/trial, best loss: 0.5084396404785212]\n",
      "CPU times: user 2.73 s, sys: 429 ms, total: 3.16 s\n",
      "Wall time: 11min 53s\n"
     ]
    }
   ],
   "source": [
    "%%time\n",
    "\n",
    "subsample_choice = [.2, .5, .8, 1.]\n",
    "colsample_bytree_choice = [.2, .5, .8, 1.]\n",
    "\n",
    "space = {\n",
    "    # Optimize\n",
    "    'subsample': hp.choice('subsample', subsample_choice),\n",
    "    'colsample_bytree': hp.choice('colsample_bytree', colsample_bytree_choice),\n",
    "    \n",
    "    # Fixed    \n",
    "    'num_round': baseline_params['num_round'],\n",
    "    'eta': baseline_params['eta'],\n",
    "    'max_depth': baseline_params['max_depth'],\n",
    "    'min_child_weight': baseline_params['min_child_weight'],\n",
    "    'gamma': baseline_params['gamma'],\n",
    "    \n",
    "    **static_params\n",
    "}\n",
    "\n",
    "\n",
    "trials_sample = Trials()\n",
    "best_sample = fmin(fn=objective,\n",
    "            space=space,\n",
    "            algo=tpe.suggest,\n",
    "            max_evals=20,\n",
    "            trials=trials_sample)"
   ]
  },
  {
   "cell_type": "code",
   "execution_count": 51,
   "metadata": {},
   "outputs": [
    {
     "data": {
      "text/plain": [
       "{'colsample_bytree': 3, 'subsample': 3}"
      ]
     },
     "execution_count": 51,
     "metadata": {},
     "output_type": "execute_result"
    }
   ],
   "source": [
    "best_sample"
   ]
  },
  {
   "cell_type": "markdown",
   "metadata": {},
   "source": [
    "### Tune regularization parameters\n",
    "\n",
    "> Tune regularization parameters (lambda, alpha) for xgboost which can help reduce model complexity and enhance performance."
   ]
  },
  {
   "cell_type": "code",
   "execution_count": 54,
   "metadata": {
    "scrolled": true
   },
   "outputs": [
    {
     "name": "stdout",
     "output_type": "stream",
     "text": [
      "SPACE:                                                \n",
      "{'nthread': 1, 'subsample': 0.9, 'eval_metric': 'logloss', 'featuresCol': 'features', 'num_round': 20, 'min_child_weight': 50.0, 'lambda': 10.0, 'colsample_bytree': 0.9, 'alpha': 0.5, 'objective': 'binary:logistic', 'nworkers': 4, 'predictionCol': 'prediction', 'silent': 0, 'eta': 0.15, 'gamma': 0.9, 'max_depth': 6, 'labelCol': 'label'}\n",
      "LOG-LOSS: 0.5086635632729125, ROC-AUC: 0.726921885712003\n",
      "SPACE:                                                                          \n",
      "{'nthread': 1, 'subsample': 0.9, 'eval_metric': 'logloss', 'featuresCol': 'features', 'num_round': 20, 'min_child_weight': 50.0, 'lambda': 1.0, 'colsample_bytree': 0.9, 'alpha': 10.0, 'objective': 'binary:logistic', 'nworkers': 4, 'predictionCol': 'prediction', 'silent': 0, 'eta': 0.15, 'gamma': 0.9, 'max_depth': 6, 'labelCol': 'label'}\n",
      "LOG-LOSS: 0.5087141799029173, ROC-AUC: 0.7266753415280959                       \n",
      "SPACE:                                                                          \n",
      "{'nthread': 1, 'subsample': 0.9, 'eval_metric': 'logloss', 'featuresCol': 'features', 'num_round': 20, 'min_child_weight': 50.0, 'lambda': 0.5, 'colsample_bytree': 0.9, 'alpha': 0.5, 'objective': 'binary:logistic', 'nworkers': 4, 'predictionCol': 'prediction', 'silent': 0, 'eta': 0.15, 'gamma': 0.9, 'max_depth': 6, 'labelCol': 'label'}\n",
      "LOG-LOSS: 0.5085618304488979, ROC-AUC: 0.7268901777442921                       \n",
      "SPACE:                                                                          \n",
      "{'nthread': 1, 'subsample': 0.9, 'eval_metric': 'logloss', 'featuresCol': 'features', 'num_round': 20, 'min_child_weight': 50.0, 'lambda': 1.0, 'colsample_bytree': 0.9, 'alpha': 0.1, 'objective': 'binary:logistic', 'nworkers': 4, 'predictionCol': 'prediction', 'silent': 0, 'eta': 0.15, 'gamma': 0.9, 'max_depth': 6, 'labelCol': 'label'}\n",
      "LOG-LOSS: 0.5085606822504024, ROC-AUC: 0.7268875063150064                       \n",
      "SPACE:                                                                          \n",
      "{'nthread': 1, 'subsample': 0.9, 'eval_metric': 'logloss', 'featuresCol': 'features', 'num_round': 20, 'min_child_weight': 50.0, 'lambda': 0.0, 'colsample_bytree': 0.9, 'alpha': 1.0, 'objective': 'binary:logistic', 'nworkers': 4, 'predictionCol': 'prediction', 'silent': 0, 'eta': 0.15, 'gamma': 0.9, 'max_depth': 6, 'labelCol': 'label'}\n",
      "LOG-LOSS: 0.5086229318761697, ROC-AUC: 0.7267541223968593                       \n",
      "SPACE:                                                                          \n",
      "{'nthread': 1, 'subsample': 0.9, 'eval_metric': 'logloss', 'featuresCol': 'features', 'num_round': 20, 'min_child_weight': 50.0, 'lambda': 0.5, 'colsample_bytree': 0.9, 'alpha': 0.5, 'objective': 'binary:logistic', 'nworkers': 4, 'predictionCol': 'prediction', 'silent': 0, 'eta': 0.15, 'gamma': 0.9, 'max_depth': 6, 'labelCol': 'label'}\n",
      "LOG-LOSS: 0.5086717243147432, ROC-AUC: 0.7268136751154621                       \n",
      "SPACE:                                                                          \n",
      "{'nthread': 1, 'subsample': 0.9, 'eval_metric': 'logloss', 'featuresCol': 'features', 'num_round': 20, 'min_child_weight': 50.0, 'lambda': 1.0, 'colsample_bytree': 0.9, 'alpha': 0.5, 'objective': 'binary:logistic', 'nworkers': 4, 'predictionCol': 'prediction', 'silent': 0, 'eta': 0.15, 'gamma': 0.9, 'max_depth': 6, 'labelCol': 'label'}\n",
      "LOG-LOSS: 0.5087727638695928, ROC-AUC: 0.7267843113574944                       \n",
      "SPACE:                                                                          \n",
      "{'nthread': 1, 'subsample': 0.9, 'eval_metric': 'logloss', 'featuresCol': 'features', 'num_round': 20, 'min_child_weight': 50.0, 'lambda': 1.0, 'colsample_bytree': 0.9, 'alpha': 0.1, 'objective': 'binary:logistic', 'nworkers': 4, 'predictionCol': 'prediction', 'silent': 0, 'eta': 0.15, 'gamma': 0.9, 'max_depth': 6, 'labelCol': 'label'}\n",
      "LOG-LOSS: 0.5085606822504024, ROC-AUC: 0.7268875063150056                       \n",
      "SPACE:                                                                          \n",
      "{'nthread': 1, 'subsample': 0.9, 'eval_metric': 'logloss', 'featuresCol': 'features', 'num_round': 20, 'min_child_weight': 50.0, 'lambda': 0.1, 'colsample_bytree': 0.9, 'alpha': 1.0, 'objective': 'binary:logistic', 'nworkers': 4, 'predictionCol': 'prediction', 'silent': 0, 'eta': 0.15, 'gamma': 0.9, 'max_depth': 6, 'labelCol': 'label'}\n",
      "LOG-LOSS: 0.5086690906985145, ROC-AUC: 0.7268692711922335                       \n",
      "SPACE:                                                                          \n",
      "{'nthread': 1, 'subsample': 0.9, 'eval_metric': 'logloss', 'featuresCol': 'features', 'num_round': 20, 'min_child_weight': 50.0, 'lambda': 10.0, 'colsample_bytree': 0.9, 'alpha': 1.0, 'objective': 'binary:logistic', 'nworkers': 4, 'predictionCol': 'prediction', 'silent': 0, 'eta': 0.15, 'gamma': 0.9, 'max_depth': 6, 'labelCol': 'label'}\n",
      "LOG-LOSS: 0.5086389416084212, ROC-AUC: 0.7269652894387307                       \n",
      "SPACE:                                                                           \n",
      "{'nthread': 1, 'subsample': 0.9, 'eval_metric': 'logloss', 'featuresCol': 'features', 'num_round': 20, 'min_child_weight': 50.0, 'lambda': 0.0, 'colsample_bytree': 0.9, 'alpha': 1.0, 'objective': 'binary:logistic', 'nworkers': 4, 'predictionCol': 'prediction', 'silent': 0, 'eta': 0.15, 'gamma': 0.9, 'max_depth': 6, 'labelCol': 'label'}\n",
      "LOG-LOSS: 0.5086229318761697, ROC-AUC: 0.7267541223968601                        \n",
      "SPACE:                                                                           \n",
      "{'nthread': 1, 'subsample': 0.9, 'eval_metric': 'logloss', 'featuresCol': 'features', 'num_round': 20, 'min_child_weight': 50.0, 'lambda': 10.0, 'colsample_bytree': 0.9, 'alpha': 10.0, 'objective': 'binary:logistic', 'nworkers': 4, 'predictionCol': 'prediction', 'silent': 0, 'eta': 0.15, 'gamma': 0.9, 'max_depth': 6, 'labelCol': 'label'}\n",
      "LOG-LOSS: 0.5086358412642195, ROC-AUC: 0.7268627452080425                        \n",
      "SPACE:                                                                           \n",
      "{'nthread': 1, 'subsample': 0.9, 'eval_metric': 'logloss', 'featuresCol': 'features', 'num_round': 20, 'min_child_weight': 50.0, 'lambda': 10.0, 'colsample_bytree': 0.9, 'alpha': 0.1, 'objective': 'binary:logistic', 'nworkers': 4, 'predictionCol': 'prediction', 'silent': 0, 'eta': 0.15, 'gamma': 0.9, 'max_depth': 6, 'labelCol': 'label'}\n",
      "LOG-LOSS: 0.5085571149465579, ROC-AUC: 0.7270747351324214                        \n",
      "SPACE:                                                                           \n",
      "{'nthread': 1, 'subsample': 0.9, 'eval_metric': 'logloss', 'featuresCol': 'features', 'num_round': 20, 'min_child_weight': 50.0, 'lambda': 10.0, 'colsample_bytree': 0.9, 'alpha': 10.0, 'objective': 'binary:logistic', 'nworkers': 4, 'predictionCol': 'prediction', 'silent': 0, 'eta': 0.15, 'gamma': 0.9, 'max_depth': 6, 'labelCol': 'label'}\n",
      "LOG-LOSS: 0.508732058382988, ROC-AUC: 0.7268599451646973                         \n",
      "SPACE:                                                                           \n",
      "{'nthread': 1, 'subsample': 0.9, 'eval_metric': 'logloss', 'featuresCol': 'features', 'num_round': 20, 'min_child_weight': 50.0, 'lambda': 0.5, 'colsample_bytree': 0.9, 'alpha': 0.5, 'objective': 'binary:logistic', 'nworkers': 4, 'predictionCol': 'prediction', 'silent': 0, 'eta': 0.15, 'gamma': 0.9, 'max_depth': 6, 'labelCol': 'label'}\n",
      "LOG-LOSS: 0.5086075707590896, ROC-AUC: 0.7269535382279515                        \n",
      "SPACE:                                                                           \n",
      "{'nthread': 1, 'subsample': 0.9, 'eval_metric': 'logloss', 'featuresCol': 'features', 'num_round': 20, 'min_child_weight': 50.0, 'lambda': 0.1, 'colsample_bytree': 0.9, 'alpha': 1.0, 'objective': 'binary:logistic', 'nworkers': 4, 'predictionCol': 'prediction', 'silent': 0, 'eta': 0.15, 'gamma': 0.9, 'max_depth': 6, 'labelCol': 'label'}\n",
      "LOG-LOSS: 0.5085625206151285, ROC-AUC: 0.7269743484161455                        \n",
      "SPACE:                                                                           \n",
      "{'nthread': 1, 'subsample': 0.9, 'eval_metric': 'logloss', 'featuresCol': 'features', 'num_round': 20, 'min_child_weight': 50.0, 'lambda': 0.5, 'colsample_bytree': 0.9, 'alpha': 0.0, 'objective': 'binary:logistic', 'nworkers': 4, 'predictionCol': 'prediction', 'silent': 0, 'eta': 0.15, 'gamma': 0.9, 'max_depth': 6, 'labelCol': 'label'}\n"
     ]
    },
    {
     "name": "stdout",
     "output_type": "stream",
     "text": [
      "LOG-LOSS: 0.5084905324758686, ROC-AUC: 0.7269608578606717                        \n",
      "SPACE:                                                                           \n",
      "{'nthread': 1, 'subsample': 0.9, 'eval_metric': 'logloss', 'featuresCol': 'features', 'num_round': 20, 'min_child_weight': 50.0, 'lambda': 1.0, 'colsample_bytree': 0.9, 'alpha': 0.1, 'objective': 'binary:logistic', 'nworkers': 4, 'predictionCol': 'prediction', 'silent': 0, 'eta': 0.15, 'gamma': 0.9, 'max_depth': 6, 'labelCol': 'label'}\n",
      "LOG-LOSS: 0.5085397813957346, ROC-AUC: 0.7270032856518374                        \n",
      "SPACE:                                                                           \n",
      "{'nthread': 1, 'subsample': 0.9, 'eval_metric': 'logloss', 'featuresCol': 'features', 'num_round': 20, 'min_child_weight': 50.0, 'lambda': 1.0, 'colsample_bytree': 0.9, 'alpha': 10.0, 'objective': 'binary:logistic', 'nworkers': 4, 'predictionCol': 'prediction', 'silent': 0, 'eta': 0.15, 'gamma': 0.9, 'max_depth': 6, 'labelCol': 'label'}\n",
      "LOG-LOSS: 0.50865555467177, ROC-AUC: 0.7269807232034072                          \n",
      "SPACE:                                                                           \n",
      "{'nthread': 1, 'subsample': 0.9, 'eval_metric': 'logloss', 'featuresCol': 'features', 'num_round': 20, 'min_child_weight': 50.0, 'lambda': 10.0, 'colsample_bytree': 0.9, 'alpha': 0.5, 'objective': 'binary:logistic', 'nworkers': 4, 'predictionCol': 'prediction', 'silent': 0, 'eta': 0.15, 'gamma': 0.9, 'max_depth': 6, 'labelCol': 'label'}\n",
      "LOG-LOSS: 0.5085298744705334, ROC-AUC: 0.726941273489001                         \n",
      "100%|██████████| 20/20 [13:46<00:00, 41.35s/trial, best loss: 0.5084905324758686]\n",
      "CPU times: user 2.7 s, sys: 470 ms, total: 3.17 s\n",
      "Wall time: 13min 46s\n"
     ]
    }
   ],
   "source": [
    "%%time\n",
    "\n",
    "alpha_choice = [0., 0.1, 0.5, 1., 10.]\n",
    "lambda_choice = [0., 0.1, 0.5, 1., 10.]\n",
    "\n",
    "space = {\n",
    "    # Optimize\n",
    "    'alpha': hp.choice('alpha', alpha_choice),\n",
    "    'reg_lambda': hp.choice('lambda', lambda_choice),\n",
    "    \n",
    "    # Fixed    \n",
    "    'num_round': baseline_params['num_round'],\n",
    "    'eta': baseline_params['eta'],\n",
    "    'max_depth': baseline_params['max_depth'],\n",
    "    'min_child_weight': baseline_params['min_child_weight'],\n",
    "    'subsample': baseline_params['subsample'],\n",
    "    'gamma': baseline_params['gamma'],\n",
    "    'colsample_bytree': baseline_params['colsample_bytree'],\n",
    "    \n",
    "    **static_params\n",
    "}\n",
    "\n",
    "\n",
    "trials_reg = Trials()\n",
    "best_reg = fmin(fn=objective,\n",
    "            space=space,\n",
    "            algo=tpe.suggest,\n",
    "            max_evals=20,\n",
    "            trials=trials_reg)"
   ]
  },
  {
   "cell_type": "code",
   "execution_count": 55,
   "metadata": {},
   "outputs": [
    {
     "data": {
      "text/plain": [
       "{'alpha': 0, 'lambda': 2}"
      ]
     },
     "execution_count": 55,
     "metadata": {},
     "output_type": "execute_result"
    }
   ],
   "source": [
    "best_reg"
   ]
  },
  {
   "cell_type": "markdown",
   "metadata": {},
   "source": [
    "### Lower the learning rate and decide the optimal parameters"
   ]
  },
  {
   "cell_type": "code",
   "execution_count": null,
   "metadata": {},
   "outputs": [],
   "source": [
    "######################################\n",
    "######### YOUR CODE HERE #############\n",
    "######################################"
   ]
  },
  {
   "cell_type": "markdown",
   "metadata": {},
   "source": [
    "---\n",
    "## LogisticRegression Tuning\n",
    "\n",
    "Подберем гиперпараметры для логрега из предыдущих практик"
   ]
  },
  {
   "cell_type": "code",
   "execution_count": 70,
   "metadata": {},
   "outputs": [],
   "source": [
    "from pyspark.ml.classification import LogisticRegression\n",
    "\n",
    "\n",
    "def objective_lr(space):\n",
    "    estimator = LogisticRegression(regParam=space['regParam'], elasticNetParam=space['elasticNetParam'])\n",
    "    success = False\n",
    "    attempts = 0\n",
    "    model = None\n",
    "    while not success and attempts < 2:\n",
    "        try:\n",
    "            model = estimator.fit(train_df, {'lr': space['lr']})\n",
    "            success = True\n",
    "        except Exception as e:\n",
    "            attempts += 1\n",
    "            print(e)\n",
    "            print('Try again')\n",
    "        \n",
    "    log_loss = logloss(model, val_df, probabilities_col='probability')\n",
    "    roc_auc = rocauc(model, val_df, probabilities_col='probability')\n",
    "    \n",
    "    print('LOG-LOSS: {}, ROC-AUC: {}'.format(log_loss, roc_auc))\n",
    "\n",
    "    return {'loss': log_loss, 'rocauc': roc_auc, 'status': STATUS_OK }"
   ]
  },
  {
   "cell_type": "code",
   "execution_count": 71,
   "metadata": {},
   "outputs": [
    {
     "name": "stdout",
     "output_type": "stream",
     "text": [
      "LOG-LOSS: 0.5680310722807922, ROC-AUC: 0.6998465300457369\n",
      "LOG-LOSS: 0.5555410648830319, ROC-AUC: 0.7004408305645256                       \n",
      "LOG-LOSS: 0.57302418343717, ROC-AUC: 0.5                                        \n",
      "LOG-LOSS: 0.57302418343717, ROC-AUC: 0.5                                        \n",
      "LOG-LOSS: 0.57302418343717, ROC-AUC: 0.5                                        \n",
      "LOG-LOSS: 0.57302418343717, ROC-AUC: 0.5                                        \n",
      "LOG-LOSS: 0.5521286398496515, ROC-AUC: 0.6823705962744437                       \n",
      "LOG-LOSS: 0.57302418343717, ROC-AUC: 0.5                                        \n",
      "LOG-LOSS: 0.5725193228907673, ROC-AUC: 0.6056175700978408                       \n",
      "LOG-LOSS: 0.5286990365485306, ROC-AUC: 0.7035621473488969                       \n",
      "LOG-LOSS: 0.57302418343717, ROC-AUC: 0.5                                         \n",
      "LOG-LOSS: 0.57302418343717, ROC-AUC: 0.5                                         \n",
      "LOG-LOSS: 0.5286990365485306, ROC-AUC: 0.703562147348898                         \n",
      "LOG-LOSS: 0.5286990365485306, ROC-AUC: 0.7035621473488971                        \n",
      "LOG-LOSS: 0.5286990365485306, ROC-AUC: 0.7035621473488967                        \n",
      "LOG-LOSS: 0.57302418343717, ROC-AUC: 0.5                                         \n",
      "LOG-LOSS: 0.57302418343717, ROC-AUC: 0.5                                         \n",
      "LOG-LOSS: 0.57302418343717, ROC-AUC: 0.5                                         \n",
      "LOG-LOSS: 0.571813628583556, ROC-AUC: 0.6056175700978408                         \n",
      "LOG-LOSS: 0.57302418343717, ROC-AUC: 0.5                                         \n",
      "100%|██████████| 20/20 [08:02<00:00, 24.11s/trial, best loss: 0.5286990365485306]\n"
     ]
    }
   ],
   "source": [
    "lr_choice = [0.0001, 0.001, 0.01, 1.]\n",
    "regParam_choice = [0., .1, .4, 1., 5.]\n",
    "elasticNetParam_choice = [0., .2, .5, .8, 1.]\n",
    "\n",
    "space = {\n",
    "    'lr': hp.choice('lr', lr_choice),\n",
    "    'regParam': hp.choice('regParam', regParam_choice),\n",
    "    'elasticNetParam': hp.choice('elasticNetParam', elasticNetParam_choice)\n",
    "}\n",
    "\n",
    "trials_lr = Trials()\n",
    "best_lr = fmin(fn=objective_lr,\n",
    "            space=space,\n",
    "            algo=tpe.suggest,\n",
    "            max_evals=20,\n",
    "            trials=trials_lr)"
   ]
  },
  {
   "cell_type": "code",
   "execution_count": 72,
   "metadata": {},
   "outputs": [
    {
     "data": {
      "text/plain": [
       "{'elasticNetParam': 4, 'lr': 3, 'regParam': 0}"
      ]
     },
     "execution_count": 72,
     "metadata": {},
     "output_type": "execute_result"
    }
   ],
   "source": [
    "best_lr"
   ]
  },
  {
   "cell_type": "markdown",
   "metadata": {},
   "source": [
    "---\n",
    "## Optional [MongoTrials](https://hyperopt.github.io/hyperopt/scaleout/mongodb/)\n",
    "\n",
    "> For parallel search, hyperopt includes a MongoTrials implementation that supports asynchronous updates.\n",
    "\n",
    "**TLDR** Преимущества использования `MongoTrials`:\n",
    "* `MongoTrials` позволяет параллельно запускать несколько вычислений целевой функции\n",
    "* Динамический уровень параллелизма - можно добавлять/удалять воркеров, которые вычисляют целевую функцию\n",
    "* Все результаты сохраняются в БД - история запусков никуда не потеряется\n",
    "\n",
    "*За выполнение данного задания можно получить дополнительно +0.4 к итоговому баллу*"
   ]
  },
  {
   "cell_type": "markdown",
   "metadata": {},
   "source": [
    "### XGBoost Tuning"
   ]
  },
  {
   "cell_type": "code",
   "execution_count": null,
   "metadata": {},
   "outputs": [],
   "source": [
    "######################################\n",
    "######### YOUR CODE HERE #############\n",
    "######################################"
   ]
  },
  {
   "cell_type": "markdown",
   "metadata": {},
   "source": [
    "# Results\n",
    "\n",
    "Подведем итоги.\n",
    "\n",
    "Обучите модели с найденными (оптимальными) гиперпараметрами и сделайте справнение на отложенной выборке"
   ]
  },
  {
   "cell_type": "code",
   "execution_count": 76,
   "metadata": {},
   "outputs": [],
   "source": [
    "estimator = XGBoostEstimator(**{\n",
    "    'alpha': alpha_choice[best_reg['alpha']],\n",
    "    'reg_lambda': lambda_choice[best_reg['lambda']],\n",
    "    'num_round': num_round_choice[best['num_round']],\n",
    "    'eta': eta_choice[best['eta']],\n",
    "    'max_depth': max_depth_choice[best_depth_child_weight['max_depth']],\n",
    "    'min_child_weight': min_child_weight_choice[best_depth_child_weight['min_child_weight']],\n",
    "    'subsample': subsample_choice[best_sample['subsample']],\n",
    "    'gamma': gamma_choice[best_gamma['gamma']],\n",
    "    'colsample_bytree': colsample_bytree_choice[best_sample['colsample_bytree']],   \n",
    "    \n",
    "    **static_params\n",
    "})\n",
    "model = estimator.fit(train_df)\n",
    "\n",
    "xgb_opt_metrics = {\n",
    "    'logloss': logloss(model, val_df, probabilities_col='probabilities'), \n",
    "    'rocauc': rocauc(model, val_df, probabilities_col='probabilities')\n",
    "}\n",
    "all_metrics['xgb_opt'] = xgb_opt_metrics"
   ]
  },
  {
   "cell_type": "markdown",
   "metadata": {},
   "source": [
    "Итоговая таблица"
   ]
  },
  {
   "cell_type": "code",
   "execution_count": 77,
   "metadata": {},
   "outputs": [
    {
     "data": {
      "text/html": [
       "<div>\n",
       "<style scoped>\n",
       "    .dataframe tbody tr th:only-of-type {\n",
       "        vertical-align: middle;\n",
       "    }\n",
       "\n",
       "    .dataframe tbody tr th {\n",
       "        vertical-align: top;\n",
       "    }\n",
       "\n",
       "    .dataframe thead th {\n",
       "        text-align: right;\n",
       "    }\n",
       "</style>\n",
       "<table border=\"1\" class=\"dataframe\">\n",
       "  <thead>\n",
       "    <tr style=\"text-align: right;\">\n",
       "      <th></th>\n",
       "      <th>metric</th>\n",
       "      <th>xgb_opt ate %</th>\n",
       "    </tr>\n",
       "  </thead>\n",
       "  <tbody>\n",
       "    <tr>\n",
       "      <th>0</th>\n",
       "      <td>rocauc</td>\n",
       "      <td>0.773141</td>\n",
       "    </tr>\n",
       "    <tr>\n",
       "      <th>1</th>\n",
       "      <td>logloss</td>\n",
       "      <td>-1.575764</td>\n",
       "    </tr>\n",
       "  </tbody>\n",
       "</table>\n",
       "</div>"
      ],
      "text/plain": [
       "    metric  xgb_opt ate %\n",
       "0   rocauc       0.773141\n",
       "1  logloss      -1.575764"
      ]
     },
     "execution_count": 77,
     "metadata": {},
     "output_type": "execute_result"
    }
   ],
   "source": [
    "get_ate(all_metrics, CONTROL_NAME)"
   ]
  }
 ],
 "metadata": {
  "kernelspec": {
   "display_name": "Python 3",
   "language": "python",
   "name": "python3"
  },
  "language_info": {
   "codemirror_mode": {
    "name": "ipython",
    "version": 3
   },
   "file_extension": ".py",
   "mimetype": "text/x-python",
   "name": "python",
   "nbconvert_exporter": "python",
   "pygments_lexer": "ipython3",
   "version": "3.5.6"
  },
  "toc": {
   "base_numbering": 1,
   "nav_menu": {},
   "number_sections": true,
   "sideBar": true,
   "skip_h1_title": false,
   "title_cell": "Table of Contents",
   "title_sidebar": "Contents",
   "toc_cell": true,
   "toc_position": {},
   "toc_section_display": true,
   "toc_window_display": true
  }
 },
 "nbformat": 4,
 "nbformat_minor": 2
}
